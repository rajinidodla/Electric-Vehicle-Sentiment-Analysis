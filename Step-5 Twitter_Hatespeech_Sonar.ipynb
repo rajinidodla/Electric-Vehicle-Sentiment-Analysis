{
 "cells": [
  {
   "cell_type": "code",
   "execution_count": 1,
   "metadata": {
    "colab": {
     "base_uri": "https://localhost:8080/"
    },
    "executionInfo": {
     "elapsed": 3849,
     "status": "ok",
     "timestamp": 1628348675823,
     "user": {
      "displayName": "Suresha HP",
      "photoUrl": "https://lh3.googleusercontent.com/a-/AOh14GhDcYnUbnw4-j1oQP34WV3tGEnUDo29hkB1Vthp8oQ=s64",
      "userId": "01744058822138121722"
     },
     "user_tz": -330
    },
    "id": "NVOf3YRZ071B",
    "outputId": "f73ad801-8cf1-4dfa-f288-d29f792cbf39"
   },
   "outputs": [
    {
     "name": "stdout",
     "output_type": "stream",
     "text": [
      "Requirement already satisfied: sonar in c:\\users\\dodlaraj\\appdata\\local\\programs\\python\\python39\\lib\\site-packages (0.5.0)\n",
      "Requirement already satisfied: tqdm in c:\\users\\dodlaraj\\appdata\\local\\programs\\python\\python39\\lib\\site-packages (from sonar) (4.64.1)\n",
      "Requirement already satisfied: colorama in c:\\users\\dodlaraj\\appdata\\local\\programs\\python\\python39\\lib\\site-packages (from tqdm->sonar) (0.4.5)\n",
      "Note: you may need to restart the kernel to use updated packages.\n"
     ]
    },
    {
     "name": "stderr",
     "output_type": "stream",
     "text": [
      "WARNING: You are using pip version 21.1.3; however, version 22.3.1 is available.\n",
      "You should consider upgrading via the 'c:\\users\\dodlaraj\\appdata\\local\\programs\\python\\python39\\python.exe -m pip install --upgrade pip' command.\n"
     ]
    }
   ],
   "source": [
    "pip install sonar"
   ]
  },
  {
   "cell_type": "code",
   "execution_count": 2,
   "metadata": {
    "colab": {
     "base_uri": "https://localhost:8080/"
    },
    "executionInfo": {
     "elapsed": 2837,
     "status": "ok",
     "timestamp": 1628348678652,
     "user": {
      "displayName": "Suresha HP",
      "photoUrl": "https://lh3.googleusercontent.com/a-/AOh14GhDcYnUbnw4-j1oQP34WV3tGEnUDo29hkB1Vthp8oQ=s64",
      "userId": "01744058822138121722"
     },
     "user_tz": -330
    },
    "id": "EY4GZZs01FDo",
    "outputId": "00cdfd5b-9919-407f-b9fd-07fb43f8841c"
   },
   "outputs": [
    {
     "name": "stdout",
     "output_type": "stream",
     "text": [
      "Requirement already satisfied: hatesonar in c:\\users\\dodlaraj\\appdata\\local\\programs\\python\\python39\\lib\\site-packages (0.0.7)\n",
      "Requirement already satisfied: scipy>=1.0.0 in c:\\users\\dodlaraj\\appdata\\local\\programs\\python\\python39\\lib\\site-packages (from hatesonar) (1.9.2)\n",
      "Requirement already satisfied: joblib>=0.16.0 in c:\\users\\dodlaraj\\appdata\\local\\programs\\python\\python39\\lib\\site-packages (from hatesonar) (1.2.0)\n",
      "Requirement already satisfied: pandas>=0.22.0 in c:\\users\\dodlaraj\\appdata\\local\\programs\\python\\python39\\lib\\site-packages (from hatesonar) (1.5.0)\n",
      "Requirement already satisfied: numpy>=1.14.0 in c:\\users\\dodlaraj\\appdata\\local\\programs\\python\\python39\\lib\\site-packages (from hatesonar) (1.23.3)\n",
      "Requirement already satisfied: scikit-learn>=0.19.1 in c:\\users\\dodlaraj\\appdata\\local\\programs\\python\\python39\\lib\\site-packages (from hatesonar) (1.1.2)\n",
      "Requirement already satisfied: python-dateutil>=2.8.1 in c:\\users\\dodlaraj\\appdata\\local\\programs\\python\\python39\\lib\\site-packages (from pandas>=0.22.0->hatesonar) (2.8.2)\n",
      "Requirement already satisfied: pytz>=2020.1 in c:\\users\\dodlaraj\\appdata\\local\\programs\\python\\python39\\lib\\site-packages (from pandas>=0.22.0->hatesonar) (2022.4)\n",
      "Requirement already satisfied: six>=1.5 in c:\\users\\dodlaraj\\appdata\\local\\programs\\python\\python39\\lib\\site-packages (from python-dateutil>=2.8.1->pandas>=0.22.0->hatesonar) (1.16.0)\n",
      "Requirement already satisfied: threadpoolctl>=2.0.0 in c:\\users\\dodlaraj\\appdata\\local\\programs\\python\\python39\\lib\\site-packages (from scikit-learn>=0.19.1->hatesonar) (3.1.0)\n",
      "Note: you may need to restart the kernel to use updated packages.\n"
     ]
    },
    {
     "name": "stderr",
     "output_type": "stream",
     "text": [
      "WARNING: You are using pip version 21.1.3; however, version 22.3.1 is available.\n",
      "You should consider upgrading via the 'c:\\users\\dodlaraj\\appdata\\local\\programs\\python\\python39\\python.exe -m pip install --upgrade pip' command.\n"
     ]
    }
   ],
   "source": [
    "pip install hatesonar"
   ]
  },
  {
   "cell_type": "code",
   "execution_count": 3,
   "metadata": {
    "executionInfo": {
     "elapsed": 714,
     "status": "ok",
     "timestamp": 1628348679362,
     "user": {
      "displayName": "Suresha HP",
      "photoUrl": "https://lh3.googleusercontent.com/a-/AOh14GhDcYnUbnw4-j1oQP34WV3tGEnUDo29hkB1Vthp8oQ=s64",
      "userId": "01744058822138121722"
     },
     "user_tz": -330
    },
    "id": "9XxIz9ziE1QI"
   },
   "outputs": [],
   "source": [
    "import pandas as pd\n",
    "import numpy as np\n",
    "import seaborn as sns\n",
    "import matplotlib.pyplot as plt\n",
    "import numpy as np\n",
    "import _pickle as pickle\n",
    "\n",
    "from hatesonar import Sonar \n",
    "\n",
    "\n",
    "import warnings\n",
    "warnings.filterwarnings('ignore')"
   ]
  },
  {
   "cell_type": "code",
   "execution_count": 4,
   "metadata": {
    "executionInfo": {
     "elapsed": 1025,
     "status": "ok",
     "timestamp": 1628348680381,
     "user": {
      "displayName": "Suresha HP",
      "photoUrl": "https://lh3.googleusercontent.com/a-/AOh14GhDcYnUbnw4-j1oQP34WV3tGEnUDo29hkB1Vthp8oQ=s64",
      "userId": "01744058822138121722"
     },
     "user_tz": -330
    },
    "id": "ikjjSvvsFHY1"
   },
   "outputs": [],
   "source": [
    "# tweets about electric cars\n",
    "df = pd.read_pickle('./sentiment_analysis_vader_results.pkl')\n",
    "df = df[['text', 'negative', 'neutral', 'positive', 'compound', 'sentiment']]"
   ]
  },
  {
   "cell_type": "code",
   "execution_count": 5,
   "metadata": {
    "executionInfo": {
     "elapsed": 36,
     "status": "ok",
     "timestamp": 1628348680383,
     "user": {
      "displayName": "Suresha HP",
      "photoUrl": "https://lh3.googleusercontent.com/a-/AOh14GhDcYnUbnw4-j1oQP34WV3tGEnUDo29hkB1Vthp8oQ=s64",
      "userId": "01744058822138121722"
     },
     "user_tz": -330
    },
    "id": "NnrdCfLmEqBZ"
   },
   "outputs": [],
   "source": [
    "df.reset_index(drop=True, inplace=True)"
   ]
  },
  {
   "cell_type": "code",
   "execution_count": 6,
   "metadata": {
    "colab": {
     "base_uri": "https://localhost:8080/"
    },
    "executionInfo": {
     "elapsed": 34,
     "status": "ok",
     "timestamp": 1628348680384,
     "user": {
      "displayName": "Suresha HP",
      "photoUrl": "https://lh3.googleusercontent.com/a-/AOh14GhDcYnUbnw4-j1oQP34WV3tGEnUDo29hkB1Vthp8oQ=s64",
      "userId": "01744058822138121722"
     },
     "user_tz": -330
    },
    "id": "1WDF2DgIH9Ao",
    "outputId": "5bbdbe26-f957-4999-d372-c7c7e2162a6a"
   },
   "outputs": [
    {
     "data": {
      "text/plain": [
       "(91311, 6)"
      ]
     },
     "execution_count": 6,
     "metadata": {},
     "output_type": "execute_result"
    }
   ],
   "source": [
    "df.shape"
   ]
  },
  {
   "cell_type": "code",
   "execution_count": 7,
   "metadata": {
    "colab": {
     "base_uri": "https://localhost:8080/",
     "height": 204
    },
    "executionInfo": {
     "elapsed": 32,
     "status": "ok",
     "timestamp": 1628348680387,
     "user": {
      "displayName": "Suresha HP",
      "photoUrl": "https://lh3.googleusercontent.com/a-/AOh14GhDcYnUbnw4-j1oQP34WV3tGEnUDo29hkB1Vthp8oQ=s64",
      "userId": "01744058822138121722"
     },
     "user_tz": -330
    },
    "id": "wXgDJkUOH-4P",
    "outputId": "d141cf12-4521-472f-e938-039bf9f4f61d"
   },
   "outputs": [
    {
     "data": {
      "text/html": [
       "<div>\n",
       "<style scoped>\n",
       "    .dataframe tbody tr th:only-of-type {\n",
       "        vertical-align: middle;\n",
       "    }\n",
       "\n",
       "    .dataframe tbody tr th {\n",
       "        vertical-align: top;\n",
       "    }\n",
       "\n",
       "    .dataframe thead th {\n",
       "        text-align: right;\n",
       "    }\n",
       "</style>\n",
       "<table border=\"1\" class=\"dataframe\">\n",
       "  <thead>\n",
       "    <tr style=\"text-align: right;\">\n",
       "      <th></th>\n",
       "      <th>text</th>\n",
       "      <th>negative</th>\n",
       "      <th>neutral</th>\n",
       "      <th>positive</th>\n",
       "      <th>compound</th>\n",
       "      <th>sentiment</th>\n",
       "    </tr>\n",
       "  </thead>\n",
       "  <tbody>\n",
       "    <tr>\n",
       "      <th>0</th>\n",
       "      <td>RT @iot_automotive: 24h round-up. A collection...</td>\n",
       "      <td>0.0</td>\n",
       "      <td>0.624</td>\n",
       "      <td>0.376</td>\n",
       "      <td>0.7206</td>\n",
       "      <td>1</td>\n",
       "    </tr>\n",
       "    <tr>\n",
       "      <th>1</th>\n",
       "      <td>Meet Powderworld: A Lightweight Simulation Env...</td>\n",
       "      <td>0.0</td>\n",
       "      <td>1.000</td>\n",
       "      <td>0.000</td>\n",
       "      <td>0.0000</td>\n",
       "      <td>0</td>\n",
       "    </tr>\n",
       "    <tr>\n",
       "      <th>2</th>\n",
       "      <td>RT @GothamVirtual: #vr #vrgotham #3dvideomotio...</td>\n",
       "      <td>0.0</td>\n",
       "      <td>0.847</td>\n",
       "      <td>0.153</td>\n",
       "      <td>0.4404</td>\n",
       "      <td>1</td>\n",
       "    </tr>\n",
       "    <tr>\n",
       "      <th>3</th>\n",
       "      <td>RT @lidarnews: This research paper investigate...</td>\n",
       "      <td>0.0</td>\n",
       "      <td>0.828</td>\n",
       "      <td>0.172</td>\n",
       "      <td>0.4404</td>\n",
       "      <td>1</td>\n",
       "    </tr>\n",
       "    <tr>\n",
       "      <th>4</th>\n",
       "      <td>RT @guidaautonoma: American drivers are more l...</td>\n",
       "      <td>0.0</td>\n",
       "      <td>0.850</td>\n",
       "      <td>0.150</td>\n",
       "      <td>0.4588</td>\n",
       "      <td>1</td>\n",
       "    </tr>\n",
       "  </tbody>\n",
       "</table>\n",
       "</div>"
      ],
      "text/plain": [
       "                                                text  negative  neutral  \\\n",
       "0  RT @iot_automotive: 24h round-up. A collection...       0.0    0.624   \n",
       "1  Meet Powderworld: A Lightweight Simulation Env...       0.0    1.000   \n",
       "2  RT @GothamVirtual: #vr #vrgotham #3dvideomotio...       0.0    0.847   \n",
       "3  RT @lidarnews: This research paper investigate...       0.0    0.828   \n",
       "4  RT @guidaautonoma: American drivers are more l...       0.0    0.850   \n",
       "\n",
       "   positive  compound  sentiment  \n",
       "0     0.376    0.7206          1  \n",
       "1     0.000    0.0000          0  \n",
       "2     0.153    0.4404          1  \n",
       "3     0.172    0.4404          1  \n",
       "4     0.150    0.4588          1  "
      ]
     },
     "execution_count": 7,
     "metadata": {},
     "output_type": "execute_result"
    }
   ],
   "source": [
    "df.head()\n"
   ]
  },
  {
   "cell_type": "code",
   "execution_count": 8,
   "metadata": {
    "colab": {
     "base_uri": "https://localhost:8080/",
     "height": 297
    },
    "executionInfo": {
     "elapsed": 29,
     "status": "ok",
     "timestamp": 1628348680388,
     "user": {
      "displayName": "Suresha HP",
      "photoUrl": "https://lh3.googleusercontent.com/a-/AOh14GhDcYnUbnw4-j1oQP34WV3tGEnUDo29hkB1Vthp8oQ=s64",
      "userId": "01744058822138121722"
     },
     "user_tz": -330
    },
    "id": "mnKqj4wwIBP-",
    "outputId": "cdba5cbf-88f6-4d7b-f68b-c949dd215fb0"
   },
   "outputs": [
    {
     "data": {
      "text/html": [
       "<div>\n",
       "<style scoped>\n",
       "    .dataframe tbody tr th:only-of-type {\n",
       "        vertical-align: middle;\n",
       "    }\n",
       "\n",
       "    .dataframe tbody tr th {\n",
       "        vertical-align: top;\n",
       "    }\n",
       "\n",
       "    .dataframe thead th {\n",
       "        text-align: right;\n",
       "    }\n",
       "</style>\n",
       "<table border=\"1\" class=\"dataframe\">\n",
       "  <thead>\n",
       "    <tr style=\"text-align: right;\">\n",
       "      <th></th>\n",
       "      <th>negative</th>\n",
       "      <th>neutral</th>\n",
       "      <th>positive</th>\n",
       "      <th>compound</th>\n",
       "      <th>sentiment</th>\n",
       "    </tr>\n",
       "  </thead>\n",
       "  <tbody>\n",
       "    <tr>\n",
       "      <th>count</th>\n",
       "      <td>91311.000000</td>\n",
       "      <td>91311.000000</td>\n",
       "      <td>91311.000000</td>\n",
       "      <td>91311.000000</td>\n",
       "      <td>91311.000000</td>\n",
       "    </tr>\n",
       "    <tr>\n",
       "      <th>mean</th>\n",
       "      <td>0.030939</td>\n",
       "      <td>0.869843</td>\n",
       "      <td>0.099216</td>\n",
       "      <td>0.161434</td>\n",
       "      <td>0.316764</td>\n",
       "    </tr>\n",
       "    <tr>\n",
       "      <th>std</th>\n",
       "      <td>0.073235</td>\n",
       "      <td>0.135761</td>\n",
       "      <td>0.122643</td>\n",
       "      <td>0.345008</td>\n",
       "      <td>0.695496</td>\n",
       "    </tr>\n",
       "    <tr>\n",
       "      <th>min</th>\n",
       "      <td>0.000000</td>\n",
       "      <td>0.134000</td>\n",
       "      <td>0.000000</td>\n",
       "      <td>-0.979000</td>\n",
       "      <td>-1.000000</td>\n",
       "    </tr>\n",
       "    <tr>\n",
       "      <th>25%</th>\n",
       "      <td>0.000000</td>\n",
       "      <td>0.781000</td>\n",
       "      <td>0.000000</td>\n",
       "      <td>0.000000</td>\n",
       "      <td>0.000000</td>\n",
       "    </tr>\n",
       "    <tr>\n",
       "      <th>50%</th>\n",
       "      <td>0.000000</td>\n",
       "      <td>0.881000</td>\n",
       "      <td>0.000000</td>\n",
       "      <td>0.000000</td>\n",
       "      <td>0.000000</td>\n",
       "    </tr>\n",
       "    <tr>\n",
       "      <th>75%</th>\n",
       "      <td>0.000000</td>\n",
       "      <td>1.000000</td>\n",
       "      <td>0.173000</td>\n",
       "      <td>0.421500</td>\n",
       "      <td>1.000000</td>\n",
       "    </tr>\n",
       "    <tr>\n",
       "      <th>max</th>\n",
       "      <td>0.744000</td>\n",
       "      <td>1.000000</td>\n",
       "      <td>0.866000</td>\n",
       "      <td>0.979200</td>\n",
       "      <td>1.000000</td>\n",
       "    </tr>\n",
       "  </tbody>\n",
       "</table>\n",
       "</div>"
      ],
      "text/plain": [
       "           negative       neutral      positive      compound     sentiment\n",
       "count  91311.000000  91311.000000  91311.000000  91311.000000  91311.000000\n",
       "mean       0.030939      0.869843      0.099216      0.161434      0.316764\n",
       "std        0.073235      0.135761      0.122643      0.345008      0.695496\n",
       "min        0.000000      0.134000      0.000000     -0.979000     -1.000000\n",
       "25%        0.000000      0.781000      0.000000      0.000000      0.000000\n",
       "50%        0.000000      0.881000      0.000000      0.000000      0.000000\n",
       "75%        0.000000      1.000000      0.173000      0.421500      1.000000\n",
       "max        0.744000      1.000000      0.866000      0.979200      1.000000"
      ]
     },
     "execution_count": 8,
     "metadata": {},
     "output_type": "execute_result"
    }
   ],
   "source": [
    "df.describe()"
   ]
  },
  {
   "cell_type": "code",
   "execution_count": 9,
   "metadata": {
    "colab": {
     "base_uri": "https://localhost:8080/"
    },
    "executionInfo": {
     "elapsed": 28,
     "status": "ok",
     "timestamp": 1628348680390,
     "user": {
      "displayName": "Suresha HP",
      "photoUrl": "https://lh3.googleusercontent.com/a-/AOh14GhDcYnUbnw4-j1oQP34WV3tGEnUDo29hkB1Vthp8oQ=s64",
      "userId": "01744058822138121722"
     },
     "user_tz": -330
    },
    "id": "R_zzuuVJICO3",
    "outputId": "6c93a0b4-6cdc-482b-a522-6c3152627f5b"
   },
   "outputs": [
    {
     "data": {
      "text/plain": [
       "str"
      ]
     },
     "execution_count": 9,
     "metadata": {},
     "output_type": "execute_result"
    }
   ],
   "source": [
    "type(df['text'][1])"
   ]
  },
  {
   "cell_type": "markdown",
   "metadata": {
    "id": "14UngmfGIK6v"
   },
   "source": [
    "### Function to classify Tweets"
   ]
  },
  {
   "cell_type": "code",
   "execution_count": 10,
   "metadata": {
    "executionInfo": {
     "elapsed": 883,
     "status": "ok",
     "timestamp": 1628348681250,
     "user": {
      "displayName": "Suresha HP",
      "photoUrl": "https://lh3.googleusercontent.com/a-/AOh14GhDcYnUbnw4-j1oQP34WV3tGEnUDo29hkB1Vthp8oQ=s64",
      "userId": "01744058822138121722"
     },
     "user_tz": -330
    },
    "id": "IUvNv2T1IBYm"
   },
   "outputs": [],
   "source": [
    "# Create an object of Sonar Hate Speech Detection\n",
    "sonar = Sonar()"
   ]
  },
  {
   "cell_type": "code",
   "execution_count": 11,
   "metadata": {
    "executionInfo": {
     "elapsed": 12,
     "status": "ok",
     "timestamp": 1628348681251,
     "user": {
      "displayName": "Suresha HP",
      "photoUrl": "https://lh3.googleusercontent.com/a-/AOh14GhDcYnUbnw4-j1oQP34WV3tGEnUDo29hkB1Vthp8oQ=s64",
      "userId": "01744058822138121722"
     },
     "user_tz": -330
    },
    "id": "XS_cQdf9IOzY"
   },
   "outputs": [],
   "source": [
    "Class = []\n",
    "hate = []\n",
    "offensive = []\n",
    "neither = []"
   ]
  },
  {
   "cell_type": "code",
   "execution_count": 12,
   "metadata": {
    "executionInfo": {
     "elapsed": 12,
     "status": "ok",
     "timestamp": 1628348681253,
     "user": {
      "displayName": "Suresha HP",
      "photoUrl": "https://lh3.googleusercontent.com/a-/AOh14GhDcYnUbnw4-j1oQP34WV3tGEnUDo29hkB1Vthp8oQ=s64",
      "userId": "01744058822138121722"
     },
     "user_tz": -330
    },
    "id": "R6uAwvf_IQev"
   },
   "outputs": [],
   "source": [
    "def hate_speech_classifier(df, Class, hate, offensive, neither):\n",
    "    for i in df['text']:\n",
    "        sonar_dict = sonar.ping(text=i)\n",
    "        Class.append(list(sonar_dict.values())[1])\n",
    "        hate.append(list(list(sonar_dict.values())[2][0].values())[1])\n",
    "        offensive.append(list(list(sonar_dict.values())[2][1].values())[1])\n",
    "        neither.append(list(list(sonar_dict.values())[2][2].values())[1])"
   ]
  },
  {
   "cell_type": "code",
   "execution_count": 13,
   "metadata": {
    "executionInfo": {
     "elapsed": 31744,
     "status": "ok",
     "timestamp": 1628348712985,
     "user": {
      "displayName": "Suresha HP",
      "photoUrl": "https://lh3.googleusercontent.com/a-/AOh14GhDcYnUbnw4-j1oQP34WV3tGEnUDo29hkB1Vthp8oQ=s64",
      "userId": "01744058822138121722"
     },
     "user_tz": -330
    },
    "id": "buaLF92jISCv"
   },
   "outputs": [],
   "source": [
    "# Function calling \n",
    "hate_speech_classifier(df, Class, hate, offensive, neither)"
   ]
  },
  {
   "cell_type": "code",
   "execution_count": 14,
   "metadata": {
    "executionInfo": {
     "elapsed": 20,
     "status": "ok",
     "timestamp": 1628348712987,
     "user": {
      "displayName": "Suresha HP",
      "photoUrl": "https://lh3.googleusercontent.com/a-/AOh14GhDcYnUbnw4-j1oQP34WV3tGEnUDo29hkB1Vthp8oQ=s64",
      "userId": "01744058822138121722"
     },
     "user_tz": -330
    },
    "id": "eij5BFW4IUJ4"
   },
   "outputs": [],
   "source": [
    "# Prepare columns to add the scores later\n",
    "df[\"Class\"] = Class\n",
    "df[\"hate\"] = hate\n",
    "df[\"offensive\"] = offensive\n",
    "df[\"neither\"] = neither"
   ]
  },
  {
   "cell_type": "code",
   "execution_count": 15,
   "metadata": {
    "colab": {
     "base_uri": "https://localhost:8080/"
    },
    "executionInfo": {
     "elapsed": 17,
     "status": "ok",
     "timestamp": 1628348712988,
     "user": {
      "displayName": "Suresha HP",
      "photoUrl": "https://lh3.googleusercontent.com/a-/AOh14GhDcYnUbnw4-j1oQP34WV3tGEnUDo29hkB1Vthp8oQ=s64",
      "userId": "01744058822138121722"
     },
     "user_tz": -330
    },
    "id": "humyJTAdIVmn",
    "outputId": "dce2a051-c13a-4d4d-afed-691d2ebffcd4"
   },
   "outputs": [
    {
     "data": {
      "text/plain": [
       "neither               90416\n",
       "offensive_language      870\n",
       "hate_speech              25\n",
       "Name: Class, dtype: int64"
      ]
     },
     "execution_count": 15,
     "metadata": {},
     "output_type": "execute_result"
    }
   ],
   "source": [
    "df.Class.value_counts()"
   ]
  },
  {
   "cell_type": "code",
   "execution_count": 16,
   "metadata": {
    "colab": {
     "base_uri": "https://localhost:8080/"
    },
    "executionInfo": {
     "elapsed": 14,
     "status": "ok",
     "timestamp": 1628348712988,
     "user": {
      "displayName": "Suresha HP",
      "photoUrl": "https://lh3.googleusercontent.com/a-/AOh14GhDcYnUbnw4-j1oQP34WV3tGEnUDo29hkB1Vthp8oQ=s64",
      "userId": "01744058822138121722"
     },
     "user_tz": -330
    },
    "id": "TLLl_hZ2IYU4",
    "outputId": "67bb9ab0-b54d-45d9-c668-cf53eefbea00"
   },
   "outputs": [
    {
     "data": {
      "text/plain": [
       "0.5217877094972067"
      ]
     },
     "execution_count": 16,
     "metadata": {},
     "output_type": "execute_result"
    }
   ],
   "source": [
    "467/(df.Class.value_counts()[-1] + df.Class.value_counts()[1])"
   ]
  },
  {
   "cell_type": "markdown",
   "metadata": {
    "id": "xjcOUbXuIaFn"
   },
   "source": [
    "### Number of Tweets by Hate Speech Classification"
   ]
  },
  {
   "cell_type": "code",
   "execution_count": 17,
   "metadata": {
    "colab": {
     "base_uri": "https://localhost:8080/",
     "height": 412
    },
    "executionInfo": {
     "elapsed": 13,
     "status": "ok",
     "timestamp": 1628348712989,
     "user": {
      "displayName": "Suresha HP",
      "photoUrl": "https://lh3.googleusercontent.com/a-/AOh14GhDcYnUbnw4-j1oQP34WV3tGEnUDo29hkB1Vthp8oQ=s64",
      "userId": "01744058822138121722"
     },
     "user_tz": -330
    },
    "id": "mWr3yR5cIbxQ",
    "outputId": "3110f3e5-0c93-407d-d0a5-f649479b913f"
   },
   "outputs": [
    {
     "data": {
      "image/png": "[encoded data removed]",
      "text/plain": [
       "<Figure size 640x480 with 1 Axes>"
      ]
     },
     "metadata": {},
     "output_type": "display_data"
    }
   ],
   "source": [
    "# Draw Plot\n",
    "fig, ax = plt.subplots(figsize=(8, 6), subplot_kw=dict(aspect=\"equal\"), dpi= 80)\n",
    "\n",
    "data = [df.Class.value_counts()[-1], df.Class.value_counts()[1], df.Class.value_counts()[0]]\n",
    "categories = ['Hate Speech', 'Offensive', 'Neither']\n",
    "explode = [0.05,0.05,0.05]\n",
    "\n",
    "def func(pct, allvals):\n",
    "    absolute = int(pct/100.*np.sum(allvals))\n",
    "    return \"{:.1f}% ({:d} )\".format(pct, absolute)\n",
    "\n",
    "wedges, texts, autotexts = ax.pie(data, \n",
    "                                  autopct=lambda pct: func(pct, data),\n",
    "                                  textprops=dict(color=\"w\"), \n",
    "                                  colors=['#e55039', '#3c6382', '#78e08f'],\n",
    "                                  startangle=140,\n",
    "                                  explode=explode)\n",
    "\n",
    "# Decoration\n",
    "ax.legend(wedges, categories, title=\"Tweet contains:\", loc=\"center left\", bbox_to_anchor=(1, 0.2, 0.5, 1))\n",
    "plt.setp(autotexts, size=8, weight=700)\n",
    "ax.set_title(\"Hate Speech Detection\", fontsize=10, fontweight=\"bold\")\n",
    "plt.show()"
   ]
  },
  {
   "cell_type": "markdown",
   "metadata": {
    "id": "qJt_yPFXIg9A"
   },
   "source": [
    "### Histogram"
   ]
  },
  {
   "cell_type": "code",
   "execution_count": 18,
   "metadata": {
    "colab": {
     "base_uri": "https://localhost:8080/",
     "height": 353
    },
    "executionInfo": {
     "elapsed": 928,
     "status": "ok",
     "timestamp": 1628348713906,
     "user": {
      "displayName": "Suresha HP",
      "photoUrl": "https://lh3.googleusercontent.com/a-/AOh14GhDcYnUbnw4-j1oQP34WV3tGEnUDo29hkB1Vthp8oQ=s64",
      "userId": "01744058822138121722"
     },
     "user_tz": -330
    },
    "id": "hpIdrvQyIiSI",
    "outputId": "c15a78e1-c2b7-4990-dbd7-61c6537b3ffe"
   },
   "outputs": [
    {
     "data": {
      "image/png": "[encoded data removed]",
      "text/plain": [
       "<Figure size 400x500 with 1 Axes>"
      ]
     },
     "metadata": {},
     "output_type": "display_data"
    }
   ],
   "source": [
    "labels = ['Hateful & Offensive', 'Neither']\n",
    "freq = [df.Class.value_counts()[-1] + df.Class.value_counts()[1], df.Class.value_counts()[0]]\n",
    "index = np.arange(len(freq))\n",
    "\n",
    "plt.figure(figsize=(4,5))\n",
    "plt.bar(index, freq, alpha=0.8, width=0.5, color=['red','#3c6382','black'])\n",
    "plt.xlabel('Contains', fontsize=13)\n",
    "plt.ylabel('Number of Tweets', fontsize=13)\n",
    "plt.xticks(index, labels, fontsize=11) \n",
    "plt.title(\"Distribution of the dataset\", fontsize=12, fontweight=\"bold\")\n",
    "plt.ylim(0, len(df['text']))\n",
    "plt.show()"
   ]
  },
  {
   "cell_type": "code",
   "execution_count": 19,
   "metadata": {
    "executionInfo": {
     "elapsed": 80,
     "status": "ok",
     "timestamp": 1628348713908,
     "user": {
      "displayName": "Suresha HP",
      "photoUrl": "https://lh3.googleusercontent.com/a-/AOh14GhDcYnUbnw4-j1oQP34WV3tGEnUDo29hkB1Vthp8oQ=s64",
      "userId": "01744058822138121722"
     },
     "user_tz": -330
    },
    "id": "fc9e2qKuIe3I"
   },
   "outputs": [],
   "source": [
    "labels = ['Hate Speech', 'Offensive Language']\n",
    "freq1 = [df.Class.value_counts()[-1], df.Class.value_counts()[1]]\n",
    "index1 = np.arange(len(freq1))"
   ]
  },
  {
   "cell_type": "code",
   "execution_count": 20,
   "metadata": {
    "colab": {
     "base_uri": "https://localhost:8080/",
     "height": 353
    },
    "executionInfo": {
     "elapsed": 81,
     "status": "ok",
     "timestamp": 1628348713910,
     "user": {
      "displayName": "Suresha HP",
      "photoUrl": "https://lh3.googleusercontent.com/a-/AOh14GhDcYnUbnw4-j1oQP34WV3tGEnUDo29hkB1Vthp8oQ=s64",
      "userId": "01744058822138121722"
     },
     "user_tz": -330
    },
    "id": "qUua2CMgInQv",
    "outputId": "b8de8b3d-129b-4cc8-c9e1-918d5d681302"
   },
   "outputs": [
    {
     "data": {
      "image/png": "[encoded data removed]",
      "text/plain": [
       "<Figure size 400x500 with 1 Axes>"
      ]
     },
     "metadata": {},
     "output_type": "display_data"
    }
   ],
   "source": [
    "plt.figure(figsize=(4,5))\n",
    "plt.bar(index1, freq1, alpha=0.8, width=0.5, color=['red','black'])\n",
    "plt.xlabel('Contains', fontsize=13)\n",
    "plt.ylabel('Number of Tweets', fontsize=13)\n",
    "plt.xticks(index, labels, fontsize=11) \n",
    "plt.title(\"Problematic Tweets\", fontsize=12, fontweight=\"bold\")\n",
    "plt.ylim(0, 4000)\n",
    "plt.show()"
   ]
  },
  {
   "cell_type": "markdown",
   "metadata": {
    "id": "F0Z_jTqLIpPX"
   },
   "source": [
    "###  Seperate the dataset accordingly to contining hateful speech, offensive language and neither"
   ]
  },
  {
   "cell_type": "code",
   "execution_count": 21,
   "metadata": {
    "executionInfo": {
     "elapsed": 80,
     "status": "ok",
     "timestamp": 1628348713912,
     "user": {
      "displayName": "Suresha HP",
      "photoUrl": "https://lh3.googleusercontent.com/a-/AOh14GhDcYnUbnw4-j1oQP34WV3tGEnUDo29hkB1Vthp8oQ=s64",
      "userId": "01744058822138121722"
     },
     "user_tz": -330
    },
    "id": "I9G9ilCSIqzw"
   },
   "outputs": [],
   "source": [
    "df_hate = df[df['Class']=='hate_speech']\n",
    "df_offensive = df[df['Class']=='offensive_language']\n",
    "df_neither = df[df['Class']=='neither']"
   ]
  },
  {
   "cell_type": "code",
   "execution_count": 22,
   "metadata": {
    "colab": {
     "base_uri": "https://localhost:8080/"
    },
    "executionInfo": {
     "elapsed": 81,
     "status": "ok",
     "timestamp": 1628348713914,
     "user": {
      "displayName": "Suresha HP",
      "photoUrl": "https://lh3.googleusercontent.com/a-/AOh14GhDcYnUbnw4-j1oQP34WV3tGEnUDo29hkB1Vthp8oQ=s64",
      "userId": "01744058822138121722"
     },
     "user_tz": -330
    },
    "id": "78cMlUCiItRo",
    "outputId": "a4d46166-9ead-4562-90fd-b41b18bc5c35"
   },
   "outputs": [
    {
     "data": {
      "text/plain": [
       " 1    40782\n",
       " 0    37757\n",
       "-1    11877\n",
       "Name: sentiment, dtype: int64"
      ]
     },
     "execution_count": 22,
     "metadata": {},
     "output_type": "execute_result"
    }
   ],
   "source": [
    "df_neither.sentiment.value_counts()"
   ]
  },
  {
   "cell_type": "code",
   "execution_count": 23,
   "metadata": {
    "colab": {
     "base_uri": "https://localhost:8080/"
    },
    "executionInfo": {
     "elapsed": 77,
     "status": "ok",
     "timestamp": 1628348713915,
     "user": {
      "displayName": "Suresha HP",
      "photoUrl": "https://lh3.googleusercontent.com/a-/AOh14GhDcYnUbnw4-j1oQP34WV3tGEnUDo29hkB1Vthp8oQ=s64",
      "userId": "01744058822138121722"
     },
     "user_tz": -330
    },
    "id": "LJhRe38MIvuZ",
    "outputId": "7f2a2db8-da5f-4eb1-ff0b-3bc9440fe0b7"
   },
   "outputs": [
    {
     "data": {
      "text/plain": [
       " 1    338\n",
       "-1    324\n",
       " 0    208\n",
       "Name: sentiment, dtype: int64"
      ]
     },
     "execution_count": 23,
     "metadata": {},
     "output_type": "execute_result"
    }
   ],
   "source": [
    "df_offensive.sentiment.value_counts()"
   ]
  },
  {
   "cell_type": "markdown",
   "metadata": {
    "id": "yhg9HZFJL1vZ"
   },
   "source": [
    "### no hate speech found, analyzed offensive and neutral tweets"
   ]
  },
  {
   "cell_type": "code",
   "execution_count": 24,
   "metadata": {
    "colab": {
     "base_uri": "https://localhost:8080/",
     "height": 407
    },
    "executionInfo": {
     "elapsed": 79,
     "status": "ok",
     "timestamp": 1628348713920,
     "user": {
      "displayName": "Suresha HP",
      "photoUrl": "https://lh3.googleusercontent.com/a-/AOh14GhDcYnUbnw4-j1oQP34WV3tGEnUDo29hkB1Vthp8oQ=s64",
      "userId": "01744058822138121722"
     },
     "user_tz": -330
    },
    "id": "hqpKWTPoI31Q",
    "outputId": "5dab5cea-07e3-4ab8-acfb-36972e30f382"
   },
   "outputs": [
    {
     "data": {
      "image/png": "[encoded data removed]",
      "text/plain": [
       "<Figure size 500x600 with 1 Axes>"
      ]
     },
     "metadata": {},
     "output_type": "display_data"
    }
   ],
   "source": [
    "labels = ['Negative', 'Positive', 'Neutral']\n",
    "freq = [df_offensive.sentiment.value_counts()[-1], df_offensive.sentiment.value_counts()[1], df_offensive.sentiment.value_counts()[0]]\n",
    "index = np.arange(len(freq))\n",
    "\n",
    "plt.figure(figsize=(5,6))\n",
    "\n",
    "# Chart 2: Sentiment of Tweets classified as Offensive\n",
    "plt.barh(index, freq, alpha=0.8, color=['#e74c3c','#3c6382','black'])\n",
    "plt.xlabel('Number of tweets', fontsize=13)\n",
    "plt.ylabel('Sentiment', fontsize=13)\n",
    "plt.yticks(index, labels, fontsize=11) \n",
    "plt.title(\"Offensive Language by Sentiment\", fontsize=12, fontweight=\"bold\")\n",
    "plt.show()"
   ]
  },
  {
   "cell_type": "code",
   "execution_count": 25,
   "metadata": {
    "colab": {
     "base_uri": "https://localhost:8080/",
     "height": 407
    },
    "executionInfo": {
     "elapsed": 78,
     "status": "ok",
     "timestamp": 1628348713922,
     "user": {
      "displayName": "Suresha HP",
      "photoUrl": "https://lh3.googleusercontent.com/a-/AOh14GhDcYnUbnw4-j1oQP34WV3tGEnUDo29hkB1Vthp8oQ=s64",
      "userId": "01744058822138121722"
     },
     "user_tz": -330
    },
    "id": "27iOoJH4I8N3",
    "outputId": "9e0712c4-076a-43ea-ac25-a7dad473d1cb"
   },
   "outputs": [
    {
     "data": {
      "image/png": "[encoded data removed]",
      "text/plain": [
       "<Figure size 500x600 with 1 Axes>"
      ]
     },
     "metadata": {},
     "output_type": "display_data"
    }
   ],
   "source": [
    "labels = ['Negative', 'Positive', 'Neutral']\n",
    "freq = [df_neither.sentiment.value_counts()[-1], df_neither.sentiment.value_counts()[1], df_neither.sentiment.value_counts()[0]]\n",
    "index = np.arange(len(freq))\n",
    "\n",
    "plt.figure(figsize=(5,6))\n",
    "\n",
    "# Chart 3: Sentiment of Tweets classified as Neither\n",
    "plt.barh(index, freq, alpha=0.8, color=['#e74c3c','#3c6382','black'])\n",
    "plt.xlabel('Number of tweets', fontsize=13)\n",
    "plt.ylabel('Sentiment', fontsize=13)\n",
    "plt.yticks(index, labels, fontsize=11) \n",
    "plt.title(\"Normal Tweets by Sentiment\", fontsize=12, fontweight=\"bold\")\n",
    "plt.show()"
   ]
  },
  {
   "cell_type": "markdown",
   "metadata": {
    "id": "B1RYOXjEI-t5"
   },
   "source": [
    "### Scatter Plot of Hate Score"
   ]
  },
  {
   "cell_type": "code",
   "execution_count": 26,
   "metadata": {
    "colab": {
     "base_uri": "https://localhost:8080/",
     "height": 400
    },
    "executionInfo": {
     "elapsed": 75,
     "status": "ok",
     "timestamp": 1628348713923,
     "user": {
      "displayName": "Suresha HP",
      "photoUrl": "https://lh3.googleusercontent.com/a-/AOh14GhDcYnUbnw4-j1oQP34WV3tGEnUDo29hkB1Vthp8oQ=s64",
      "userId": "01744058822138121722"
     },
     "user_tz": -330
    },
    "id": "_xpdu9vjI-QX",
    "outputId": "8e46ee1f-6a9d-4330-8660-892b4e96a01d"
   },
   "outputs": [
    {
     "data": {
      "text/plain": [
       "<Figure size 2000x500 with 0 Axes>"
      ]
     },
     "metadata": {},
     "output_type": "display_data"
    },
    {
     "data": {
      "image/png": "[encoded data removed]",
      "text/plain": [
       "<Figure size 500x500 with 1 Axes>"
      ]
     },
     "metadata": {},
     "output_type": "display_data"
    }
   ],
   "source": [
    "# Provide a dictionary to the palette argument\n",
    "plt.figure(figsize=(20,5))\n",
    "sns.lmplot( x=\"compound\", y=\"hate\", data=df_hate, fit_reg=False, hue='Class', legend=False, palette=dict(neither=\"black\", offensive_language=\"#3c6382\", hate_speech=\"#e74c3c\"))\n",
    " \n",
    "# Move the legend to an empty part of the plot\n",
    "plt.legend(loc='lower right')\n",
    "plt.show()"
   ]
  },
  {
   "cell_type": "markdown",
   "metadata": {
    "id": "W1L_M_40JC_g"
   },
   "source": [
    "### Top 10 Hateful Tweets"
   ]
  },
  {
   "cell_type": "code",
   "execution_count": 27,
   "metadata": {
    "executionInfo": {
     "elapsed": 72,
     "status": "ok",
     "timestamp": 1628348713924,
     "user": {
      "displayName": "Suresha HP",
      "photoUrl": "https://lh3.googleusercontent.com/a-/AOh14GhDcYnUbnw4-j1oQP34WV3tGEnUDo29hkB1Vthp8oQ=s64",
      "userId": "01744058822138121722"
     },
     "user_tz": -330
    },
    "id": "jD-l8SFoJEGw"
   },
   "outputs": [],
   "source": [
    "df_hate.sort_values('hate', inplace=True, ascending=False)"
   ]
  },
  {
   "cell_type": "code",
   "execution_count": 28,
   "metadata": {
    "executionInfo": {
     "elapsed": 73,
     "status": "ok",
     "timestamp": 1628348713926,
     "user": {
      "displayName": "Suresha HP",
      "photoUrl": "https://lh3.googleusercontent.com/a-/AOh14GhDcYnUbnw4-j1oQP34WV3tGEnUDo29hkB1Vthp8oQ=s64",
      "userId": "01744058822138121722"
     },
     "user_tz": -330
    },
    "id": "7YZ6ipOtJGv4"
   },
   "outputs": [],
   "source": [
    "df_hate.reset_index(drop=True, inplace=True)"
   ]
  },
  {
   "cell_type": "code",
   "execution_count": 29,
   "metadata": {
    "executionInfo": {
     "elapsed": 71,
     "status": "ok",
     "timestamp": 1628348713929,
     "user": {
      "displayName": "Suresha HP",
      "photoUrl": "https://lh3.googleusercontent.com/a-/AOh14GhDcYnUbnw4-j1oQP34WV3tGEnUDo29hkB1Vthp8oQ=s64",
      "userId": "01744058822138121722"
     },
     "user_tz": -330
    },
    "id": "Q7LijP9pJLPA"
   },
   "outputs": [],
   "source": [
    "df_offensive.sort_values('offensive',inplace=True, ascending=False)"
   ]
  },
  {
   "cell_type": "code",
   "execution_count": 30,
   "metadata": {
    "executionInfo": {
     "elapsed": 72,
     "status": "ok",
     "timestamp": 1628348713931,
     "user": {
      "displayName": "Suresha HP",
      "photoUrl": "https://lh3.googleusercontent.com/a-/AOh14GhDcYnUbnw4-j1oQP34WV3tGEnUDo29hkB1Vthp8oQ=s64",
      "userId": "01744058822138121722"
     },
     "user_tz": -330
    },
    "id": "TM1ZdXi_JNKQ"
   },
   "outputs": [],
   "source": [
    "df_offensive.reset_index(drop=True, inplace=True)"
   ]
  },
  {
   "cell_type": "code",
   "execution_count": 31,
   "metadata": {
    "colab": {
     "base_uri": "https://localhost:8080/",
     "height": 359
    },
    "executionInfo": {
     "elapsed": 73,
     "status": "ok",
     "timestamp": 1628348713932,
     "user": {
      "displayName": "Suresha HP",
      "photoUrl": "https://lh3.googleusercontent.com/a-/AOh14GhDcYnUbnw4-j1oQP34WV3tGEnUDo29hkB1Vthp8oQ=s64",
      "userId": "01744058822138121722"
     },
     "user_tz": -330
    },
    "id": "QzuqKuGVJO8A",
    "outputId": "bdeece92-5425-4a43-cb12-03e2ca5c91f3"
   },
   "outputs": [
    {
     "data": {
      "text/html": [
       "<div>\n",
       "<style scoped>\n",
       "    .dataframe tbody tr th:only-of-type {\n",
       "        vertical-align: middle;\n",
       "    }\n",
       "\n",
       "    .dataframe tbody tr th {\n",
       "        vertical-align: top;\n",
       "    }\n",
       "\n",
       "    .dataframe thead th {\n",
       "        text-align: right;\n",
       "    }\n",
       "</style>\n",
       "<table border=\"1\" class=\"dataframe\">\n",
       "  <thead>\n",
       "    <tr style=\"text-align: right;\">\n",
       "      <th></th>\n",
       "      <th>text</th>\n",
       "      <th>negative</th>\n",
       "      <th>neutral</th>\n",
       "      <th>positive</th>\n",
       "      <th>compound</th>\n",
       "      <th>sentiment</th>\n",
       "      <th>Class</th>\n",
       "      <th>hate</th>\n",
       "      <th>offensive</th>\n",
       "      <th>neither</th>\n",
       "    </tr>\n",
       "  </thead>\n",
       "  <tbody>\n",
       "    <tr>\n",
       "      <th>0</th>\n",
       "      <td>RT @YourMansCriib: Side hoes become psycho hoe...</td>\n",
       "      <td>0.000</td>\n",
       "      <td>1.000</td>\n",
       "      <td>0.000</td>\n",
       "      <td>0.0000</td>\n",
       "      <td>0</td>\n",
       "      <td>offensive_language</td>\n",
       "      <td>0.003615</td>\n",
       "      <td>0.996384</td>\n",
       "      <td>1.124995e-06</td>\n",
       "    </tr>\n",
       "    <tr>\n",
       "      <th>1</th>\n",
       "      <td>@R3sid3nt3vil4 @MAGAGEM1 @elonmusk @Liz_Wheele...</td>\n",
       "      <td>0.219</td>\n",
       "      <td>0.562</td>\n",
       "      <td>0.219</td>\n",
       "      <td>0.0000</td>\n",
       "      <td>0</td>\n",
       "      <td>offensive_language</td>\n",
       "      <td>0.012026</td>\n",
       "      <td>0.987852</td>\n",
       "      <td>1.227049e-04</td>\n",
       "    </tr>\n",
       "    <tr>\n",
       "      <th>2</th>\n",
       "      <td>Gonna be a bitch to charge your   #ElectricVeh...</td>\n",
       "      <td>0.226</td>\n",
       "      <td>0.774</td>\n",
       "      <td>0.000</td>\n",
       "      <td>-0.5859</td>\n",
       "      <td>-1</td>\n",
       "      <td>offensive_language</td>\n",
       "      <td>0.024357</td>\n",
       "      <td>0.974537</td>\n",
       "      <td>1.105690e-03</td>\n",
       "    </tr>\n",
       "    <tr>\n",
       "      <th>3</th>\n",
       "      <td>@Lazy___boi @shofu Fuck it needs 252 \"EVs\"? Th...</td>\n",
       "      <td>0.360</td>\n",
       "      <td>0.640</td>\n",
       "      <td>0.000</td>\n",
       "      <td>-0.8074</td>\n",
       "      <td>-1</td>\n",
       "      <td>offensive_language</td>\n",
       "      <td>0.025961</td>\n",
       "      <td>0.973970</td>\n",
       "      <td>6.910351e-05</td>\n",
       "    </tr>\n",
       "    <tr>\n",
       "      <th>4</th>\n",
       "      <td>@seekup717 @TeslaCharging I could careless who...</td>\n",
       "      <td>0.114</td>\n",
       "      <td>0.773</td>\n",
       "      <td>0.114</td>\n",
       "      <td>0.0000</td>\n",
       "      <td>0</td>\n",
       "      <td>offensive_language</td>\n",
       "      <td>0.025257</td>\n",
       "      <td>0.969241</td>\n",
       "      <td>5.502069e-03</td>\n",
       "    </tr>\n",
       "    <tr>\n",
       "      <th>5</th>\n",
       "      <td>@evs_entropy @avetheidiot is that a tauros nam...</td>\n",
       "      <td>0.000</td>\n",
       "      <td>0.828</td>\n",
       "      <td>0.172</td>\n",
       "      <td>0.3612</td>\n",
       "      <td>1</td>\n",
       "      <td>offensive_language</td>\n",
       "      <td>0.026925</td>\n",
       "      <td>0.968467</td>\n",
       "      <td>4.608042e-03</td>\n",
       "    </tr>\n",
       "    <tr>\n",
       "      <th>6</th>\n",
       "      <td>FUCK MICHIGAN BITCH ASS SCHOOL DOWN THE ROAD #...</td>\n",
       "      <td>0.684</td>\n",
       "      <td>0.316</td>\n",
       "      <td>0.000</td>\n",
       "      <td>-0.9325</td>\n",
       "      <td>-1</td>\n",
       "      <td>offensive_language</td>\n",
       "      <td>0.034016</td>\n",
       "      <td>0.965983</td>\n",
       "      <td>1.582033e-08</td>\n",
       "    </tr>\n",
       "    <tr>\n",
       "      <th>7</th>\n",
       "      <td>RT @RubiRose: I’m only drinking if we getting ...</td>\n",
       "      <td>0.206</td>\n",
       "      <td>0.657</td>\n",
       "      <td>0.137</td>\n",
       "      <td>-0.3561</td>\n",
       "      <td>-1</td>\n",
       "      <td>offensive_language</td>\n",
       "      <td>0.029361</td>\n",
       "      <td>0.964236</td>\n",
       "      <td>6.402888e-03</td>\n",
       "    </tr>\n",
       "    <tr>\n",
       "      <th>8</th>\n",
       "      <td>@rawsalerts Well shit. How can they charge the...</td>\n",
       "      <td>0.308</td>\n",
       "      <td>0.513</td>\n",
       "      <td>0.179</td>\n",
       "      <td>-0.3612</td>\n",
       "      <td>-1</td>\n",
       "      <td>offensive_language</td>\n",
       "      <td>0.046335</td>\n",
       "      <td>0.949759</td>\n",
       "      <td>3.905970e-03</td>\n",
       "    </tr>\n",
       "    <tr>\n",
       "      <th>9</th>\n",
       "      <td>RT @olsen_jerry: Holy shit. EV owners read thi...</td>\n",
       "      <td>0.340</td>\n",
       "      <td>0.660</td>\n",
       "      <td>0.000</td>\n",
       "      <td>-0.5574</td>\n",
       "      <td>-1</td>\n",
       "      <td>offensive_language</td>\n",
       "      <td>0.043711</td>\n",
       "      <td>0.948034</td>\n",
       "      <td>8.255028e-03</td>\n",
       "    </tr>\n",
       "  </tbody>\n",
       "</table>\n",
       "</div>"
      ],
      "text/plain": [
       "                                                text  negative  neutral  \\\n",
       "0  RT @YourMansCriib: Side hoes become psycho hoe...     0.000    1.000   \n",
       "1  @R3sid3nt3vil4 @MAGAGEM1 @elonmusk @Liz_Wheele...     0.219    0.562   \n",
       "2  Gonna be a bitch to charge your   #ElectricVeh...     0.226    0.774   \n",
       "3  @Lazy___boi @shofu Fuck it needs 252 \"EVs\"? Th...     0.360    0.640   \n",
       "4  @seekup717 @TeslaCharging I could careless who...     0.114    0.773   \n",
       "5  @evs_entropy @avetheidiot is that a tauros nam...     0.000    0.828   \n",
       "6  FUCK MICHIGAN BITCH ASS SCHOOL DOWN THE ROAD #...     0.684    0.316   \n",
       "7  RT @RubiRose: I’m only drinking if we getting ...     0.206    0.657   \n",
       "8  @rawsalerts Well shit. How can they charge the...     0.308    0.513   \n",
       "9  RT @olsen_jerry: Holy shit. EV owners read thi...     0.340    0.660   \n",
       "\n",
       "   positive  compound  sentiment               Class      hate  offensive  \\\n",
       "0     0.000    0.0000          0  offensive_language  0.003615   0.996384   \n",
       "1     0.219    0.0000          0  offensive_language  0.012026   0.987852   \n",
       "2     0.000   -0.5859         -1  offensive_language  0.024357   0.974537   \n",
       "3     0.000   -0.8074         -1  offensive_language  0.025961   0.973970   \n",
       "4     0.114    0.0000          0  offensive_language  0.025257   0.969241   \n",
       "5     0.172    0.3612          1  offensive_language  0.026925   0.968467   \n",
       "6     0.000   -0.9325         -1  offensive_language  0.034016   0.965983   \n",
       "7     0.137   -0.3561         -1  offensive_language  0.029361   0.964236   \n",
       "8     0.179   -0.3612         -1  offensive_language  0.046335   0.949759   \n",
       "9     0.000   -0.5574         -1  offensive_language  0.043711   0.948034   \n",
       "\n",
       "        neither  \n",
       "0  1.124995e-06  \n",
       "1  1.227049e-04  \n",
       "2  1.105690e-03  \n",
       "3  6.910351e-05  \n",
       "4  5.502069e-03  \n",
       "5  4.608042e-03  \n",
       "6  1.582033e-08  \n",
       "7  6.402888e-03  \n",
       "8  3.905970e-03  \n",
       "9  8.255028e-03  "
      ]
     },
     "execution_count": 31,
     "metadata": {},
     "output_type": "execute_result"
    }
   ],
   "source": [
    "df_offensive.head(10)"
   ]
  },
  {
   "cell_type": "markdown",
   "metadata": {
    "id": "fT_vYp55JSGy"
   },
   "source": [
    "### Trying on Specific Tweets"
   ]
  },
  {
   "cell_type": "code",
   "execution_count": 32,
   "metadata": {
    "colab": {
     "base_uri": "https://localhost:8080/"
    },
    "executionInfo": {
     "elapsed": 72,
     "status": "ok",
     "timestamp": 1628348713934,
     "user": {
      "displayName": "Suresha HP",
      "photoUrl": "https://lh3.googleusercontent.com/a-/AOh14GhDcYnUbnw4-j1oQP34WV3tGEnUDo29hkB1Vthp8oQ=s64",
      "userId": "01744058822138121722"
     },
     "user_tz": -330
    },
    "id": "tYCGdkr9JTEJ",
    "outputId": "092aa96f-9868-4734-da95-fba25239a821"
   },
   "outputs": [
    {
     "data": {
      "text/plain": [
       "['RT @guidaautonoma: #AutonomousVehicles of the Week \\n1️⃣ year ago:\\nNovember 22-November 28,2021🚗🚚🚌🚕\\n\\n@AkwyZ @GlenGilmore \\n@FishEyeBoxIndia @…',\n",
       " 'neither',\n",
       " [{'class_name': 'hate_speech', 'confidence': 0.036647324049030316},\n",
       "  {'class_name': 'offensive_language', 'confidence': 0.3415289659708846},\n",
       "  {'class_name': 'neither', 'confidence': 0.621823709980085}]]"
      ]
     },
     "execution_count": 32,
     "metadata": {},
     "output_type": "execute_result"
    }
   ],
   "source": [
    "list(sonar.ping(text=df['text'].iloc[189]).values())"
   ]
  },
  {
   "cell_type": "code",
   "execution_count": 33,
   "metadata": {
    "colab": {
     "base_uri": "https://localhost:8080/"
    },
    "executionInfo": {
     "elapsed": 65,
     "status": "ok",
     "timestamp": 1628348713936,
     "user": {
      "displayName": "Suresha HP",
      "photoUrl": "https://lh3.googleusercontent.com/a-/AOh14GhDcYnUbnw4-j1oQP34WV3tGEnUDo29hkB1Vthp8oQ=s64",
      "userId": "01744058822138121722"
     },
     "user_tz": -330
    },
    "id": "RIYPLbGlJUqX",
    "outputId": "434b6a97-9864-44a4-ace6-a70a94e67027"
   },
   "outputs": [
    {
     "data": {
      "text/plain": [
       "{'text': \"At least I'm not beautiful\",\n",
       " 'top_class': 'neither',\n",
       " 'classes': [{'class_name': 'hate_speech', 'confidence': 0.03721542824393398},\n",
       "  {'class_name': 'offensive_language', 'confidence': 0.36149194189180184},\n",
       "  {'class_name': 'neither', 'confidence': 0.6012926298642641}]}"
      ]
     },
     "execution_count": 33,
     "metadata": {},
     "output_type": "execute_result"
    }
   ],
   "source": [
    "sonar.ping(text=\"At least I'm not beautiful\")"
   ]
  },
  {
   "cell_type": "markdown",
   "metadata": {
    "id": "60i9ScbmJaLp"
   },
   "source": [
    "### Saving Results"
   ]
  },
  {
   "cell_type": "code",
   "execution_count": 34,
   "metadata": {
    "executionInfo": {
     "elapsed": 446,
     "status": "ok",
     "timestamp": 1628348714323,
     "user": {
      "displayName": "Suresha HP",
      "photoUrl": "https://lh3.googleusercontent.com/a-/AOh14GhDcYnUbnw4-j1oQP34WV3tGEnUDo29hkB1Vthp8oQ=s64",
      "userId": "01744058822138121722"
     },
     "user_tz": -330
    },
    "id": "ZsNRnkTLJY0Q"
   },
   "outputs": [],
   "source": [
    "df.drop(['negative', 'neutral', 'positive', 'compound', 'sentiment'],axis=1, inplace=True)\n",
    "df.to_pickle('./hate_speech_results.pkl')"
   ]
  }
 ],
 "metadata": {
  "colab": {
   "authorship_tag": "ABX9TyMbBvNc7RNqFtVAn/4LoVnF",
   "collapsed_sections": [],
   "mount_file_id": "1xaxmiSA5K_6QUUHiE1BTLDHK-wF1_Kfk",
   "name": "Twitter_Hatespeech_Sonar_04Jul2021_4.ipynb",
   "provenance": []
  },
  "kernelspec": {
   "display_name": "Python 3 (ipykernel)",
   "language": "python",
   "name": "python3"
  },
  "language_info": {
   "codemirror_mode": {
    "name": "ipython",
    "version": 3
   },
   "file_extension": ".py",
   "mimetype": "text/x-python",
   "name": "python",
   "nbconvert_exporter": "python",
   "pygments_lexer": "ipython3",
   "version": "3.9.6"
  }
 },
 "nbformat": 4,
 "nbformat_minor": 1
}
