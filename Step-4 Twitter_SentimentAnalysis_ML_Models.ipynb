{
 "cells": [
  {
   "cell_type": "markdown",
   "metadata": {
    "id": "nz7_ZA5c7dzW"
   },
   "source": [
    "### Imports "
   ]
  },
  {
   "cell_type": "code",
   "execution_count": 1,
   "metadata": {},
   "outputs": [
    {
     "name": "stderr",
     "output_type": "stream",
     "text": [
      "[nltk_data] Downloading package omw-1.4 to\n",
      "[nltk_data]     C:\\Users\\Dodlaraj\\AppData\\Roaming\\nltk_data...\n",
      "[nltk_data]   Package omw-1.4 is already up-to-date!\n"
     ]
    },
    {
     "data": {
      "text/plain": [
       "True"
      ]
     },
     "execution_count": 1,
     "metadata": {},
     "output_type": "execute_result"
    }
   ],
   "source": [
    "import nltk\n",
    "nltk.download('omw-1.4')\n",
    "  "
   ]
  },
  {
   "cell_type": "code",
   "execution_count": 2,
   "metadata": {
    "colab": {
     "base_uri": "https://localhost:8080/"
    },
    "executionInfo": {
     "elapsed": 3953,
     "status": "ok",
     "timestamp": 1628347814146,
     "user": {
      "displayName": "Suresha HP",
      "photoUrl": "https://lh3.googleusercontent.com/a-/AOh14GhDcYnUbnw4-j1oQP34WV3tGEnUDo29hkB1Vthp8oQ=s64",
      "userId": "01744058822138121722"
     },
     "user_tz": -330
    },
    "id": "2qEKZHmJ7KLm",
    "outputId": "ec376aed-2c99-4bf4-b0f5-33ddd6e7ffcf"
   },
   "outputs": [
    {
     "name": "stderr",
     "output_type": "stream",
     "text": [
      "[nltk_data] Downloading package vader_lexicon to\n",
      "[nltk_data]     C:\\Users\\Dodlaraj\\AppData\\Roaming\\nltk_data...\n",
      "[nltk_data]   Package vader_lexicon is already up-to-date!\n"
     ]
    }
   ],
   "source": [
    "import pandas as pd\n",
    "import numpy as np\n",
    "import seaborn as sns\n",
    "import matplotlib.pyplot as plt\n",
    "import spacy\n",
    "import re\n",
    "from pprint import pprint\n",
    "\n",
    "import nltk\n",
    "nltk.download('vader_lexicon')\n",
    "from nltk.sentiment.vader import SentimentIntensityAnalyzer\n",
    "from nltk.corpus import stopwords\n",
    "\n",
    "from collections import Counter\n",
    "from wordcloud import WordCloud\n",
    "\n",
    "\n",
    "import warnings \n",
    "warnings.filterwarnings(\"ignore\", category=DeprecationWarning)\n",
    "\n",
    "%matplotlib inline"
   ]
  },
  {
   "cell_type": "code",
   "execution_count": 3,
   "metadata": {},
   "outputs": [],
   "source": [
    "# utilities\n",
    "import re\n",
    "import numpy as np\n",
    "import pandas as pd\n",
    "# plotting\n",
    "import seaborn as sns\n",
    "from wordcloud import WordCloud\n",
    "import matplotlib.pyplot as plt\n",
    "# nltk\n",
    "from nltk.stem import WordNetLemmatizer\n",
    "# sklearn\n",
    "from sklearn.svm import LinearSVC\n",
    "from sklearn.naive_bayes import BernoulliNB\n",
    "from sklearn.linear_model import LogisticRegression\n",
    "from sklearn.model_selection import train_test_split\n",
    "from sklearn.feature_extraction.text import TfidfVectorizer\n",
    "from sklearn.metrics import confusion_matrix, classification_report"
   ]
  },
  {
   "cell_type": "code",
   "execution_count": 4,
   "metadata": {
    "executionInfo": {
     "elapsed": 1391,
     "status": "ok",
     "timestamp": 1628347815530,
     "user": {
      "displayName": "Suresha HP",
      "photoUrl": "https://lh3.googleusercontent.com/a-/AOh14GhDcYnUbnw4-j1oQP34WV3tGEnUDo29hkB1Vthp8oQ=s64",
      "userId": "01744058822138121722"
     },
     "user_tz": -330
    },
    "id": "w9mGNzLA7hVA"
   },
   "outputs": [],
   "source": [
    "df = pd.read_pickle('./pre-processed.pkl')"
   ]
  },
  {
   "cell_type": "code",
   "execution_count": 5,
   "metadata": {
    "colab": {
     "base_uri": "https://localhost:8080/"
    },
    "executionInfo": {
     "elapsed": 143,
     "status": "ok",
     "timestamp": 1628347815532,
     "user": {
      "displayName": "Suresha HP",
      "photoUrl": "https://lh3.googleusercontent.com/a-/AOh14GhDcYnUbnw4-j1oQP34WV3tGEnUDo29hkB1Vthp8oQ=s64",
      "userId": "01744058822138121722"
     },
     "user_tz": -330
    },
    "id": "juAjod0C8P1x",
    "outputId": "bf339e2c-f1f8-44b8-c26c-34e8ac2657d2"
   },
   "outputs": [
    {
     "data": {
      "text/plain": [
       "(98727, 44)"
      ]
     },
     "execution_count": 5,
     "metadata": {},
     "output_type": "execute_result"
    }
   ],
   "source": [
    "df.shape"
   ]
  },
  {
   "cell_type": "code",
   "execution_count": 6,
   "metadata": {
    "executionInfo": {
     "elapsed": 131,
     "status": "ok",
     "timestamp": 1628347815536,
     "user": {
      "displayName": "Suresha HP",
      "photoUrl": "https://lh3.googleusercontent.com/a-/AOh14GhDcYnUbnw4-j1oQP34WV3tGEnUDo29hkB1Vthp8oQ=s64",
      "userId": "01744058822138121722"
     },
     "user_tz": -330
    },
    "id": "uMXWjEI79IE5"
   },
   "outputs": [],
   "source": [
    "df = df.drop(['tidy_tweet','tidy_tweet_tokens','no_stop_joined','Hashtag','Location'], axis=1)"
   ]
  },
  {
   "cell_type": "code",
   "execution_count": 7,
   "metadata": {
    "colab": {
     "base_uri": "https://localhost:8080/"
    },
    "executionInfo": {
     "elapsed": 134,
     "status": "ok",
     "timestamp": 1628347815540,
     "user": {
      "displayName": "Suresha HP",
      "photoUrl": "https://lh3.googleusercontent.com/a-/AOh14GhDcYnUbnw4-j1oQP34WV3tGEnUDo29hkB1Vthp8oQ=s64",
      "userId": "01744058822138121722"
     },
     "user_tz": -330
    },
    "id": "A2XT4Ezp-AQU",
    "outputId": "3dc365c8-361a-4716-c649-6e2261224349"
   },
   "outputs": [
    {
     "name": "stdout",
     "output_type": "stream",
     "text": [
      "<class 'pandas.core.frame.DataFrame'>\n",
      "RangeIndex: 98727 entries, 0 to 98726\n",
      "Data columns (total 39 columns):\n",
      " #   Column                     Non-Null Count  Dtype  \n",
      "---  ------                     --------------  -----  \n",
      " 0   created_at                 98727 non-null  object \n",
      " 1   id                         98727 non-null  int64  \n",
      " 2   id_str                     98727 non-null  int64  \n",
      " 3   text                       98727 non-null  object \n",
      " 4   truncated                  98727 non-null  bool   \n",
      " 5   entities                   98727 non-null  object \n",
      " 6   metadata                   98727 non-null  object \n",
      " 7   source                     98727 non-null  object \n",
      " 8   in_reply_to_status_id      11204 non-null  float64\n",
      " 9   in_reply_to_status_id_str  11204 non-null  float64\n",
      " 10  in_reply_to_user_id        12568 non-null  float64\n",
      " 11  in_reply_to_user_id_str    12568 non-null  float64\n",
      " 12  in_reply_to_screen_name    12568 non-null  object \n",
      " 13  user                       98727 non-null  object \n",
      " 14  geo                        256 non-null    object \n",
      " 15  coordinates                256 non-null    object \n",
      " 16  place                      1610 non-null   object \n",
      " 17  contributors               0 non-null      float64\n",
      " 18  retweeted_status           23524 non-null  object \n",
      " 19  is_quote_status            98727 non-null  bool   \n",
      " 20  retweet_count              98727 non-null  int64  \n",
      " 21  favorite_count             98727 non-null  int64  \n",
      " 22  favorited                  98727 non-null  bool   \n",
      " 23  retweeted                  98727 non-null  bool   \n",
      " 24  possibly_sensitive         67551 non-null  object \n",
      " 25  lang                       98727 non-null  object \n",
      " 26  quoted_status_id           5371 non-null   float64\n",
      " 27  quoted_status_id_str       5371 non-null   float64\n",
      " 28  quoted_status              3898 non-null   object \n",
      " 29  extended_entities          2984 non-null   object \n",
      " 30  withheld_scope             6 non-null      object \n",
      " 31  withheld_in_countries      6 non-null      object \n",
      " 32  device                     98727 non-null  object \n",
      " 33  text_tokenized             98727 non-null  object \n",
      " 34  emoji_count                98727 non-null  int64  \n",
      " 35  word_count                 98727 non-null  int64  \n",
      " 36  character_count            98727 non-null  int64  \n",
      " 37  emoji_percent              98727 non-null  float64\n",
      " 38  tokens_no_stop             98727 non-null  object \n",
      "dtypes: bool(4), float64(8), int64(7), object(20)\n",
      "memory usage: 26.7+ MB\n"
     ]
    }
   ],
   "source": [
    "df.info()"
   ]
  },
  {
   "cell_type": "code",
   "execution_count": 8,
   "metadata": {
    "colab": {
     "base_uri": "https://localhost:8080/",
     "height": 204
    },
    "executionInfo": {
     "elapsed": 94,
     "status": "ok",
     "timestamp": 1628347815546,
     "user": {
      "displayName": "Suresha HP",
      "photoUrl": "https://lh3.googleusercontent.com/a-/AOh14GhDcYnUbnw4-j1oQP34WV3tGEnUDo29hkB1Vthp8oQ=s64",
      "userId": "01744058822138121722"
     },
     "user_tz": -330
    },
    "id": "abiQ9LXw-CuD",
    "outputId": "b91f298a-6f91-480e-b7cc-b2a757ef5ec8"
   },
   "outputs": [
    {
     "data": {
      "text/html": [
       "<div>\n",
       "<style scoped>\n",
       "    .dataframe tbody tr th:only-of-type {\n",
       "        vertical-align: middle;\n",
       "    }\n",
       "\n",
       "    .dataframe tbody tr th {\n",
       "        vertical-align: top;\n",
       "    }\n",
       "\n",
       "    .dataframe thead th {\n",
       "        text-align: right;\n",
       "    }\n",
       "</style>\n",
       "<table border=\"1\" class=\"dataframe\">\n",
       "  <thead>\n",
       "    <tr style=\"text-align: right;\">\n",
       "      <th></th>\n",
       "      <th>created_at</th>\n",
       "      <th>id</th>\n",
       "      <th>id_str</th>\n",
       "      <th>text</th>\n",
       "      <th>truncated</th>\n",
       "      <th>entities</th>\n",
       "      <th>metadata</th>\n",
       "      <th>source</th>\n",
       "      <th>in_reply_to_status_id</th>\n",
       "      <th>in_reply_to_status_id_str</th>\n",
       "      <th>...</th>\n",
       "      <th>extended_entities</th>\n",
       "      <th>withheld_scope</th>\n",
       "      <th>withheld_in_countries</th>\n",
       "      <th>device</th>\n",
       "      <th>text_tokenized</th>\n",
       "      <th>emoji_count</th>\n",
       "      <th>word_count</th>\n",
       "      <th>character_count</th>\n",
       "      <th>emoji_percent</th>\n",
       "      <th>tokens_no_stop</th>\n",
       "    </tr>\n",
       "  </thead>\n",
       "  <tbody>\n",
       "    <tr>\n",
       "      <th>0</th>\n",
       "      <td>Mon Dec 05 14:14:43 +0000 2022</td>\n",
       "      <td>1599769240004972544</td>\n",
       "      <td>1599769240004972544</td>\n",
       "      <td>RT @iot_automotive: 24h round-up. A collection...</td>\n",
       "      <td>False</td>\n",
       "      <td>{'hashtags': [{'text': 'AI', 'indices': [95, 9...</td>\n",
       "      <td>{'iso_language_code': 'en', 'result_type': 're...</td>\n",
       "      <td>&lt;a href=\"https://about.twitter.com/products/tw...</td>\n",
       "      <td>NaN</td>\n",
       "      <td>NaN</td>\n",
       "      <td>...</td>\n",
       "      <td>NaN</td>\n",
       "      <td>NaN</td>\n",
       "      <td>NaN</td>\n",
       "      <td>non-standard</td>\n",
       "      <td>[RT, @, iot_automotive, :, 24h, round-up, ., A...</td>\n",
       "      <td>0</td>\n",
       "      <td>15</td>\n",
       "      <td>140</td>\n",
       "      <td>0.0</td>\n",
       "      <td>[round, collection, tweets, enjoy]</td>\n",
       "    </tr>\n",
       "    <tr>\n",
       "      <th>1</th>\n",
       "      <td>Mon Dec 05 14:00:55 +0000 2022</td>\n",
       "      <td>1599765764113940483</td>\n",
       "      <td>1599765764113940483</td>\n",
       "      <td>Meet Powderworld: A Lightweight Simulation Env...</td>\n",
       "      <td>True</td>\n",
       "      <td>{'hashtags': [], 'symbols': [], 'user_mentions...</td>\n",
       "      <td>{'iso_language_code': 'en', 'result_type': 're...</td>\n",
       "      <td>&lt;a href=\"https://buffer.com\" rel=\"nofollow\"&gt;Bu...</td>\n",
       "      <td>NaN</td>\n",
       "      <td>NaN</td>\n",
       "      <td>...</td>\n",
       "      <td>NaN</td>\n",
       "      <td>NaN</td>\n",
       "      <td>NaN</td>\n",
       "      <td>non-standard</td>\n",
       "      <td>[Meet, Powderworld, :, A, Lightweight, Simulat...</td>\n",
       "      <td>0</td>\n",
       "      <td>12</td>\n",
       "      <td>140</td>\n",
       "      <td>0.0</td>\n",
       "      <td>[meet, powderworld, lightweight, simulation, e...</td>\n",
       "    </tr>\n",
       "    <tr>\n",
       "      <th>2</th>\n",
       "      <td>Mon Dec 05 14:00:04 +0000 2022</td>\n",
       "      <td>1599765552154775557</td>\n",
       "      <td>1599765552154775557</td>\n",
       "      <td>RT @GothamVirtual: #vr #vrgotham #3dvideomotio...</td>\n",
       "      <td>False</td>\n",
       "      <td>{'hashtags': [{'text': 'vr', 'indices': [19, 2...</td>\n",
       "      <td>{'iso_language_code': 'en', 'result_type': 're...</td>\n",
       "      <td>&lt;a href=\"http://robotconsumer.com/\" rel=\"nofol...</td>\n",
       "      <td>NaN</td>\n",
       "      <td>NaN</td>\n",
       "      <td>...</td>\n",
       "      <td>NaN</td>\n",
       "      <td>NaN</td>\n",
       "      <td>NaN</td>\n",
       "      <td>non-standard</td>\n",
       "      <td>[RT, @, GothamVirtual, :, #, vr, #, vrgotham, ...</td>\n",
       "      <td>0</td>\n",
       "      <td>18</td>\n",
       "      <td>140</td>\n",
       "      <td>0.0</td>\n",
       "      <td>[gotham, research, paper, investigates, fixed,...</td>\n",
       "    </tr>\n",
       "    <tr>\n",
       "      <th>3</th>\n",
       "      <td>Mon Dec 05 14:00:04 +0000 2022</td>\n",
       "      <td>1599765551378845697</td>\n",
       "      <td>1599765551378845697</td>\n",
       "      <td>RT @lidarnews: This research paper investigate...</td>\n",
       "      <td>False</td>\n",
       "      <td>{'hashtags': [{'text': 'lidar', 'indices': [74...</td>\n",
       "      <td>{'iso_language_code': 'en', 'result_type': 're...</td>\n",
       "      <td>&lt;a href=\"http://robotconsumer.com/\" rel=\"nofol...</td>\n",
       "      <td>NaN</td>\n",
       "      <td>NaN</td>\n",
       "      <td>...</td>\n",
       "      <td>NaN</td>\n",
       "      <td>NaN</td>\n",
       "      <td>NaN</td>\n",
       "      <td>non-standard</td>\n",
       "      <td>[RT, @, lidarnews, :, This, research, paper, i...</td>\n",
       "      <td>0</td>\n",
       "      <td>17</td>\n",
       "      <td>140</td>\n",
       "      <td>0.0</td>\n",
       "      <td>[research, paper, investigates, fixed, roadsid...</td>\n",
       "    </tr>\n",
       "    <tr>\n",
       "      <th>4</th>\n",
       "      <td>Mon Dec 05 14:00:04 +0000 2022</td>\n",
       "      <td>1599765550544130048</td>\n",
       "      <td>1599765550544130048</td>\n",
       "      <td>RT @guidaautonoma: American drivers are more l...</td>\n",
       "      <td>False</td>\n",
       "      <td>{'hashtags': [{'text': 'autonomous', 'indices'...</td>\n",
       "      <td>{'iso_language_code': 'en', 'result_type': 're...</td>\n",
       "      <td>&lt;a href=\"http://robotconsumer.com/\" rel=\"nofol...</td>\n",
       "      <td>NaN</td>\n",
       "      <td>NaN</td>\n",
       "      <td>...</td>\n",
       "      <td>NaN</td>\n",
       "      <td>NaN</td>\n",
       "      <td>NaN</td>\n",
       "      <td>non-standard</td>\n",
       "      <td>[RT, @, guidaautonoma, :, American, drivers, a...</td>\n",
       "      <td>0</td>\n",
       "      <td>22</td>\n",
       "      <td>140</td>\n",
       "      <td>0.0</td>\n",
       "      <td>[american, drivers, likely, benefit, self, dri...</td>\n",
       "    </tr>\n",
       "  </tbody>\n",
       "</table>\n",
       "<p>5 rows × 39 columns</p>\n",
       "</div>"
      ],
      "text/plain": [
       "                       created_at                   id               id_str  \\\n",
       "0  Mon Dec 05 14:14:43 +0000 2022  1599769240004972544  1599769240004972544   \n",
       "1  Mon Dec 05 14:00:55 +0000 2022  1599765764113940483  1599765764113940483   \n",
       "2  Mon Dec 05 14:00:04 +0000 2022  1599765552154775557  1599765552154775557   \n",
       "3  Mon Dec 05 14:00:04 +0000 2022  1599765551378845697  1599765551378845697   \n",
       "4  Mon Dec 05 14:00:04 +0000 2022  1599765550544130048  1599765550544130048   \n",
       "\n",
       "                                                text  truncated  \\\n",
       "0  RT @iot_automotive: 24h round-up. A collection...      False   \n",
       "1  Meet Powderworld: A Lightweight Simulation Env...       True   \n",
       "2  RT @GothamVirtual: #vr #vrgotham #3dvideomotio...      False   \n",
       "3  RT @lidarnews: This research paper investigate...      False   \n",
       "4  RT @guidaautonoma: American drivers are more l...      False   \n",
       "\n",
       "                                            entities  \\\n",
       "0  {'hashtags': [{'text': 'AI', 'indices': [95, 9...   \n",
       "1  {'hashtags': [], 'symbols': [], 'user_mentions...   \n",
       "2  {'hashtags': [{'text': 'vr', 'indices': [19, 2...   \n",
       "3  {'hashtags': [{'text': 'lidar', 'indices': [74...   \n",
       "4  {'hashtags': [{'text': 'autonomous', 'indices'...   \n",
       "\n",
       "                                            metadata  \\\n",
       "0  {'iso_language_code': 'en', 'result_type': 're...   \n",
       "1  {'iso_language_code': 'en', 'result_type': 're...   \n",
       "2  {'iso_language_code': 'en', 'result_type': 're...   \n",
       "3  {'iso_language_code': 'en', 'result_type': 're...   \n",
       "4  {'iso_language_code': 'en', 'result_type': 're...   \n",
       "\n",
       "                                              source  in_reply_to_status_id  \\\n",
       "0  <a href=\"https://about.twitter.com/products/tw...                    NaN   \n",
       "1  <a href=\"https://buffer.com\" rel=\"nofollow\">Bu...                    NaN   \n",
       "2  <a href=\"http://robotconsumer.com/\" rel=\"nofol...                    NaN   \n",
       "3  <a href=\"http://robotconsumer.com/\" rel=\"nofol...                    NaN   \n",
       "4  <a href=\"http://robotconsumer.com/\" rel=\"nofol...                    NaN   \n",
       "\n",
       "   in_reply_to_status_id_str  ...  extended_entities  withheld_scope  \\\n",
       "0                        NaN  ...                NaN             NaN   \n",
       "1                        NaN  ...                NaN             NaN   \n",
       "2                        NaN  ...                NaN             NaN   \n",
       "3                        NaN  ...                NaN             NaN   \n",
       "4                        NaN  ...                NaN             NaN   \n",
       "\n",
       "  withheld_in_countries        device  \\\n",
       "0                   NaN  non-standard   \n",
       "1                   NaN  non-standard   \n",
       "2                   NaN  non-standard   \n",
       "3                   NaN  non-standard   \n",
       "4                   NaN  non-standard   \n",
       "\n",
       "                                      text_tokenized emoji_count word_count  \\\n",
       "0  [RT, @, iot_automotive, :, 24h, round-up, ., A...           0         15   \n",
       "1  [Meet, Powderworld, :, A, Lightweight, Simulat...           0         12   \n",
       "2  [RT, @, GothamVirtual, :, #, vr, #, vrgotham, ...           0         18   \n",
       "3  [RT, @, lidarnews, :, This, research, paper, i...           0         17   \n",
       "4  [RT, @, guidaautonoma, :, American, drivers, a...           0         22   \n",
       "\n",
       "   character_count emoji_percent  \\\n",
       "0              140           0.0   \n",
       "1              140           0.0   \n",
       "2              140           0.0   \n",
       "3              140           0.0   \n",
       "4              140           0.0   \n",
       "\n",
       "                                      tokens_no_stop  \n",
       "0                 [round, collection, tweets, enjoy]  \n",
       "1  [meet, powderworld, lightweight, simulation, e...  \n",
       "2  [gotham, research, paper, investigates, fixed,...  \n",
       "3  [research, paper, investigates, fixed, roadsid...  \n",
       "4  [american, drivers, likely, benefit, self, dri...  \n",
       "\n",
       "[5 rows x 39 columns]"
      ]
     },
     "execution_count": 8,
     "metadata": {},
     "output_type": "execute_result"
    }
   ],
   "source": [
    "df.head()"
   ]
  },
  {
   "cell_type": "markdown",
   "metadata": {
    "id": "eNgZRXx2-idu"
   },
   "source": [
    "### Pre-Processing"
   ]
  },
  {
   "cell_type": "markdown",
   "metadata": {
    "id": "VJ0fGXKm-lTe"
   },
   "source": [
    "#### Remove Links"
   ]
  },
  {
   "cell_type": "code",
   "execution_count": 9,
   "metadata": {
    "executionInfo": {
     "elapsed": 86,
     "status": "ok",
     "timestamp": 1628347815549,
     "user": {
      "displayName": "Suresha HP",
      "photoUrl": "https://lh3.googleusercontent.com/a-/AOh14GhDcYnUbnw4-j1oQP34WV3tGEnUDo29hkB1Vthp8oQ=s64",
      "userId": "01744058822138121722"
     },
     "user_tz": -330
    },
    "id": "BY39vVkg-e-B"
   },
   "outputs": [],
   "source": [
    "def remove_links(tweet):\n",
    "    tweet_no_link = re.sub(r\"http\\S+\", \"\", tweet)\n",
    "    return tweet_no_link"
   ]
  },
  {
   "cell_type": "code",
   "execution_count": 10,
   "metadata": {
    "executionInfo": {
     "elapsed": 85,
     "status": "ok",
     "timestamp": 1628347815551,
     "user": {
      "displayName": "Suresha HP",
      "photoUrl": "https://lh3.googleusercontent.com/a-/AOh14GhDcYnUbnw4-j1oQP34WV3tGEnUDo29hkB1Vthp8oQ=s64",
      "userId": "01744058822138121722"
     },
     "user_tz": -330
    },
    "id": "Cm0AfFza-pKl"
   },
   "outputs": [],
   "source": [
    "df['tweet_text_p'] = np.vectorize(remove_links)(df['text'])"
   ]
  },
  {
   "cell_type": "code",
   "execution_count": 11,
   "metadata": {
    "executionInfo": {
     "elapsed": 82,
     "status": "ok",
     "timestamp": 1628347815553,
     "user": {
      "displayName": "Suresha HP",
      "photoUrl": "https://lh3.googleusercontent.com/a-/AOh14GhDcYnUbnw4-j1oQP34WV3tGEnUDo29hkB1Vthp8oQ=s64",
      "userId": "01744058822138121722"
     },
     "user_tz": -330
    },
    "id": "lbixUO7N-q-T"
   },
   "outputs": [],
   "source": [
    "def remove_links(tweet):\n",
    "    tweet_no_link = re.sub(r\"twitter.com\\S+\", \"\", tweet)\n",
    "    return tweet_no_link"
   ]
  },
  {
   "cell_type": "code",
   "execution_count": 12,
   "metadata": {
    "executionInfo": {
     "elapsed": 82,
     "status": "ok",
     "timestamp": 1628347815555,
     "user": {
      "displayName": "Suresha HP",
      "photoUrl": "https://lh3.googleusercontent.com/a-/AOh14GhDcYnUbnw4-j1oQP34WV3tGEnUDo29hkB1Vthp8oQ=s64",
      "userId": "01744058822138121722"
     },
     "user_tz": -330
    },
    "id": "4iKbui09-wyH"
   },
   "outputs": [],
   "source": [
    "df['tweet_text_p'] = np.vectorize(remove_links)(df['tweet_text_p'])"
   ]
  },
  {
   "cell_type": "markdown",
   "metadata": {
    "id": "J0zpChZD-zxW"
   },
   "source": [
    "### Remove twitter handles"
   ]
  },
  {
   "cell_type": "code",
   "execution_count": 13,
   "metadata": {
    "executionInfo": {
     "elapsed": 80,
     "status": "ok",
     "timestamp": 1628347815556,
     "user": {
      "displayName": "Suresha HP",
      "photoUrl": "https://lh3.googleusercontent.com/a-/AOh14GhDcYnUbnw4-j1oQP34WV3tGEnUDo29hkB1Vthp8oQ=s64",
      "userId": "01744058822138121722"
     },
     "user_tz": -330
    },
    "id": "zAhRwOjo-y5N"
   },
   "outputs": [],
   "source": [
    "def remove_users(tweet, pattern1, pattern2):\n",
    "    r = re.findall(pattern1, tweet)\n",
    "    for i in r:\n",
    "        tweet = re.sub(i, '', tweet)\n",
    "    \n",
    "    r = re.findall(pattern2, tweet)\n",
    "    for i in r:\n",
    "        tweet = re.sub(i, '', tweet)\n",
    "    return tweet"
   ]
  },
  {
   "cell_type": "code",
   "execution_count": 14,
   "metadata": {
    "executionInfo": {
     "elapsed": 1332,
     "status": "ok",
     "timestamp": 1628347816810,
     "user": {
      "displayName": "Suresha HP",
      "photoUrl": "https://lh3.googleusercontent.com/a-/AOh14GhDcYnUbnw4-j1oQP34WV3tGEnUDo29hkB1Vthp8oQ=s64",
      "userId": "01744058822138121722"
     },
     "user_tz": -330
    },
    "id": "K4FAJ9yx-4al"
   },
   "outputs": [],
   "source": [
    "df['tweet_text_p'] = np.vectorize(remove_users)(df['tweet_text_p'], \"@ [\\w]*\", \"@[\\w]*\")"
   ]
  },
  {
   "cell_type": "markdown",
   "metadata": {
    "id": "F_rGQm8E-8Tm"
   },
   "source": [
    "### Remove Hashtag"
   ]
  },
  {
   "cell_type": "code",
   "execution_count": 15,
   "metadata": {
    "executionInfo": {
     "elapsed": 22,
     "status": "ok",
     "timestamp": 1628347816813,
     "user": {
      "displayName": "Suresha HP",
      "photoUrl": "https://lh3.googleusercontent.com/a-/AOh14GhDcYnUbnw4-j1oQP34WV3tGEnUDo29hkB1Vthp8oQ=s64",
      "userId": "01744058822138121722"
     },
     "user_tz": -330
    },
    "id": "tnwN8-Wb-6Ou"
   },
   "outputs": [],
   "source": [
    "# We decided to keep hashtags because they add value to the sentiment.\n",
    "# Example df.tweet_text[20]\n",
    "def remove_hashtags(tweet, pattern1):\n",
    "    r = re.findall(pattern1, tweet)\n",
    "    for i in r:\n",
    "        tweet = re.sub(i, '', tweet)\n",
    "    return tweet"
   ]
  },
  {
   "cell_type": "code",
   "execution_count": 16,
   "metadata": {
    "executionInfo": {
     "elapsed": 21,
     "status": "ok",
     "timestamp": 1628347816815,
     "user": {
      "displayName": "Suresha HP",
      "photoUrl": "https://lh3.googleusercontent.com/a-/AOh14GhDcYnUbnw4-j1oQP34WV3tGEnUDo29hkB1Vthp8oQ=s64",
      "userId": "01744058822138121722"
     },
     "user_tz": -330
    },
    "id": "U78BKSUy-_h-"
   },
   "outputs": [],
   "source": [
    "df['tweet_text_p'] = np.vectorize(remove_hashtags)(df['tweet_text_p'], \"#\")"
   ]
  },
  {
   "cell_type": "markdown",
   "metadata": {
    "id": "0SvzqVT2_FuH"
   },
   "source": [
    "### remove collection of words (electric)"
   ]
  },
  {
   "cell_type": "code",
   "execution_count": 17,
   "metadata": {
    "executionInfo": {
     "elapsed": 21,
     "status": "ok",
     "timestamp": 1628347816816,
     "user": {
      "displayName": "Suresha HP",
      "photoUrl": "https://lh3.googleusercontent.com/a-/AOh14GhDcYnUbnw4-j1oQP34WV3tGEnUDo29hkB1Vthp8oQ=s64",
      "userId": "01744058822138121722"
     },
     "user_tz": -330
    },
    "id": "mkUn695i_A5O"
   },
   "outputs": [],
   "source": [
    "# It adds to the neutrality of the tweet as the compound score is the sum of all words sentiment score. \n",
    "# Example df.tweet_text[43]\n",
    "def remove_word(tweet, pattern1, pattern2):\n",
    "    r = re.findall(pattern1, tweet)\n",
    "    for i in r:\n",
    "        tweet = re.sub(i, \"\", tweet)\n",
    "    r = re.findall(pattern2, tweet)\n",
    "    for i in r:\n",
    "        tweet = re.sub(i, '', tweet)\n",
    "    return tweet"
   ]
  },
  {
   "cell_type": "code",
   "execution_count": 18,
   "metadata": {
    "executionInfo": {
     "elapsed": 743,
     "status": "ok",
     "timestamp": 1628347817540,
     "user": {
      "displayName": "Suresha HP",
      "photoUrl": "https://lh3.googleusercontent.com/a-/AOh14GhDcYnUbnw4-j1oQP34WV3tGEnUDo29hkB1Vthp8oQ=s64",
      "userId": "01744058822138121722"
     },
     "user_tz": -330
    },
    "id": "gfnNz8-o_NbE"
   },
   "outputs": [],
   "source": [
    "df['tweet_text_p'] = np.vectorize(remove_word)(df['tweet_text_p'], \"electric\", \"Tesla\")"
   ]
  },
  {
   "cell_type": "markdown",
   "metadata": {
    "id": "_HCDgpTg_VQX"
   },
   "source": [
    "### Remove Duplicates"
   ]
  },
  {
   "cell_type": "code",
   "execution_count": 19,
   "metadata": {
    "executionInfo": {
     "elapsed": 12,
     "status": "ok",
     "timestamp": 1628347817540,
     "user": {
      "displayName": "Suresha HP",
      "photoUrl": "https://lh3.googleusercontent.com/a-/AOh14GhDcYnUbnw4-j1oQP34WV3tGEnUDo29hkB1Vthp8oQ=s64",
      "userId": "01744058822138121722"
     },
     "user_tz": -330
    },
    "id": "Ygco2UtW_Rq6"
   },
   "outputs": [],
   "source": [
    "df.drop_duplicates(subset=['tweet_text_p'], keep='first', inplace=True)"
   ]
  },
  {
   "cell_type": "code",
   "execution_count": 20,
   "metadata": {
    "executionInfo": {
     "elapsed": 12,
     "status": "ok",
     "timestamp": 1628347817541,
     "user": {
      "displayName": "Suresha HP",
      "photoUrl": "https://lh3.googleusercontent.com/a-/AOh14GhDcYnUbnw4-j1oQP34WV3tGEnUDo29hkB1Vthp8oQ=s64",
      "userId": "01744058822138121722"
     },
     "user_tz": -330
    },
    "id": "ADtJGqDm_X3M"
   },
   "outputs": [],
   "source": [
    "df = df[~df.tweet_text_p.str.contains(\"Retweeted\")]"
   ]
  },
  {
   "cell_type": "code",
   "execution_count": 21,
   "metadata": {
    "colab": {
     "base_uri": "https://localhost:8080/"
    },
    "executionInfo": {
     "elapsed": 12,
     "status": "ok",
     "timestamp": 1628347817541,
     "user": {
      "displayName": "Suresha HP",
      "photoUrl": "https://lh3.googleusercontent.com/a-/AOh14GhDcYnUbnw4-j1oQP34WV3tGEnUDo29hkB1Vthp8oQ=s64",
      "userId": "01744058822138121722"
     },
     "user_tz": -330
    },
    "id": "NDZBJPvm_ZT-",
    "outputId": "9dd05e22-72e7-4b33-97e3-b1899c47ad6d"
   },
   "outputs": [
    {
     "data": {
      "text/plain": [
       "(91311, 40)"
      ]
     },
     "execution_count": 21,
     "metadata": {},
     "output_type": "execute_result"
    }
   ],
   "source": [
    "df.shape"
   ]
  },
  {
   "cell_type": "markdown",
   "metadata": {
    "id": "zPZuOGqL_dEW"
   },
   "source": [
    "### Applying VADER Sentiment Analyzer"
   ]
  },
  {
   "cell_type": "code",
   "execution_count": 22,
   "metadata": {
    "executionInfo": {
     "elapsed": 7,
     "status": "ok",
     "timestamp": 1628347817542,
     "user": {
      "displayName": "Suresha HP",
      "photoUrl": "https://lh3.googleusercontent.com/a-/AOh14GhDcYnUbnw4-j1oQP34WV3tGEnUDo29hkB1Vthp8oQ=s64",
      "userId": "01744058822138121722"
     },
     "user_tz": -330
    },
    "id": "LwAHSzdM_a1B"
   },
   "outputs": [],
   "source": [
    "# Create an object of Vader Sentiment Analyzer\n",
    "vader_analyzer = SentimentIntensityAnalyzer()"
   ]
  },
  {
   "cell_type": "code",
   "execution_count": 23,
   "metadata": {},
   "outputs": [],
   "source": [
    "def is_positive(tweet: str) -> bool:\n",
    "    \"\"\"True if tweet has positive compound sentiment, False otherwise.\"\"\"\n",
    "    return vader_analyzer.polarity_scores(tweet)[\"compound\"] > 0"
   ]
  },
  {
   "cell_type": "code",
   "execution_count": 24,
   "metadata": {},
   "outputs": [
    {
     "data": {
      "text/html": [
       "<div>\n",
       "<style scoped>\n",
       "    .dataframe tbody tr th:only-of-type {\n",
       "        vertical-align: middle;\n",
       "    }\n",
       "\n",
       "    .dataframe tbody tr th {\n",
       "        vertical-align: top;\n",
       "    }\n",
       "\n",
       "    .dataframe thead th {\n",
       "        text-align: right;\n",
       "    }\n",
       "</style>\n",
       "<table border=\"1\" class=\"dataframe\">\n",
       "  <thead>\n",
       "    <tr style=\"text-align: right;\">\n",
       "      <th></th>\n",
       "      <th>created_at</th>\n",
       "      <th>id</th>\n",
       "      <th>id_str</th>\n",
       "      <th>text</th>\n",
       "      <th>truncated</th>\n",
       "      <th>entities</th>\n",
       "      <th>metadata</th>\n",
       "      <th>source</th>\n",
       "      <th>in_reply_to_status_id</th>\n",
       "      <th>in_reply_to_status_id_str</th>\n",
       "      <th>...</th>\n",
       "      <th>withheld_in_countries</th>\n",
       "      <th>device</th>\n",
       "      <th>text_tokenized</th>\n",
       "      <th>emoji_count</th>\n",
       "      <th>word_count</th>\n",
       "      <th>character_count</th>\n",
       "      <th>emoji_percent</th>\n",
       "      <th>tokens_no_stop</th>\n",
       "      <th>tweet_text_p</th>\n",
       "      <th>label</th>\n",
       "    </tr>\n",
       "  </thead>\n",
       "  <tbody>\n",
       "    <tr>\n",
       "      <th>0</th>\n",
       "      <td>Mon Dec 05 14:14:43 +0000 2022</td>\n",
       "      <td>1599769240004972544</td>\n",
       "      <td>1599769240004972544</td>\n",
       "      <td>RT @iot_automotive: 24h round-up. A collection...</td>\n",
       "      <td>False</td>\n",
       "      <td>{'hashtags': [{'text': 'AI', 'indices': [95, 9...</td>\n",
       "      <td>{'iso_language_code': 'en', 'result_type': 're...</td>\n",
       "      <td>&lt;a href=\"https://about.twitter.com/products/tw...</td>\n",
       "      <td>NaN</td>\n",
       "      <td>NaN</td>\n",
       "      <td>...</td>\n",
       "      <td>NaN</td>\n",
       "      <td>non-standard</td>\n",
       "      <td>[RT, @, iot_automotive, :, 24h, round-up, ., A...</td>\n",
       "      <td>0</td>\n",
       "      <td>15</td>\n",
       "      <td>140</td>\n",
       "      <td>0.000000</td>\n",
       "      <td>[round, collection, tweets, enjoy]</td>\n",
       "      <td>RT : 24h round-up. A collection of TOP TWEETS....</td>\n",
       "      <td>True</td>\n",
       "    </tr>\n",
       "    <tr>\n",
       "      <th>1</th>\n",
       "      <td>Mon Dec 05 14:00:55 +0000 2022</td>\n",
       "      <td>1599765764113940483</td>\n",
       "      <td>1599765764113940483</td>\n",
       "      <td>Meet Powderworld: A Lightweight Simulation Env...</td>\n",
       "      <td>True</td>\n",
       "      <td>{'hashtags': [], 'symbols': [], 'user_mentions...</td>\n",
       "      <td>{'iso_language_code': 'en', 'result_type': 're...</td>\n",
       "      <td>&lt;a href=\"https://buffer.com\" rel=\"nofollow\"&gt;Bu...</td>\n",
       "      <td>NaN</td>\n",
       "      <td>NaN</td>\n",
       "      <td>...</td>\n",
       "      <td>NaN</td>\n",
       "      <td>non-standard</td>\n",
       "      <td>[Meet, Powderworld, :, A, Lightweight, Simulat...</td>\n",
       "      <td>0</td>\n",
       "      <td>12</td>\n",
       "      <td>140</td>\n",
       "      <td>0.000000</td>\n",
       "      <td>[meet, powderworld, lightweight, simulation, e...</td>\n",
       "      <td>Meet Powderworld: A Lightweight Simulation Env...</td>\n",
       "      <td>False</td>\n",
       "    </tr>\n",
       "    <tr>\n",
       "      <th>2</th>\n",
       "      <td>Mon Dec 05 14:00:04 +0000 2022</td>\n",
       "      <td>1599765552154775557</td>\n",
       "      <td>1599765552154775557</td>\n",
       "      <td>RT @GothamVirtual: #vr #vrgotham #3dvideomotio...</td>\n",
       "      <td>False</td>\n",
       "      <td>{'hashtags': [{'text': 'vr', 'indices': [19, 2...</td>\n",
       "      <td>{'iso_language_code': 'en', 'result_type': 're...</td>\n",
       "      <td>&lt;a href=\"http://robotconsumer.com/\" rel=\"nofol...</td>\n",
       "      <td>NaN</td>\n",
       "      <td>NaN</td>\n",
       "      <td>...</td>\n",
       "      <td>NaN</td>\n",
       "      <td>non-standard</td>\n",
       "      <td>[RT, @, GothamVirtual, :, #, vr, #, vrgotham, ...</td>\n",
       "      <td>0</td>\n",
       "      <td>18</td>\n",
       "      <td>140</td>\n",
       "      <td>0.000000</td>\n",
       "      <td>[gotham, research, paper, investigates, fixed,...</td>\n",
       "      <td>RT : vr vrgotham 3dvideomotion This research p...</td>\n",
       "      <td>True</td>\n",
       "    </tr>\n",
       "    <tr>\n",
       "      <th>3</th>\n",
       "      <td>Mon Dec 05 14:00:04 +0000 2022</td>\n",
       "      <td>1599765551378845697</td>\n",
       "      <td>1599765551378845697</td>\n",
       "      <td>RT @lidarnews: This research paper investigate...</td>\n",
       "      <td>False</td>\n",
       "      <td>{'hashtags': [{'text': 'lidar', 'indices': [74...</td>\n",
       "      <td>{'iso_language_code': 'en', 'result_type': 're...</td>\n",
       "      <td>&lt;a href=\"http://robotconsumer.com/\" rel=\"nofol...</td>\n",
       "      <td>NaN</td>\n",
       "      <td>NaN</td>\n",
       "      <td>...</td>\n",
       "      <td>NaN</td>\n",
       "      <td>non-standard</td>\n",
       "      <td>[RT, @, lidarnews, :, This, research, paper, i...</td>\n",
       "      <td>0</td>\n",
       "      <td>17</td>\n",
       "      <td>140</td>\n",
       "      <td>0.000000</td>\n",
       "      <td>[research, paper, investigates, fixed, roadsid...</td>\n",
       "      <td>RT : This research paper investigates the use ...</td>\n",
       "      <td>True</td>\n",
       "    </tr>\n",
       "    <tr>\n",
       "      <th>4</th>\n",
       "      <td>Mon Dec 05 14:00:04 +0000 2022</td>\n",
       "      <td>1599765550544130048</td>\n",
       "      <td>1599765550544130048</td>\n",
       "      <td>RT @guidaautonoma: American drivers are more l...</td>\n",
       "      <td>False</td>\n",
       "      <td>{'hashtags': [{'text': 'autonomous', 'indices'...</td>\n",
       "      <td>{'iso_language_code': 'en', 'result_type': 're...</td>\n",
       "      <td>&lt;a href=\"http://robotconsumer.com/\" rel=\"nofol...</td>\n",
       "      <td>NaN</td>\n",
       "      <td>NaN</td>\n",
       "      <td>...</td>\n",
       "      <td>NaN</td>\n",
       "      <td>non-standard</td>\n",
       "      <td>[RT, @, guidaautonoma, :, American, drivers, a...</td>\n",
       "      <td>0</td>\n",
       "      <td>22</td>\n",
       "      <td>140</td>\n",
       "      <td>0.000000</td>\n",
       "      <td>[american, drivers, likely, benefit, self, dri...</td>\n",
       "      <td>RT : American drivers are more likely to a see...</td>\n",
       "      <td>True</td>\n",
       "    </tr>\n",
       "    <tr>\n",
       "      <th>...</th>\n",
       "      <td>...</td>\n",
       "      <td>...</td>\n",
       "      <td>...</td>\n",
       "      <td>...</td>\n",
       "      <td>...</td>\n",
       "      <td>...</td>\n",
       "      <td>...</td>\n",
       "      <td>...</td>\n",
       "      <td>...</td>\n",
       "      <td>...</td>\n",
       "      <td>...</td>\n",
       "      <td>...</td>\n",
       "      <td>...</td>\n",
       "      <td>...</td>\n",
       "      <td>...</td>\n",
       "      <td>...</td>\n",
       "      <td>...</td>\n",
       "      <td>...</td>\n",
       "      <td>...</td>\n",
       "      <td>...</td>\n",
       "      <td>...</td>\n",
       "    </tr>\n",
       "    <tr>\n",
       "      <th>98722</th>\n",
       "      <td>Fri Oct 21 17:33:17 +0000 2022</td>\n",
       "      <td>1583511757301067776</td>\n",
       "      <td>1583511757301067776</td>\n",
       "      <td>Our #VersiCat #zeroemission #workboat is a Fin...</td>\n",
       "      <td>True</td>\n",
       "      <td>{'hashtags': [{'text': 'VersiCat', 'indices': ...</td>\n",
       "      <td>{'iso_language_code': 'en', 'result_type': 're...</td>\n",
       "      <td>&lt;a href=\"http://twitter.com/download/iphone\" r...</td>\n",
       "      <td>NaN</td>\n",
       "      <td>NaN</td>\n",
       "      <td>...</td>\n",
       "      <td>NaN</td>\n",
       "      <td>iPhone</td>\n",
       "      <td>[Our, #, VersiCat, #, zeroemission, #, workboa...</td>\n",
       "      <td>2</td>\n",
       "      <td>19</td>\n",
       "      <td>140</td>\n",
       "      <td>1.428571</td>\n",
       "      <td>[finalist, best, electric, boat, support, proud]</td>\n",
       "      <td>Our VersiCat zeroemission workboat is a Finali...</td>\n",
       "      <td>True</td>\n",
       "    </tr>\n",
       "    <tr>\n",
       "      <th>98723</th>\n",
       "      <td>Fri Oct 21 16:01:05 +0000 2022</td>\n",
       "      <td>1583488552117055489</td>\n",
       "      <td>1583488552117055489</td>\n",
       "      <td>⏰ HCD works closely with @CalEnergy to increas...</td>\n",
       "      <td>True</td>\n",
       "      <td>{'hashtags': [{'text': 'zeroemission', 'indice...</td>\n",
       "      <td>{'iso_language_code': 'en', 'result_type': 're...</td>\n",
       "      <td>&lt;a href=\"http://twitter.com/download/iphone\" r...</td>\n",
       "      <td>NaN</td>\n",
       "      <td>NaN</td>\n",
       "      <td>...</td>\n",
       "      <td>NaN</td>\n",
       "      <td>iPhone</td>\n",
       "      <td>[⏰, HCD, works, closely, with, @, CalEnergy, t...</td>\n",
       "      <td>2</td>\n",
       "      <td>21</td>\n",
       "      <td>140</td>\n",
       "      <td>1.428571</td>\n",
       "      <td>[works, closely, increase, access, reliability...</td>\n",
       "      <td>⏰ HCD works closely with  to increase access t...</td>\n",
       "      <td>True</td>\n",
       "    </tr>\n",
       "    <tr>\n",
       "      <th>98724</th>\n",
       "      <td>Fri Oct 21 16:01:00 +0000 2022</td>\n",
       "      <td>1583488530566680576</td>\n",
       "      <td>1583488530566680576</td>\n",
       "      <td>It's just one of @Chevron's strategies to help...</td>\n",
       "      <td>False</td>\n",
       "      <td>{'hashtags': [{'text': 'California', 'indices'...</td>\n",
       "      <td>{'iso_language_code': 'en', 'result_type': 're...</td>\n",
       "      <td>&lt;a href=\"https://mobile.twitter.com\" rel=\"nofo...</td>\n",
       "      <td>NaN</td>\n",
       "      <td>NaN</td>\n",
       "      <td>...</td>\n",
       "      <td>NaN</td>\n",
       "      <td>Mobile device</td>\n",
       "      <td>[It, 's, just, one, of, @, Chevron, 's, strate...</td>\n",
       "      <td>0</td>\n",
       "      <td>18</td>\n",
       "      <td>140</td>\n",
       "      <td>0.000000</td>\n",
       "      <td>[strategies, help, meet, ambitious, goals, sta...</td>\n",
       "      <td>It's just one of 's strategies to help Califor...</td>\n",
       "      <td>True</td>\n",
       "    </tr>\n",
       "    <tr>\n",
       "      <th>98725</th>\n",
       "      <td>Fri Oct 21 15:38:21 +0000 2022</td>\n",
       "      <td>1583482832835731456</td>\n",
       "      <td>1583482832835731456</td>\n",
       "      <td>A demonstrator of the first ever #tophammer #b...</td>\n",
       "      <td>True</td>\n",
       "      <td>{'hashtags': [{'text': 'tophammer', 'indices':...</td>\n",
       "      <td>{'iso_language_code': 'en', 'result_type': 're...</td>\n",
       "      <td>&lt;a href=\"https://mobile.twitter.com\" rel=\"nofo...</td>\n",
       "      <td>NaN</td>\n",
       "      <td>NaN</td>\n",
       "      <td>...</td>\n",
       "      <td>NaN</td>\n",
       "      <td>Mobile device</td>\n",
       "      <td>[A, demonstrator, of, the, first, ever, #, top...</td>\n",
       "      <td>0</td>\n",
       "      <td>19</td>\n",
       "      <td>140</td>\n",
       "      <td>0.000000</td>\n",
       "      <td>[demonstrator, first, ever, drill]</td>\n",
       "      <td>A demonstrator of the first ever tophammer bat...</td>\n",
       "      <td>False</td>\n",
       "    </tr>\n",
       "    <tr>\n",
       "      <th>98726</th>\n",
       "      <td>Fri Oct 21 15:07:02 +0000 2022</td>\n",
       "      <td>1583474949343580160</td>\n",
       "      <td>1583474949343580160</td>\n",
       "      <td>Do you want to know more about #zeroemission #...</td>\n",
       "      <td>True</td>\n",
       "      <td>{'hashtags': [{'text': 'zeroemission', 'indice...</td>\n",
       "      <td>{'iso_language_code': 'en', 'result_type': 're...</td>\n",
       "      <td>&lt;a href=\"http://www.hubspot.com/\" rel=\"nofollo...</td>\n",
       "      <td>NaN</td>\n",
       "      <td>NaN</td>\n",
       "      <td>...</td>\n",
       "      <td>NaN</td>\n",
       "      <td>non-standard</td>\n",
       "      <td>[Do, you, want, to, know, more, about, #, zero...</td>\n",
       "      <td>0</td>\n",
       "      <td>18</td>\n",
       "      <td>139</td>\n",
       "      <td>0.000000</td>\n",
       "      <td>[want, know, solutions, applications, join]</td>\n",
       "      <td>Do you want to know more about zeroemission hy...</td>\n",
       "      <td>True</td>\n",
       "    </tr>\n",
       "  </tbody>\n",
       "</table>\n",
       "<p>91311 rows × 41 columns</p>\n",
       "</div>"
      ],
      "text/plain": [
       "                           created_at                   id  \\\n",
       "0      Mon Dec 05 14:14:43 +0000 2022  1599769240004972544   \n",
       "1      Mon Dec 05 14:00:55 +0000 2022  1599765764113940483   \n",
       "2      Mon Dec 05 14:00:04 +0000 2022  1599765552154775557   \n",
       "3      Mon Dec 05 14:00:04 +0000 2022  1599765551378845697   \n",
       "4      Mon Dec 05 14:00:04 +0000 2022  1599765550544130048   \n",
       "...                               ...                  ...   \n",
       "98722  Fri Oct 21 17:33:17 +0000 2022  1583511757301067776   \n",
       "98723  Fri Oct 21 16:01:05 +0000 2022  1583488552117055489   \n",
       "98724  Fri Oct 21 16:01:00 +0000 2022  1583488530566680576   \n",
       "98725  Fri Oct 21 15:38:21 +0000 2022  1583482832835731456   \n",
       "98726  Fri Oct 21 15:07:02 +0000 2022  1583474949343580160   \n",
       "\n",
       "                    id_str                                               text  \\\n",
       "0      1599769240004972544  RT @iot_automotive: 24h round-up. A collection...   \n",
       "1      1599765764113940483  Meet Powderworld: A Lightweight Simulation Env...   \n",
       "2      1599765552154775557  RT @GothamVirtual: #vr #vrgotham #3dvideomotio...   \n",
       "3      1599765551378845697  RT @lidarnews: This research paper investigate...   \n",
       "4      1599765550544130048  RT @guidaautonoma: American drivers are more l...   \n",
       "...                    ...                                                ...   \n",
       "98722  1583511757301067776  Our #VersiCat #zeroemission #workboat is a Fin...   \n",
       "98723  1583488552117055489  ⏰ HCD works closely with @CalEnergy to increas...   \n",
       "98724  1583488530566680576  It's just one of @Chevron's strategies to help...   \n",
       "98725  1583482832835731456  A demonstrator of the first ever #tophammer #b...   \n",
       "98726  1583474949343580160  Do you want to know more about #zeroemission #...   \n",
       "\n",
       "       truncated                                           entities  \\\n",
       "0          False  {'hashtags': [{'text': 'AI', 'indices': [95, 9...   \n",
       "1           True  {'hashtags': [], 'symbols': [], 'user_mentions...   \n",
       "2          False  {'hashtags': [{'text': 'vr', 'indices': [19, 2...   \n",
       "3          False  {'hashtags': [{'text': 'lidar', 'indices': [74...   \n",
       "4          False  {'hashtags': [{'text': 'autonomous', 'indices'...   \n",
       "...          ...                                                ...   \n",
       "98722       True  {'hashtags': [{'text': 'VersiCat', 'indices': ...   \n",
       "98723       True  {'hashtags': [{'text': 'zeroemission', 'indice...   \n",
       "98724      False  {'hashtags': [{'text': 'California', 'indices'...   \n",
       "98725       True  {'hashtags': [{'text': 'tophammer', 'indices':...   \n",
       "98726       True  {'hashtags': [{'text': 'zeroemission', 'indice...   \n",
       "\n",
       "                                                metadata  \\\n",
       "0      {'iso_language_code': 'en', 'result_type': 're...   \n",
       "1      {'iso_language_code': 'en', 'result_type': 're...   \n",
       "2      {'iso_language_code': 'en', 'result_type': 're...   \n",
       "3      {'iso_language_code': 'en', 'result_type': 're...   \n",
       "4      {'iso_language_code': 'en', 'result_type': 're...   \n",
       "...                                                  ...   \n",
       "98722  {'iso_language_code': 'en', 'result_type': 're...   \n",
       "98723  {'iso_language_code': 'en', 'result_type': 're...   \n",
       "98724  {'iso_language_code': 'en', 'result_type': 're...   \n",
       "98725  {'iso_language_code': 'en', 'result_type': 're...   \n",
       "98726  {'iso_language_code': 'en', 'result_type': 're...   \n",
       "\n",
       "                                                  source  \\\n",
       "0      <a href=\"https://about.twitter.com/products/tw...   \n",
       "1      <a href=\"https://buffer.com\" rel=\"nofollow\">Bu...   \n",
       "2      <a href=\"http://robotconsumer.com/\" rel=\"nofol...   \n",
       "3      <a href=\"http://robotconsumer.com/\" rel=\"nofol...   \n",
       "4      <a href=\"http://robotconsumer.com/\" rel=\"nofol...   \n",
       "...                                                  ...   \n",
       "98722  <a href=\"http://twitter.com/download/iphone\" r...   \n",
       "98723  <a href=\"http://twitter.com/download/iphone\" r...   \n",
       "98724  <a href=\"https://mobile.twitter.com\" rel=\"nofo...   \n",
       "98725  <a href=\"https://mobile.twitter.com\" rel=\"nofo...   \n",
       "98726  <a href=\"http://www.hubspot.com/\" rel=\"nofollo...   \n",
       "\n",
       "       in_reply_to_status_id  in_reply_to_status_id_str  ...  \\\n",
       "0                        NaN                        NaN  ...   \n",
       "1                        NaN                        NaN  ...   \n",
       "2                        NaN                        NaN  ...   \n",
       "3                        NaN                        NaN  ...   \n",
       "4                        NaN                        NaN  ...   \n",
       "...                      ...                        ...  ...   \n",
       "98722                    NaN                        NaN  ...   \n",
       "98723                    NaN                        NaN  ...   \n",
       "98724                    NaN                        NaN  ...   \n",
       "98725                    NaN                        NaN  ...   \n",
       "98726                    NaN                        NaN  ...   \n",
       "\n",
       "       withheld_in_countries         device  \\\n",
       "0                        NaN   non-standard   \n",
       "1                        NaN   non-standard   \n",
       "2                        NaN   non-standard   \n",
       "3                        NaN   non-standard   \n",
       "4                        NaN   non-standard   \n",
       "...                      ...            ...   \n",
       "98722                    NaN         iPhone   \n",
       "98723                    NaN         iPhone   \n",
       "98724                    NaN  Mobile device   \n",
       "98725                    NaN  Mobile device   \n",
       "98726                    NaN   non-standard   \n",
       "\n",
       "                                          text_tokenized emoji_count  \\\n",
       "0      [RT, @, iot_automotive, :, 24h, round-up, ., A...           0   \n",
       "1      [Meet, Powderworld, :, A, Lightweight, Simulat...           0   \n",
       "2      [RT, @, GothamVirtual, :, #, vr, #, vrgotham, ...           0   \n",
       "3      [RT, @, lidarnews, :, This, research, paper, i...           0   \n",
       "4      [RT, @, guidaautonoma, :, American, drivers, a...           0   \n",
       "...                                                  ...         ...   \n",
       "98722  [Our, #, VersiCat, #, zeroemission, #, workboa...           2   \n",
       "98723  [⏰, HCD, works, closely, with, @, CalEnergy, t...           2   \n",
       "98724  [It, 's, just, one, of, @, Chevron, 's, strate...           0   \n",
       "98725  [A, demonstrator, of, the, first, ever, #, top...           0   \n",
       "98726  [Do, you, want, to, know, more, about, #, zero...           0   \n",
       "\n",
       "      word_count character_count emoji_percent  \\\n",
       "0             15             140      0.000000   \n",
       "1             12             140      0.000000   \n",
       "2             18             140      0.000000   \n",
       "3             17             140      0.000000   \n",
       "4             22             140      0.000000   \n",
       "...          ...             ...           ...   \n",
       "98722         19             140      1.428571   \n",
       "98723         21             140      1.428571   \n",
       "98724         18             140      0.000000   \n",
       "98725         19             140      0.000000   \n",
       "98726         18             139      0.000000   \n",
       "\n",
       "                                          tokens_no_stop  \\\n",
       "0                     [round, collection, tweets, enjoy]   \n",
       "1      [meet, powderworld, lightweight, simulation, e...   \n",
       "2      [gotham, research, paper, investigates, fixed,...   \n",
       "3      [research, paper, investigates, fixed, roadsid...   \n",
       "4      [american, drivers, likely, benefit, self, dri...   \n",
       "...                                                  ...   \n",
       "98722   [finalist, best, electric, boat, support, proud]   \n",
       "98723  [works, closely, increase, access, reliability...   \n",
       "98724  [strategies, help, meet, ambitious, goals, sta...   \n",
       "98725                 [demonstrator, first, ever, drill]   \n",
       "98726        [want, know, solutions, applications, join]   \n",
       "\n",
       "                                            tweet_text_p  label  \n",
       "0      RT : 24h round-up. A collection of TOP TWEETS....   True  \n",
       "1      Meet Powderworld: A Lightweight Simulation Env...  False  \n",
       "2      RT : vr vrgotham 3dvideomotion This research p...   True  \n",
       "3      RT : This research paper investigates the use ...   True  \n",
       "4      RT : American drivers are more likely to a see...   True  \n",
       "...                                                  ...    ...  \n",
       "98722  Our VersiCat zeroemission workboat is a Finali...   True  \n",
       "98723  ⏰ HCD works closely with  to increase access t...   True  \n",
       "98724  It's just one of 's strategies to help Califor...   True  \n",
       "98725  A demonstrator of the first ever tophammer bat...  False  \n",
       "98726  Do you want to know more about zeroemission hy...   True  \n",
       "\n",
       "[91311 rows x 41 columns]"
      ]
     },
     "execution_count": 24,
     "metadata": {},
     "output_type": "execute_result"
    }
   ],
   "source": [
    "df['label'] = df['tweet_text_p'].apply(is_positive)\n",
    "df"
   ]
  },
  {
   "cell_type": "code",
   "execution_count": 25,
   "metadata": {},
   "outputs": [],
   "source": [
    "df['target']=df['label'].apply(lambda x: 0 if x==False else 1)"
   ]
  },
  {
   "cell_type": "code",
   "execution_count": 26,
   "metadata": {},
   "outputs": [
    {
     "data": {
      "image/png": "[encoded data removed]",
      "text/plain": [
       "<Figure size 640x480 with 1 Axes>"
      ]
     },
     "metadata": {},
     "output_type": "display_data"
    }
   ],
   "source": [
    "# Plotting the distribution for dataset.\n",
    "ax = df.groupby('target').count().plot(kind='bar', title='Distribution of data',legend=False)\n",
    "ax.set_xticklabels(['Negative','Positive'], rotation=0)\n",
    "# Storing data in lists.\n",
    "text, sentiment = list(df['tweet_text_p']), list(df['target'])"
   ]
  },
  {
   "cell_type": "code",
   "execution_count": 27,
   "metadata": {},
   "outputs": [
    {
     "data": {
      "text/plain": [
       "array([1, 0], dtype=int64)"
      ]
     },
     "execution_count": 27,
     "metadata": {},
     "output_type": "execute_result"
    }
   ],
   "source": [
    "# Print unique values of target variables\n",
    "data=df[['tweet_text_p','target']]\n",
    "data['target'].unique()"
   ]
  },
  {
   "cell_type": "code",
   "execution_count": 28,
   "metadata": {},
   "outputs": [],
   "source": [
    "# Separating positive and negative tweets\n",
    "\n",
    "data_pos = data[data['target'] == 1]\n",
    "data_neg = data[data['target'] == 0]"
   ]
  },
  {
   "cell_type": "code",
   "execution_count": 29,
   "metadata": {},
   "outputs": [],
   "source": [
    "# taking one fourth data so we can run on our machine easily\n",
    "\n",
    "data_pos = data_pos.iloc[:int(30000)]\n",
    "data_neg = data_neg.iloc[:int(30000)]"
   ]
  },
  {
   "cell_type": "code",
   "execution_count": 30,
   "metadata": {},
   "outputs": [],
   "source": [
    "# Combining positive and negative tweets\n",
    "\n",
    "dataset = pd.concat([data_pos, data_neg])"
   ]
  },
  {
   "cell_type": "code",
   "execution_count": 31,
   "metadata": {},
   "outputs": [
    {
     "data": {
      "text/html": [
       "<div>\n",
       "<style scoped>\n",
       "    .dataframe tbody tr th:only-of-type {\n",
       "        vertical-align: middle;\n",
       "    }\n",
       "\n",
       "    .dataframe tbody tr th {\n",
       "        vertical-align: top;\n",
       "    }\n",
       "\n",
       "    .dataframe thead th {\n",
       "        text-align: right;\n",
       "    }\n",
       "</style>\n",
       "<table border=\"1\" class=\"dataframe\">\n",
       "  <thead>\n",
       "    <tr style=\"text-align: right;\">\n",
       "      <th></th>\n",
       "      <th>tweet_text_p</th>\n",
       "      <th>target</th>\n",
       "    </tr>\n",
       "  </thead>\n",
       "  <tbody>\n",
       "    <tr>\n",
       "      <th>0</th>\n",
       "      <td>RT : 24h round-up. A collection of TOP TWEETS....</td>\n",
       "      <td>1</td>\n",
       "    </tr>\n",
       "    <tr>\n",
       "      <th>2</th>\n",
       "      <td>RT : vr vrgotham 3dvideomotion This research p...</td>\n",
       "      <td>1</td>\n",
       "    </tr>\n",
       "    <tr>\n",
       "      <th>3</th>\n",
       "      <td>RT : This research paper investigates the use ...</td>\n",
       "      <td>1</td>\n",
       "    </tr>\n",
       "    <tr>\n",
       "      <th>4</th>\n",
       "      <td>RT : American drivers are more likely to a see...</td>\n",
       "      <td>1</td>\n",
       "    </tr>\n",
       "    <tr>\n",
       "      <th>7</th>\n",
       "      <td>This research paper investigates the use of fi...</td>\n",
       "      <td>1</td>\n",
       "    </tr>\n",
       "    <tr>\n",
       "      <th>...</th>\n",
       "      <td>...</td>\n",
       "      <td>...</td>\n",
       "    </tr>\n",
       "    <tr>\n",
       "      <th>57706</th>\n",
       "      <td>Oh I know. That’s not the route I’d go since ...</td>\n",
       "      <td>0</td>\n",
       "    </tr>\n",
       "    <tr>\n",
       "      <th>57708</th>\n",
       "      <td>Charged EVs | Geotab and Atom Power partner on...</td>\n",
       "      <td>0</td>\n",
       "    </tr>\n",
       "    <tr>\n",
       "      <th>57709</th>\n",
       "      <td>Don't. First car, get the cheapest diesel. Th...</td>\n",
       "      <td>0</td>\n",
       "    </tr>\n",
       "    <tr>\n",
       "      <th>57710</th>\n",
       "      <td>RT : Despite global leaps towards the EV indus...</td>\n",
       "      <td>0</td>\n",
       "    </tr>\n",
       "    <tr>\n",
       "      <th>57711</th>\n",
       "      <td>Worse car? Of C&amp;amp;D's top EVs this year, o...</td>\n",
       "      <td>0</td>\n",
       "    </tr>\n",
       "  </tbody>\n",
       "</table>\n",
       "<p>60000 rows × 2 columns</p>\n",
       "</div>"
      ],
      "text/plain": [
       "                                            tweet_text_p  target\n",
       "0      RT : 24h round-up. A collection of TOP TWEETS....       1\n",
       "2      RT : vr vrgotham 3dvideomotion This research p...       1\n",
       "3      RT : This research paper investigates the use ...       1\n",
       "4      RT : American drivers are more likely to a see...       1\n",
       "7      This research paper investigates the use of fi...       1\n",
       "...                                                  ...     ...\n",
       "57706   Oh I know. That’s not the route I’d go since ...       0\n",
       "57708  Charged EVs | Geotab and Atom Power partner on...       0\n",
       "57709   Don't. First car, get the cheapest diesel. Th...       0\n",
       "57710  RT : Despite global leaps towards the EV indus...       0\n",
       "57711    Worse car? Of C&amp;D's top EVs this year, o...       0\n",
       "\n",
       "[60000 rows x 2 columns]"
      ]
     },
     "execution_count": 31,
     "metadata": {},
     "output_type": "execute_result"
    }
   ],
   "source": [
    "dataset"
   ]
  },
  {
   "cell_type": "code",
   "execution_count": 32,
   "metadata": {},
   "outputs": [
    {
     "data": {
      "text/plain": [
       "57706     oh i know. that’s not the route i’d go since ...\n",
       "57708    charged evs | geotab and atom power partner on...\n",
       "57709     don't. first car, get the cheapest diesel. th...\n",
       "57710    rt : despite global leaps towards the ev indus...\n",
       "57711      worse car? of c&amp;d's top evs this year, o...\n",
       "Name: text, dtype: object"
      ]
     },
     "execution_count": 32,
     "metadata": {},
     "output_type": "execute_result"
    }
   ],
   "source": [
    "# Making statement text in lower case\n",
    "dataset['text']=dataset['tweet_text_p']\n",
    "dataset['text']=dataset['text'].str.lower()\n",
    "dataset['text'].tail()\n"
   ]
  },
  {
   "cell_type": "code",
   "execution_count": 33,
   "metadata": {},
   "outputs": [],
   "source": [
    "stopword = nltk.corpus.stopwords.words('english')"
   ]
  },
  {
   "cell_type": "code",
   "execution_count": 34,
   "metadata": {},
   "outputs": [
    {
     "data": {
      "text/plain": [
       "0    rt : 24h round-up. collection top tweets. enjo...\n",
       "2    rt : vr vrgotham 3dvideomotion research paper ...\n",
       "3    rt : research paper investigates use fixed roa...\n",
       "4    rt : american drivers likely see benefit self ...\n",
       "7    research paper investigates use fixed roadside...\n",
       "Name: text, dtype: object"
      ]
     },
     "execution_count": 34,
     "metadata": {},
     "output_type": "execute_result"
    }
   ],
   "source": [
    "STOPWORDS = set(stopword)\n",
    "def cleaning_stopwords(text):\n",
    "    return \" \".join([word for word in str(text).split() if word not in STOPWORDS])\n",
    "dataset['text'] = dataset['text'].apply(lambda text: cleaning_stopwords(text))\n",
    "dataset['text'].head()"
   ]
  },
  {
   "cell_type": "code",
   "execution_count": 35,
   "metadata": {},
   "outputs": [
    {
     "data": {
      "text/plain": [
       "57706    oh know that’s route i’d go since gas way go u...\n",
       "57708    charged evs  geotab atom power partner new ev ...\n",
       "57709    dont first car get cheapest diesel study pollu...\n",
       "57710    rt  despite global leaps towards ev industry s...\n",
       "57711            worse car campds top evs year 2 top 10 s…\n",
       "Name: text, dtype: object"
      ]
     },
     "execution_count": 35,
     "metadata": {},
     "output_type": "execute_result"
    }
   ],
   "source": [
    "import string\n",
    "english_punctuations = string.punctuation\n",
    "punctuations_list = english_punctuations\n",
    "def cleaning_punctuations(text):\n",
    "    translator = str.maketrans('', '', punctuations_list)\n",
    "    return text.translate(translator)\n",
    "dataset['text']= dataset['text'].apply(lambda x: cleaning_punctuations(x))\n",
    "dataset['text'].tail()"
   ]
  },
  {
   "cell_type": "code",
   "execution_count": 36,
   "metadata": {
    "executionInfo": {
     "elapsed": 7,
     "status": "ok",
     "timestamp": 1628347817543,
     "user": {
      "displayName": "Suresha HP",
      "photoUrl": "https://lh3.googleusercontent.com/a-/AOh14GhDcYnUbnw4-j1oQP34WV3tGEnUDo29hkB1Vthp8oQ=s64",
      "userId": "01744058822138121722"
     },
     "user_tz": -330
    },
    "id": "OnslRbOT_iGE"
   },
   "outputs": [
    {
     "data": {
      "text/plain": [
       "57706    oh know that’s route i’d go since gas way go u...\n",
       "57708    charged evs  geotab atom power partner new ev ...\n",
       "57709    dont first car get cheapest diesel study pollu...\n",
       "57710    rt  despite global leaps towards ev industry s...\n",
       "57711             worse car campds top evs year 2 top10 s…\n",
       "Name: text, dtype: object"
      ]
     },
     "execution_count": 36,
     "metadata": {},
     "output_type": "execute_result"
    }
   ],
   "source": [
    "def cleaning_repeating_char(text):\n",
    "    return re.sub(r'(.)1+', r'1', text)\n",
    "dataset['text'] = dataset['text'].apply(lambda x: cleaning_repeating_char(x))\n",
    "dataset['text'].tail()"
   ]
  },
  {
   "cell_type": "code",
   "execution_count": 37,
   "metadata": {},
   "outputs": [
    {
     "data": {
      "text/plain": [
       "57706    oh know that’s route i’d go since gas way go u...\n",
       "57708    charged evs  geotab atom power partner new ev ...\n",
       "57709    dont first car get cheapest diesel study pollu...\n",
       "57710    rt  despite global leaps towards ev industry s...\n",
       "57711             worse car campds top evs year 2 top10 s…\n",
       "Name: text, dtype: object"
      ]
     },
     "execution_count": 37,
     "metadata": {},
     "output_type": "execute_result"
    }
   ],
   "source": [
    "def cleaning_URLs(data):\n",
    "    return re.sub('((www.[^s]+)|(https?://[^s]+))',' ',data)\n",
    "dataset['text'] = dataset['text'].apply(lambda x: cleaning_URLs(x))\n",
    "dataset['text'].tail()"
   ]
  },
  {
   "cell_type": "code",
   "execution_count": 38,
   "metadata": {},
   "outputs": [
    {
     "data": {
      "text/plain": [
       "57706    oh know that’s route i’d go since gas way go u...\n",
       "57708    charged evs  geotab atom power partner new ev ...\n",
       "57709    dont first car get cheapest diesel study pollu...\n",
       "57710    rt  despite global leaps towards ev industry s...\n",
       "57711                worse car campds top evs year  top s…\n",
       "Name: text, dtype: object"
      ]
     },
     "execution_count": 38,
     "metadata": {},
     "output_type": "execute_result"
    }
   ],
   "source": [
    "def cleaning_numbers(data):\n",
    "    return re.sub('[0-9]+', '', data)\n",
    "dataset['text'] = dataset['text'].apply(lambda x: cleaning_numbers(x))\n",
    "dataset['text'].tail()"
   ]
  },
  {
   "cell_type": "code",
   "execution_count": 39,
   "metadata": {},
   "outputs": [],
   "source": [
    "from nltk.tokenize import sent_tokenize, word_tokenize \n",
    "\n",
    "def tokenizer(text):\n",
    "    tokens = nltk.word_tokenize(text)\n",
    "    return tokens\n",
    "\n",
    "dataset['text'] = dataset['text'].apply(tokenizer)"
   ]
  },
  {
   "cell_type": "code",
   "execution_count": 40,
   "metadata": {},
   "outputs": [
    {
     "data": {
      "text/html": [
       "<div>\n",
       "<style scoped>\n",
       "    .dataframe tbody tr th:only-of-type {\n",
       "        vertical-align: middle;\n",
       "    }\n",
       "\n",
       "    .dataframe tbody tr th {\n",
       "        vertical-align: top;\n",
       "    }\n",
       "\n",
       "    .dataframe thead th {\n",
       "        text-align: right;\n",
       "    }\n",
       "</style>\n",
       "<table border=\"1\" class=\"dataframe\">\n",
       "  <thead>\n",
       "    <tr style=\"text-align: right;\">\n",
       "      <th></th>\n",
       "      <th>tweet_text_p</th>\n",
       "      <th>target</th>\n",
       "      <th>text</th>\n",
       "    </tr>\n",
       "  </thead>\n",
       "  <tbody>\n",
       "    <tr>\n",
       "      <th>0</th>\n",
       "      <td>RT : 24h round-up. A collection of TOP TWEETS....</td>\n",
       "      <td>1</td>\n",
       "      <td>[rt, h, roundup, collection, top, tweets, enjo...</td>\n",
       "    </tr>\n",
       "    <tr>\n",
       "      <th>2</th>\n",
       "      <td>RT : vr vrgotham 3dvideomotion This research p...</td>\n",
       "      <td>1</td>\n",
       "      <td>[rt, vr, vrgotham, dvideomotion, research, pap...</td>\n",
       "    </tr>\n",
       "    <tr>\n",
       "      <th>3</th>\n",
       "      <td>RT : This research paper investigates the use ...</td>\n",
       "      <td>1</td>\n",
       "      <td>[rt, research, paper, investigates, use, fixed...</td>\n",
       "    </tr>\n",
       "    <tr>\n",
       "      <th>4</th>\n",
       "      <td>RT : American drivers are more likely to a see...</td>\n",
       "      <td>1</td>\n",
       "      <td>[rt, american, drivers, likely, see, benefit, ...</td>\n",
       "    </tr>\n",
       "    <tr>\n",
       "      <th>7</th>\n",
       "      <td>This research paper investigates the use of fi...</td>\n",
       "      <td>1</td>\n",
       "      <td>[research, paper, investigates, use, fixed, ro...</td>\n",
       "    </tr>\n",
       "    <tr>\n",
       "      <th>...</th>\n",
       "      <td>...</td>\n",
       "      <td>...</td>\n",
       "      <td>...</td>\n",
       "    </tr>\n",
       "    <tr>\n",
       "      <th>57706</th>\n",
       "      <td>Oh I know. That’s not the route I’d go since ...</td>\n",
       "      <td>0</td>\n",
       "      <td>[oh, know, that, ’, s, route, i, ’, d, go, sin...</td>\n",
       "    </tr>\n",
       "    <tr>\n",
       "      <th>57708</th>\n",
       "      <td>Charged EVs | Geotab and Atom Power partner on...</td>\n",
       "      <td>0</td>\n",
       "      <td>[charged, evs, geotab, atom, power, partner, n...</td>\n",
       "    </tr>\n",
       "    <tr>\n",
       "      <th>57709</th>\n",
       "      <td>Don't. First car, get the cheapest diesel. Th...</td>\n",
       "      <td>0</td>\n",
       "      <td>[dont, first, car, get, cheapest, diesel, stud...</td>\n",
       "    </tr>\n",
       "    <tr>\n",
       "      <th>57710</th>\n",
       "      <td>RT : Despite global leaps towards the EV indus...</td>\n",
       "      <td>0</td>\n",
       "      <td>[rt, despite, global, leaps, towards, ev, indu...</td>\n",
       "    </tr>\n",
       "    <tr>\n",
       "      <th>57711</th>\n",
       "      <td>Worse car? Of C&amp;amp;D's top EVs this year, o...</td>\n",
       "      <td>0</td>\n",
       "      <td>[worse, car, campds, top, evs, year, top, s…]</td>\n",
       "    </tr>\n",
       "  </tbody>\n",
       "</table>\n",
       "<p>60000 rows × 3 columns</p>\n",
       "</div>"
      ],
      "text/plain": [
       "                                            tweet_text_p  target  \\\n",
       "0      RT : 24h round-up. A collection of TOP TWEETS....       1   \n",
       "2      RT : vr vrgotham 3dvideomotion This research p...       1   \n",
       "3      RT : This research paper investigates the use ...       1   \n",
       "4      RT : American drivers are more likely to a see...       1   \n",
       "7      This research paper investigates the use of fi...       1   \n",
       "...                                                  ...     ...   \n",
       "57706   Oh I know. That’s not the route I’d go since ...       0   \n",
       "57708  Charged EVs | Geotab and Atom Power partner on...       0   \n",
       "57709   Don't. First car, get the cheapest diesel. Th...       0   \n",
       "57710  RT : Despite global leaps towards the EV indus...       0   \n",
       "57711    Worse car? Of C&amp;D's top EVs this year, o...       0   \n",
       "\n",
       "                                                    text  \n",
       "0      [rt, h, roundup, collection, top, tweets, enjo...  \n",
       "2      [rt, vr, vrgotham, dvideomotion, research, pap...  \n",
       "3      [rt, research, paper, investigates, use, fixed...  \n",
       "4      [rt, american, drivers, likely, see, benefit, ...  \n",
       "7      [research, paper, investigates, use, fixed, ro...  \n",
       "...                                                  ...  \n",
       "57706  [oh, know, that, ’, s, route, i, ’, d, go, sin...  \n",
       "57708  [charged, evs, geotab, atom, power, partner, n...  \n",
       "57709  [dont, first, car, get, cheapest, diesel, stud...  \n",
       "57710  [rt, despite, global, leaps, towards, ev, indu...  \n",
       "57711      [worse, car, campds, top, evs, year, top, s…]  \n",
       "\n",
       "[60000 rows x 3 columns]"
      ]
     },
     "execution_count": 40,
     "metadata": {},
     "output_type": "execute_result"
    }
   ],
   "source": [
    "dataset"
   ]
  },
  {
   "cell_type": "code",
   "execution_count": 41,
   "metadata": {
    "executionInfo": {
     "elapsed": 7,
     "status": "ok",
     "timestamp": 1628347817543,
     "user": {
      "displayName": "Suresha HP",
      "photoUrl": "https://lh3.googleusercontent.com/a-/AOh14GhDcYnUbnw4-j1oQP34WV3tGEnUDo29hkB1Vthp8oQ=s64",
      "userId": "01744058822138121722"
     },
     "user_tz": -330
    },
    "id": "RSHnwBye_fcu"
   },
   "outputs": [
    {
     "data": {
      "text/plain": [
       "0    [rt, h, roundup, collection, top, tweets, enjo...\n",
       "2    [rt, vr, vrgotham, dvideomotion, research, pap...\n",
       "3    [rt, research, paper, investigates, use, fixed...\n",
       "4    [rt, american, drivers, likely, see, benefit, ...\n",
       "7    [research, paper, investigates, use, fixed, ro...\n",
       "Name: text, dtype: object"
      ]
     },
     "execution_count": 41,
     "metadata": {},
     "output_type": "execute_result"
    }
   ],
   "source": [
    "import nltk\n",
    "st = nltk.PorterStemmer()\n",
    "def stemming_on_text(data):\n",
    "    text = [st.stem(word) for word in data]\n",
    "    return data\n",
    "dataset['text']= dataset['text'].apply(lambda x: stemming_on_text(x))\n",
    "dataset['text'].head()"
   ]
  },
  {
   "cell_type": "code",
   "execution_count": 42,
   "metadata": {
    "executionInfo": {
     "elapsed": 9307,
     "status": "ok",
     "timestamp": 1628347826844,
     "user": {
      "displayName": "Suresha HP",
      "photoUrl": "https://lh3.googleusercontent.com/a-/AOh14GhDcYnUbnw4-j1oQP34WV3tGEnUDo29hkB1Vthp8oQ=s64",
      "userId": "01744058822138121722"
     },
     "user_tz": -330
    },
    "id": "Si8PZvKN_xUA"
   },
   "outputs": [
    {
     "data": {
      "text/plain": [
       "0    [rt, h, roundup, collection, top, tweets, enjo...\n",
       "2    [rt, vr, vrgotham, dvideomotion, research, pap...\n",
       "3    [rt, research, paper, investigates, use, fixed...\n",
       "4    [rt, american, drivers, likely, see, benefit, ...\n",
       "7    [research, paper, investigates, use, fixed, ro...\n",
       "Name: text, dtype: object"
      ]
     },
     "execution_count": 42,
     "metadata": {},
     "output_type": "execute_result"
    }
   ],
   "source": [
    "lm = nltk.WordNetLemmatizer()\n",
    "def lemmatizer_on_text(data):\n",
    "    text = [lm.lemmatize(word) for word in data]\n",
    "    return data\n",
    "dataset['text'] = dataset['text'].apply(lambda x: lemmatizer_on_text(x))\n",
    "dataset['text'].head()"
   ]
  },
  {
   "cell_type": "code",
   "execution_count": 43,
   "metadata": {
    "executionInfo": {
     "elapsed": 55,
     "status": "ok",
     "timestamp": 1628347826850,
     "user": {
      "displayName": "Suresha HP",
      "photoUrl": "https://lh3.googleusercontent.com/a-/AOh14GhDcYnUbnw4-j1oQP34WV3tGEnUDo29hkB1Vthp8oQ=s64",
      "userId": "01744058822138121722"
     },
     "user_tz": -330
    },
    "id": "1RR5OUHv_y7m"
   },
   "outputs": [],
   "source": [
    "# Separating input feature and label\n",
    "\n",
    "X=df.text\n",
    "y=df.target"
   ]
  },
  {
   "cell_type": "code",
   "execution_count": 44,
   "metadata": {},
   "outputs": [],
   "source": [
    "# Splitting our data into Train and Test Subset\n",
    "# Separating the 70% data for training data and 30% for testing data\n",
    "X_train, X_test, y_train, y_test = train_test_split(X,y,test_size = 0.30, random_state =26105111)\n"
   ]
  },
  {
   "cell_type": "code",
   "execution_count": 45,
   "metadata": {
    "executionInfo": {
     "elapsed": 58,
     "status": "ok",
     "timestamp": 1628347826854,
     "user": {
      "displayName": "Suresha HP",
      "photoUrl": "https://lh3.googleusercontent.com/a-/AOh14GhDcYnUbnw4-j1oQP34WV3tGEnUDo29hkB1Vthp8oQ=s64",
      "userId": "01744058822138121722"
     },
     "user_tz": -330
    },
    "id": "fy33dDW__2Rt"
   },
   "outputs": [
    {
     "name": "stderr",
     "output_type": "stream",
     "text": [
      "c:\\users\\dodlaraj\\appdata\\local\\programs\\python\\python39\\lib\\site-packages\\sklearn\\utils\\deprecation.py:87: FutureWarning: Function get_feature_names is deprecated; get_feature_names is deprecated in 1.0 and will be removed in 1.2. Please use get_feature_names_out instead.\n",
      "  warnings.warn(msg, category=FutureWarning)\n"
     ]
    },
    {
     "name": "stdout",
     "output_type": "stream",
     "text": [
      "No. of feature_words:  500000\n"
     ]
    }
   ],
   "source": [
    "# Fit the TF-IDF Vectorizer\n",
    "\n",
    "vectoriser = TfidfVectorizer(ngram_range=(1,2), max_features=500000)\n",
    "vectoriser.fit(X_train)\n",
    "print('No. of feature_words: ', len(vectoriser.get_feature_names()))"
   ]
  },
  {
   "cell_type": "code",
   "execution_count": 46,
   "metadata": {},
   "outputs": [],
   "source": [
    "# Transform the data using TF-IDF Vectorizer\n",
    "\n",
    "X_train = vectoriser.transform(X_train)\n",
    "X_test  = vectoriser.transform(X_test)"
   ]
  },
  {
   "cell_type": "code",
   "execution_count": 47,
   "metadata": {
    "executionInfo": {
     "elapsed": 56,
     "status": "ok",
     "timestamp": 1628347826855,
     "user": {
      "displayName": "Suresha HP",
      "photoUrl": "https://lh3.googleusercontent.com/a-/AOh14GhDcYnUbnw4-j1oQP34WV3tGEnUDo29hkB1Vthp8oQ=s64",
      "userId": "01744058822138121722"
     },
     "user_tz": -330
    },
    "id": "N_y7C-US_4lI"
   },
   "outputs": [],
   "source": [
    "\n",
    "def model_Evaluate(model):\n",
    "    # Predict values for Test dataset\n",
    "    y_pred = model.predict(X_test)\n",
    "    # Print the evaluation metrics for the dataset.\n",
    "    print(classification_report(y_test, y_pred))\n",
    "    # Compute and plot the Confusion matrix\n",
    "    cf_matrix = confusion_matrix(y_test, y_pred)\n",
    "    categories = ['Negative','Positive']\n",
    "    group_names = ['True Neg','False Pos', 'False Neg','True Pos']\n",
    "    group_percentages = ['{0:.2%}'.format(value) for value in cf_matrix.flatten() / np.sum(cf_matrix)]\n",
    "    labels = [f'{v1}n{v2}' for v1, v2 in zip(group_names,group_percentages)]\n",
    "    labels = np.asarray(labels).reshape(2,2)\n",
    "    sns.heatmap(cf_matrix, annot = labels, cmap = 'Blues',fmt = '',\n",
    "    xticklabels = categories, yticklabels = categories)\n",
    "    plt.xlabel(\"Predicted values\", fontdict = {'size':14}, labelpad = 10)\n",
    "    plt.ylabel(\"Actual values\" , fontdict = {'size':14}, labelpad = 10)\n",
    "    plt.title (\"Confusion Matrix\", fontdict = {'size':18}, pad = 20)"
   ]
  },
  {
   "cell_type": "code",
   "execution_count": 48,
   "metadata": {},
   "outputs": [
    {
     "name": "stdout",
     "output_type": "stream",
     "text": [
      "              precision    recall  f1-score   support\n",
      "\n",
      "           0       0.81      0.94      0.87     14782\n",
      "           1       0.91      0.75      0.82     12612\n",
      "\n",
      "    accuracy                           0.85     27394\n",
      "   macro avg       0.86      0.84      0.85     27394\n",
      "weighted avg       0.86      0.85      0.85     27394\n",
      "\n"
     ]
    },
    {
     "data": {
      "image/png": "[encoded data removed]",
      "text/plain": [
       "<Figure size 640x480 with 2 Axes>"
      ]
     },
     "metadata": {},
     "output_type": "display_data"
    }
   ],
   "source": [
    "BNBmodel = BernoulliNB()\n",
    "BNBmodel.fit(X_train, y_train)\n",
    "model_Evaluate(BNBmodel)\n",
    "y_pred1 = BNBmodel.predict(X_test)"
   ]
  },
  {
   "cell_type": "code",
   "execution_count": 49,
   "metadata": {},
   "outputs": [
    {
     "data": {
      "image/png": "[encoded data removed]",
      "text/plain": [
       "<Figure size 640x480 with 1 Axes>"
      ]
     },
     "metadata": {},
     "output_type": "display_data"
    }
   ],
   "source": [
    "from sklearn.metrics import roc_curve, auc\n",
    "fpr, tpr, thresholds = roc_curve(y_test, y_pred1)\n",
    "roc_auc = auc(fpr, tpr)\n",
    "plt.figure()\n",
    "plt.plot(fpr, tpr, color='darkorange', lw=1, label='ROC curve (area = %0.2f)' % roc_auc)\n",
    "plt.xlim([0.0, 1.0])\n",
    "plt.ylim([0.0, 1.05])\n",
    "plt.xlabel('False Positive Rate')\n",
    "plt.ylabel('True Positive Rate')\n",
    "plt.title('ROC CURVE')\n",
    "plt.legend(loc=\"lower right\")\n",
    "plt.show()"
   ]
  },
  {
   "cell_type": "code",
   "execution_count": 50,
   "metadata": {},
   "outputs": [
    {
     "name": "stdout",
     "output_type": "stream",
     "text": [
      "              precision    recall  f1-score   support\n",
      "\n",
      "           0       0.92      0.94      0.93     14782\n",
      "           1       0.93      0.90      0.92     12612\n",
      "\n",
      "    accuracy                           0.92     27394\n",
      "   macro avg       0.92      0.92      0.92     27394\n",
      "weighted avg       0.92      0.92      0.92     27394\n",
      "\n"
     ]
    },
    {
     "data": {
      "image/png": "[encoded data removed]",
      "text/plain": [
       "<Figure size 640x480 with 2 Axes>"
      ]
     },
     "metadata": {},
     "output_type": "display_data"
    }
   ],
   "source": [
    "SVCmodel = LinearSVC()\n",
    "SVCmodel.fit(X_train, y_train)\n",
    "model_Evaluate(SVCmodel)\n",
    "y_pred2 = SVCmodel.predict(X_test)"
   ]
  },
  {
   "cell_type": "code",
   "execution_count": 51,
   "metadata": {},
   "outputs": [
    {
     "data": {
      "image/png": "[encoded data removed]",
      "text/plain": [
       "<Figure size 640x480 with 1 Axes>"
      ]
     },
     "metadata": {},
     "output_type": "display_data"
    }
   ],
   "source": [
    "from sklearn.metrics import roc_curve, auc\n",
    "fpr, tpr, thresholds = roc_curve(y_test, y_pred2)\n",
    "roc_auc = auc(fpr, tpr)\n",
    "plt.figure()\n",
    "plt.plot(fpr, tpr, color='darkorange', lw=1, label='ROC curve (area = %0.2f)' % roc_auc)\n",
    "plt.xlim([0.0, 1.0])\n",
    "plt.ylim([0.0, 1.05])\n",
    "plt.xlabel('False Positive Rate')\n",
    "plt.ylabel('True Positive Rate')\n",
    "plt.title('ROC CURVE')\n",
    "plt.legend(loc=\"lower right\")\n",
    "plt.show()"
   ]
  },
  {
   "cell_type": "code",
   "execution_count": 52,
   "metadata": {},
   "outputs": [
    {
     "name": "stdout",
     "output_type": "stream",
     "text": [
      "              precision    recall  f1-score   support\n",
      "\n",
      "           0       0.87      0.94      0.91     14782\n",
      "           1       0.92      0.84      0.88     12612\n",
      "\n",
      "    accuracy                           0.89     27394\n",
      "   macro avg       0.90      0.89      0.89     27394\n",
      "weighted avg       0.90      0.89      0.89     27394\n",
      "\n"
     ]
    },
    {
     "data": {
      "image/png": "[encoded data removed]",
      "text/plain": [
       "<Figure size 640x480 with 2 Axes>"
      ]
     },
     "metadata": {},
     "output_type": "display_data"
    }
   ],
   "source": [
    "LRmodel = LogisticRegression(C = 2, max_iter = 1000, n_jobs=-1)\n",
    "LRmodel.fit(X_train, y_train)\n",
    "model_Evaluate(LRmodel)\n",
    "y_pred3 = LRmodel.predict(X_test)"
   ]
  },
  {
   "cell_type": "code",
   "execution_count": 53,
   "metadata": {},
   "outputs": [
    {
     "data": {
      "image/png": "[encoded data removed]",
      "text/plain": [
       "<Figure size 640x480 with 1 Axes>"
      ]
     },
     "metadata": {},
     "output_type": "display_data"
    }
   ],
   "source": [
    "from sklearn.metrics import roc_curve, auc\n",
    "fpr, tpr, thresholds = roc_curve(y_test, y_pred3)\n",
    "roc_auc = auc(fpr, tpr)\n",
    "plt.figure()\n",
    "plt.plot(fpr, tpr, color='darkorange', lw=1, label='ROC curve (area = %0.2f)' % roc_auc)\n",
    "plt.xlim([0.0, 1.0])\n",
    "plt.ylim([0.0, 1.05])\n",
    "plt.xlabel('False Positive Rate')\n",
    "plt.ylabel('True Positive Rate')\n",
    "plt.title('ROC CURVE')\n",
    "plt.legend(loc=\"lower right\")\n",
    "plt.show()"
   ]
  },
  {
   "cell_type": "code",
   "execution_count": 54,
   "metadata": {
    "executionInfo": {
     "elapsed": 33,
     "status": "ok",
     "timestamp": 1628347938059,
     "user": {
      "displayName": "Suresha HP",
      "photoUrl": "https://lh3.googleusercontent.com/a-/AOh14GhDcYnUbnw4-j1oQP34WV3tGEnUDo29hkB1Vthp8oQ=s64",
      "userId": "01744058822138121722"
     },
     "user_tz": -330
    },
    "id": "1AMpiga2EUto"
   },
   "outputs": [],
   "source": [
    "df.to_pickle('./sentiment_analysis_ML_results.pkl')"
   ]
  }
 ],
 "metadata": {
  "colab": {
   "authorship_tag": "ABX9TyNezmNFud34QLa7qR6tAPJr",
   "collapsed_sections": [],
   "mount_file_id": "1241IujBVrhqTXd9SGeaRk--pHSrSKeR7",
   "name": "Twitter_SentimentAnalysis_VADER_04Jul2021_3.ipynb",
   "provenance": []
  },
  "kernelspec": {
   "display_name": "Python 3 (ipykernel)",
   "language": "python",
   "name": "python3"
  },
  "language_info": {
   "codemirror_mode": {
    "name": "ipython",
    "version": 3
   },
   "file_extension": ".py",
   "mimetype": "text/x-python",
   "name": "python",
   "nbconvert_exporter": "python",
   "pygments_lexer": "ipython3",
   "version": "3.9.6"
  }
 },
 "nbformat": 4,
 "nbformat_minor": 1
}
