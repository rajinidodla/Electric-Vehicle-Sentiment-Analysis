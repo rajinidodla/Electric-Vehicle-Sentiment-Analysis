{
 "cells": [
  {
   "cell_type": "code",
   "execution_count": 1,
   "metadata": {
    "colab": {
     "base_uri": "https://localhost:8080/",
     "height": 955
    },
    "executionInfo": {
     "elapsed": 24971,
     "status": "ok",
     "timestamp": 1628346449717,
     "user": {
      "displayName": "Suresha HP",
      "photoUrl": "https://lh3.googleusercontent.com/a-/AOh14GhDcYnUbnw4-j1oQP34WV3tGEnUDo29hkB1Vthp8oQ=s64",
      "userId": "01744058822138121722"
     },
     "user_tz": -330
    },
    "id": "-cf_FuIlV7-e",
    "outputId": "6954670c-1c29-4ce1-ba4c-a0f0bc4cb2f8"
   },
   "outputs": [],
   "source": [
    "# pip install pyLDAvis"
   ]
  },
  {
   "cell_type": "code",
   "execution_count": 2,
   "metadata": {
    "colab": {
     "base_uri": "https://localhost:8080/",
     "height": 360
    },
    "executionInfo": {
     "elapsed": 5847,
     "status": "ok",
     "timestamp": 1628346455549,
     "user": {
      "displayName": "Suresha HP",
      "photoUrl": "https://lh3.googleusercontent.com/a-/AOh14GhDcYnUbnw4-j1oQP34WV3tGEnUDo29hkB1Vthp8oQ=s64",
      "userId": "01744058822138121722"
     },
     "user_tz": -330
    },
    "id": "U6DRx_-c6UXh",
    "outputId": "d8d99106-6f81-444e-e98c-9f13762a375d"
   },
   "outputs": [],
   "source": [
    "# pip install numpy==1.19.2"
   ]
  },
  {
   "cell_type": "code",
   "execution_count": 3,
   "metadata": {
    "colab": {
     "base_uri": "https://localhost:8080/",
     "height": 394
    },
    "executionInfo": {
     "elapsed": 7212,
     "status": "ok",
     "timestamp": 1628346462735,
     "user": {
      "displayName": "Suresha HP",
      "photoUrl": "https://lh3.googleusercontent.com/a-/AOh14GhDcYnUbnw4-j1oQP34WV3tGEnUDo29hkB1Vthp8oQ=s64",
      "userId": "01744058822138121722"
     },
     "user_tz": -330
    },
    "id": "N1i06wJ_7ALY",
    "outputId": "919c0794-bc7e-4cf1-d7be-0d9cc1fd8952"
   },
   "outputs": [],
   "source": [
    "# pip install pandas==1.1.0"
   ]
  },
  {
   "cell_type": "code",
   "execution_count": 4,
   "metadata": {
    "colab": {
     "base_uri": "https://localhost:8080/"
    },
    "executionInfo": {
     "elapsed": 3625,
     "status": "ok",
     "timestamp": 1628346466347,
     "user": {
      "displayName": "Suresha HP",
      "photoUrl": "https://lh3.googleusercontent.com/a-/AOh14GhDcYnUbnw4-j1oQP34WV3tGEnUDo29hkB1Vthp8oQ=s64",
      "userId": "01744058822138121722"
     },
     "user_tz": -330
    },
    "id": "ODiH4gpO7K1Z",
    "outputId": "d61b91f1-1597-4952-e68c-f85ec56a1ccc"
   },
   "outputs": [],
   "source": [
    "# pip install folium==0.2.1"
   ]
  },
  {
   "cell_type": "code",
   "execution_count": 5,
   "metadata": {
    "colab": {
     "base_uri": "https://localhost:8080/"
    },
    "executionInfo": {
     "elapsed": 2298,
     "status": "ok",
     "timestamp": 1628346468621,
     "user": {
      "displayName": "Suresha HP",
      "photoUrl": "https://lh3.googleusercontent.com/a-/AOh14GhDcYnUbnw4-j1oQP34WV3tGEnUDo29hkB1Vthp8oQ=s64",
      "userId": "01744058822138121722"
     },
     "user_tz": -330
    },
    "id": "o4zvpLID8LRf",
    "outputId": "358ace81-f211-4ed0-cf25-68456991673f"
   },
   "outputs": [],
   "source": [
    "# pip install imgaug==0.2.7"
   ]
  },
  {
   "cell_type": "code",
   "execution_count": 6,
   "metadata": {
    "colab": {
     "base_uri": "https://localhost:8080/"
    },
    "executionInfo": {
     "elapsed": 2624,
     "status": "ok",
     "timestamp": 1628346471242,
     "user": {
      "displayName": "Suresha HP",
      "photoUrl": "https://lh3.googleusercontent.com/a-/AOh14GhDcYnUbnw4-j1oQP34WV3tGEnUDo29hkB1Vthp8oQ=s64",
      "userId": "01744058822138121722"
     },
     "user_tz": -330
    },
    "id": "2LAPzbdeoSpv",
    "outputId": "eb6cdef8-d670-4f1b-c8fa-af2b93afac22"
   },
   "outputs": [],
   "source": [
    "# pip install gensim"
   ]
  },
  {
   "cell_type": "code",
   "execution_count": 7,
   "metadata": {},
   "outputs": [],
   "source": [
    "# pip install spacy"
   ]
  },
  {
   "cell_type": "code",
   "execution_count": 8,
   "metadata": {
    "colab": {
     "base_uri": "https://localhost:8080/"
    },
    "executionInfo": {
     "elapsed": 4090,
     "status": "ok",
     "timestamp": 1628346475325,
     "user": {
      "displayName": "Suresha HP",
      "photoUrl": "https://lh3.googleusercontent.com/a-/AOh14GhDcYnUbnw4-j1oQP34WV3tGEnUDo29hkB1Vthp8oQ=s64",
      "userId": "01744058822138121722"
     },
     "user_tz": -330
    },
    "id": "ZXdA7OtET0JH",
    "outputId": "6ff5d4f3-9102-47f3-e78e-3df486b18568"
   },
   "outputs": [
    {
     "name": "stderr",
     "output_type": "stream",
     "text": [
      "c:\\users\\thanigav\\appdata\\local\\programs\\python\\python39\\lib\\site-packages\\scipy\\sparse\\sparsetools.py:21: DeprecationWarning: `scipy.sparse.sparsetools` is deprecated!\n",
      "scipy.sparse.sparsetools is a private module for scipy.sparse, and should not be used.\n",
      "  _deprecated()\n",
      "c:\\users\\thanigav\\appdata\\local\\programs\\python\\python39\\lib\\site-packages\\seaborn\\rcmod.py:400: DeprecationWarning: distutils Version classes are deprecated. Use packaging.version instead.\n",
      "  if LooseVersion(mpl.__version__) >= \"3.0\":\n",
      "c:\\users\\thanigav\\appdata\\local\\programs\\python\\python39\\lib\\site-packages\\setuptools\\_distutils\\version.py:351: DeprecationWarning: distutils Version classes are deprecated. Use packaging.version instead.\n",
      "  other = LooseVersion(other)\n"
     ]
    }
   ],
   "source": [
    "import pandas as pd\n",
    "import numpy as np\n",
    "import networkx as nx\n",
    "import itertools\n",
    "import collections\n",
    "import spacy\n",
    "from pprint import pprint\n",
    "\n",
    "# Plotting\n",
    "import matplotlib.pyplot as plt\n",
    "import seaborn as sns\n",
    "import pyLDAvis\n",
    "import pyLDAvis.gensim_models\n",
    "import pyLDAvis.gensim_models as gensimvis\n",
    "\n",
    "# Gensim\n",
    "import gensim\n",
    "import gensim.corpora as corpora\n",
    "from gensim.utils import simple_preprocess\n",
    "from gensim.models import CoherenceModel\n",
    "import subprocess\n",
    "from gensim.models.wrappers import LdaMallet\n",
    "\n",
    "# NLTK\n",
    "from nltk import bigrams\n",
    "from nltk.stem import PorterStemmer\n",
    "\n",
    "sns.set(font_scale=1.5)\n",
    "sns.set_style(\"whitegrid\")\n",
    "\n",
    "import warnings \n",
    "warnings.filterwarnings(\"ignore\", category=DeprecationWarning)\n",
    "\n",
    "%matplotlib inline"
   ]
  },
  {
   "cell_type": "markdown",
   "metadata": {
    "id": "AWEF9rcUU89y"
   },
   "source": [
    "### Import Pre-Processed Data"
   ]
  },
  {
   "cell_type": "code",
   "execution_count": 9,
   "metadata": {
    "executionInfo": {
     "elapsed": 1525,
     "status": "ok",
     "timestamp": 1628346476839,
     "user": {
      "displayName": "Suresha HP",
      "photoUrl": "https://lh3.googleusercontent.com/a-/AOh14GhDcYnUbnw4-j1oQP34WV3tGEnUDo29hkB1Vthp8oQ=s64",
      "userId": "01744058822138121722"
     },
     "user_tz": -330
    },
    "id": "OA-4wrDPUEko"
   },
   "outputs": [],
   "source": [
    "df = pd.read_pickle('./pre-processed.pkl')"
   ]
  },
  {
   "cell_type": "code",
   "execution_count": 10,
   "metadata": {
    "colab": {
     "base_uri": "https://localhost:8080/"
    },
    "executionInfo": {
     "elapsed": 38,
     "status": "ok",
     "timestamp": 1628346476840,
     "user": {
      "displayName": "Suresha HP",
      "photoUrl": "https://lh3.googleusercontent.com/a-/AOh14GhDcYnUbnw4-j1oQP34WV3tGEnUDo29hkB1Vthp8oQ=s64",
      "userId": "01744058822138121722"
     },
     "user_tz": -330
    },
    "id": "00o6qxtwVGUp",
    "outputId": "74e28035-8f08-433e-ad7e-65b1bfece38f"
   },
   "outputs": [
    {
     "data": {
      "text/plain": [
       "(98727, 44)"
      ]
     },
     "execution_count": 10,
     "metadata": {},
     "output_type": "execute_result"
    }
   ],
   "source": [
    "df.shape"
   ]
  },
  {
   "cell_type": "code",
   "execution_count": 11,
   "metadata": {
    "colab": {
     "base_uri": "https://localhost:8080/"
    },
    "executionInfo": {
     "elapsed": 30,
     "status": "ok",
     "timestamp": 1628346476841,
     "user": {
      "displayName": "Suresha HP",
      "photoUrl": "https://lh3.googleusercontent.com/a-/AOh14GhDcYnUbnw4-j1oQP34WV3tGEnUDo29hkB1Vthp8oQ=s64",
      "userId": "01744058822138121722"
     },
     "user_tz": -330
    },
    "id": "ax1E21wdVwyS",
    "outputId": "22f7cd05-3125-42a4-eea5-5233ef922db3"
   },
   "outputs": [
    {
     "name": "stdout",
     "output_type": "stream",
     "text": [
      "created_at\n",
      "id\n",
      "id_str\n",
      "text\n",
      "truncated\n",
      "entities\n",
      "metadata\n",
      "source\n",
      "in_reply_to_status_id\n",
      "in_reply_to_status_id_str\n",
      "in_reply_to_user_id\n",
      "in_reply_to_user_id_str\n",
      "in_reply_to_screen_name\n",
      "user\n",
      "geo\n",
      "coordinates\n",
      "place\n",
      "contributors\n",
      "retweeted_status\n",
      "is_quote_status\n",
      "retweet_count\n",
      "favorite_count\n",
      "favorited\n",
      "retweeted\n",
      "possibly_sensitive\n",
      "lang\n",
      "quoted_status_id\n",
      "quoted_status_id_str\n",
      "quoted_status\n",
      "extended_entities\n",
      "withheld_scope\n",
      "withheld_in_countries\n",
      "Hashtag\n",
      "tidy_tweet\n",
      "device\n",
      "Location\n",
      "text_tokenized\n",
      "emoji_count\n",
      "word_count\n",
      "character_count\n",
      "emoji_percent\n",
      "tidy_tweet_tokens\n",
      "tokens_no_stop\n",
      "no_stop_joined\n"
     ]
    }
   ],
   "source": [
    "# iterating the columns\n",
    "for col in df.columns:\n",
    "    print(col)"
   ]
  },
  {
   "cell_type": "code",
   "execution_count": 12,
   "metadata": {
    "colab": {
     "base_uri": "https://localhost:8080/"
    },
    "executionInfo": {
     "elapsed": 25,
     "status": "ok",
     "timestamp": 1628346476842,
     "user": {
      "displayName": "Suresha HP",
      "photoUrl": "https://lh3.googleusercontent.com/a-/AOh14GhDcYnUbnw4-j1oQP34WV3tGEnUDo29hkB1Vthp8oQ=s64",
      "userId": "01744058822138121722"
     },
     "user_tz": -330
    },
    "id": "USc070bpVIeM",
    "outputId": "68a4a3f9-f3a6-4e65-c440-9c619e66d319"
   },
   "outputs": [
    {
     "name": "stdout",
     "output_type": "stream",
     "text": [
      "                       created_at                   id               id_str  \\\n",
      "0  Mon Dec 05 14:14:43 +0000 2022  1599769240004972544  1599769240004972544   \n",
      "1  Mon Dec 05 14:00:55 +0000 2022  1599765764113940483  1599765764113940483   \n",
      "2  Mon Dec 05 14:00:04 +0000 2022  1599765552154775557  1599765552154775557   \n",
      "3  Mon Dec 05 14:00:04 +0000 2022  1599765551378845697  1599765551378845697   \n",
      "4  Mon Dec 05 14:00:04 +0000 2022  1599765550544130048  1599765550544130048   \n",
      "5  Mon Dec 05 13:33:23 +0000 2022  1599758838215086080  1599758838215086080   \n",
      "6  Mon Dec 05 13:21:03 +0000 2022  1599755732416700416  1599755732416700416   \n",
      "7  Mon Dec 05 13:13:10 +0000 2022  1599753748133212160  1599753748133212160   \n",
      "8  Mon Dec 05 13:11:17 +0000 2022  1599753276345679872  1599753276345679872   \n",
      "9  Mon Dec 05 13:00:04 +0000 2022  1599750451251273729  1599750451251273729   \n",
      "\n",
      "                                                text  truncated  \\\n",
      "0  RT @iot_automotive: 24h round-up. A collection...      False   \n",
      "1  Meet Powderworld: A Lightweight Simulation Env...       True   \n",
      "2  RT @GothamVirtual: #vr #vrgotham #3dvideomotio...      False   \n",
      "3  RT @lidarnews: This research paper investigate...      False   \n",
      "4  RT @guidaautonoma: American drivers are more l...      False   \n",
      "5  RT @sallyeaves: Fact from Fiction! #MEC  \\nLow...      False   \n",
      "6  #vr #vrgotham #3dvideomotion This research pap...       True   \n",
      "7  This research paper investigates the use of fi...       True   \n",
      "8  American drivers are more likely to a see a be...       True   \n",
      "9  RT @guidaautonoma: Future transport center to ...      False   \n",
      "\n",
      "                                            entities  \\\n",
      "0  {'hashtags': [{'text': 'AI', 'indices': [95, 9...   \n",
      "1  {'hashtags': [], 'symbols': [], 'user_mentions...   \n",
      "2  {'hashtags': [{'text': 'vr', 'indices': [19, 2...   \n",
      "3  {'hashtags': [{'text': 'lidar', 'indices': [74...   \n",
      "4  {'hashtags': [{'text': 'autonomous', 'indices'...   \n",
      "5  {'hashtags': [{'text': 'MEC', 'indices': [35, ...   \n",
      "6  {'hashtags': [{'text': 'vr', 'indices': [0, 3]...   \n",
      "7  {'hashtags': [{'text': 'lidar', 'indices': [59...   \n",
      "8  {'hashtags': [{'text': 'autonomous', 'indices'...   \n",
      "9  {'hashtags': [{'text': 'autonomous', 'indices'...   \n",
      "\n",
      "                                            metadata  \\\n",
      "0  {'iso_language_code': 'en', 'result_type': 're...   \n",
      "1  {'iso_language_code': 'en', 'result_type': 're...   \n",
      "2  {'iso_language_code': 'en', 'result_type': 're...   \n",
      "3  {'iso_language_code': 'en', 'result_type': 're...   \n",
      "4  {'iso_language_code': 'en', 'result_type': 're...   \n",
      "5  {'iso_language_code': 'en', 'result_type': 're...   \n",
      "6  {'iso_language_code': 'en', 'result_type': 're...   \n",
      "7  {'iso_language_code': 'en', 'result_type': 're...   \n",
      "8  {'iso_language_code': 'en', 'result_type': 're...   \n",
      "9  {'iso_language_code': 'en', 'result_type': 're...   \n",
      "\n",
      "                                              source  in_reply_to_status_id  \\\n",
      "0  <a href=\"https://about.twitter.com/products/tw...                    NaN   \n",
      "1  <a href=\"https://buffer.com\" rel=\"nofollow\">Bu...                    NaN   \n",
      "2  <a href=\"http://robotconsumer.com/\" rel=\"nofol...                    NaN   \n",
      "3  <a href=\"http://robotconsumer.com/\" rel=\"nofol...                    NaN   \n",
      "4  <a href=\"http://robotconsumer.com/\" rel=\"nofol...                    NaN   \n",
      "5  <a href=\"https://mobile.twitter.com\" rel=\"nofo...                    NaN   \n",
      "6  <a href=\"https://ifttt.com\" rel=\"nofollow\">IFT...                    NaN   \n",
      "7  <a href=\"https://mobile.twitter.com\" rel=\"nofo...                    NaN   \n",
      "8  <a href=\"http://twitter.com/download/android\" ...                    NaN   \n",
      "9  <a href=\"http://robotconsumer.com/\" rel=\"nofol...                    NaN   \n",
      "\n",
      "   in_reply_to_status_id_str  ...         device                     Location  \\\n",
      "0                        NaN  ...   non-standard              London, England   \n",
      "1                        NaN  ...   non-standard         Paris, Ile-de-France   \n",
      "2                        NaN  ...   non-standard                                \n",
      "3                        NaN  ...   non-standard                                \n",
      "4                        NaN  ...   non-standard                                \n",
      "5                        NaN  ...  Mobile device  London | New York | Oxford    \n",
      "6                        NaN  ...   non-standard                                \n",
      "7                        NaN  ...  Mobile device                  Hampton, NH   \n",
      "8                        NaN  ...        Android                 Genova Italy   \n",
      "9                        NaN  ...   non-standard                                \n",
      "\n",
      "                                      text_tokenized emoji_count word_count  \\\n",
      "0  [RT, @, iot_automotive, :, 24h, round-up, ., A...           0         15   \n",
      "1  [Meet, Powderworld, :, A, Lightweight, Simulat...           0         12   \n",
      "2  [RT, @, GothamVirtual, :, #, vr, #, vrgotham, ...           0         18   \n",
      "3  [RT, @, lidarnews, :, This, research, paper, i...           0         17   \n",
      "4  [RT, @, guidaautonoma, :, American, drivers, a...           0         22   \n",
      "5  [RT, @, sallyeaves, :, Fact, from, Fiction, !,...           3         17   \n",
      "6  [#, vr, #, vrgotham, #, 3dvideomotion, This, r...           0         16   \n",
      "7  [This, research, paper, investigates, the, use...           0         15   \n",
      "8  [American, drivers, are, more, likely, to, a, ...           0         20   \n",
      "9  [RT, @, guidaautonoma, :, Future, transport, c...           0         17   \n",
      "\n",
      "  character_count emoji_percent  \\\n",
      "0             140      0.000000   \n",
      "1             140      0.000000   \n",
      "2             140      0.000000   \n",
      "3             140      0.000000   \n",
      "4             140      0.000000   \n",
      "5             140      2.142857   \n",
      "6             130      0.000000   \n",
      "7             132      0.000000   \n",
      "8             139      0.000000   \n",
      "9             140      0.000000   \n",
      "\n",
      "                                   tidy_tweet_tokens  \\\n",
      "0                 [round, collection, tweets, enjoy]   \n",
      "1  [meet, powderworld, lightweight, simulation, e...   \n",
      "2  [gotham, this, research, paper, investigates, ...   \n",
      "3  [this, research, paper, investigates, fixed, r...   \n",
      "4  [american, drivers, more, likely, benefit, sel...   \n",
      "5                     [fact, from, fiction, latency]   \n",
      "6  [gotham, this, research, paper, investigates, ...   \n",
      "7  [this, research, paper, investigates, fixed, r...   \n",
      "8  [american, drivers, more, likely, benefit, sel...   \n",
      "9  [future, transport, center, make, urban, mobil...   \n",
      "\n",
      "                                      tokens_no_stop  \\\n",
      "0                 [round, collection, tweets, enjoy]   \n",
      "1  [meet, powderworld, lightweight, simulation, e...   \n",
      "2  [gotham, research, paper, investigates, fixed,...   \n",
      "3  [research, paper, investigates, fixed, roadsid...   \n",
      "4  [american, drivers, likely, benefit, self, dri...   \n",
      "5                           [fact, fiction, latency]   \n",
      "6  [gotham, research, paper, investigates, fixed,...   \n",
      "7  [research, paper, investigates, fixed, roadsid...   \n",
      "8  [american, drivers, likely, benefit, self, dri...   \n",
      "9  [future, transport, center, make, urban, mobil...   \n",
      "\n",
      "                                      no_stop_joined  \n",
      "0                      round collection tweets enjoy  \n",
      "1  meet powderworld lightweight simulation enviro...  \n",
      "2  gotham research paper investigates fixed roads...  \n",
      "3  research paper investigates fixed roadside imp...  \n",
      "4  american drivers likely benefit self driving t...  \n",
      "5                               fact fiction latency  \n",
      "6  gotham research paper investigates fixed roads...  \n",
      "7  research paper investigates fixed roadside imp...  \n",
      "8  american drivers likely benefit self driving t...  \n",
      "9  future transport center make urban mobility ve...  \n",
      "\n",
      "[10 rows x 44 columns]\n"
     ]
    }
   ],
   "source": [
    "print(df.head(10))"
   ]
  },
  {
   "cell_type": "markdown",
   "metadata": {
    "id": "rX1N5-QaVkvr"
   },
   "source": [
    "### Bigrams\n"
   ]
  },
  {
   "cell_type": "code",
   "execution_count": 13,
   "metadata": {
    "colab": {
     "base_uri": "https://localhost:8080/"
    },
    "executionInfo": {
     "elapsed": 19,
     "status": "ok",
     "timestamp": 1628346476843,
     "user": {
      "displayName": "Suresha HP",
      "photoUrl": "https://lh3.googleusercontent.com/a-/AOh14GhDcYnUbnw4-j1oQP34WV3tGEnUDo29hkB1Vthp8oQ=s64",
      "userId": "01744058822138121722"
     },
     "user_tz": -330
    },
    "id": "NMsZ8vN5VJoT",
    "outputId": "bed53391-1de3-492b-ae18-d6d762a3691b"
   },
   "outputs": [
    {
     "data": {
      "text/plain": [
       "[('round', 'collection'), ('collection', 'tweets'), ('tweets', 'enjoy')]"
      ]
     },
     "execution_count": 13,
     "metadata": {},
     "output_type": "execute_result"
    }
   ],
   "source": [
    "# Create list of lists containing bigrams in tweets\n",
    "terms_bigram = [list(bigrams(tweet)) for tweet in df['tokens_no_stop']]\n",
    "\n",
    "# View bigrams for the first tweet\n",
    "terms_bigram[0]"
   ]
  },
  {
   "cell_type": "code",
   "execution_count": 14,
   "metadata": {
    "executionInfo": {
     "elapsed": 1069,
     "status": "ok",
     "timestamp": 1628346477900,
     "user": {
      "displayName": "Suresha HP",
      "photoUrl": "https://lh3.googleusercontent.com/a-/AOh14GhDcYnUbnw4-j1oQP34WV3tGEnUDo29hkB1Vthp8oQ=s64",
      "userId": "01744058822138121722"
     },
     "user_tz": -330
    },
    "id": "CO5p8HHkV00Z"
   },
   "outputs": [],
   "source": [
    "# Flatten list of bigrams in clean tweets\n",
    "bigrams = list(itertools.chain(*terms_bigram))"
   ]
  },
  {
   "cell_type": "code",
   "execution_count": 15,
   "metadata": {
    "executionInfo": {
     "elapsed": 38,
     "status": "ok",
     "timestamp": 1628346477902,
     "user": {
      "displayName": "Suresha HP",
      "photoUrl": "https://lh3.googleusercontent.com/a-/AOh14GhDcYnUbnw4-j1oQP34WV3tGEnUDo29hkB1Vthp8oQ=s64",
      "userId": "01744058822138121722"
     },
     "user_tz": -330
    },
    "id": "RJGu5UkFV3SC"
   },
   "outputs": [],
   "source": [
    "# Create counter of words in clean bigrams\n",
    "bigram_counts = collections.Counter(bigrams)"
   ]
  },
  {
   "cell_type": "code",
   "execution_count": 16,
   "metadata": {
    "executionInfo": {
     "elapsed": 38,
     "status": "ok",
     "timestamp": 1628346477903,
     "user": {
      "displayName": "Suresha HP",
      "photoUrl": "https://lh3.googleusercontent.com/a-/AOh14GhDcYnUbnw4-j1oQP34WV3tGEnUDo29hkB1Vthp8oQ=s64",
      "userId": "01744058822138121722"
     },
     "user_tz": -330
    },
    "id": "0HgjIFjvV42P"
   },
   "outputs": [],
   "source": [
    "bigram_df = pd.DataFrame(bigram_counts.most_common(25), columns=['bigram', 'count'])"
   ]
  },
  {
   "cell_type": "code",
   "execution_count": 17,
   "metadata": {
    "colab": {
     "base_uri": "https://localhost:8080/"
    },
    "executionInfo": {
     "elapsed": 39,
     "status": "ok",
     "timestamp": 1628346477905,
     "user": {
      "displayName": "Suresha HP",
      "photoUrl": "https://lh3.googleusercontent.com/a-/AOh14GhDcYnUbnw4-j1oQP34WV3tGEnUDo29hkB1Vthp8oQ=s64",
      "userId": "01744058822138121722"
     },
     "user_tz": -330
    },
    "id": "9xm1EaZHV6yt",
    "outputId": "c38526ce-cb1d-4e70-8d37-251adeb2951d"
   },
   "outputs": [
    {
     "data": {
      "text/plain": [
       "324307"
      ]
     },
     "execution_count": 17,
     "metadata": {},
     "output_type": "execute_result"
    }
   ],
   "source": [
    "len(bigram_counts)\n"
   ]
  },
  {
   "cell_type": "code",
   "execution_count": 18,
   "metadata": {
    "colab": {
     "base_uri": "https://localhost:8080/"
    },
    "executionInfo": {
     "elapsed": 35,
     "status": "ok",
     "timestamp": 1628346477907,
     "user": {
      "displayName": "Suresha HP",
      "photoUrl": "https://lh3.googleusercontent.com/a-/AOh14GhDcYnUbnw4-j1oQP34WV3tGEnUDo29hkB1Vthp8oQ=s64",
      "userId": "01744058822138121722"
     },
     "user_tz": -330
    },
    "id": "8czpKKpKV8fF",
    "outputId": "361a109e-e609-496d-a00a-5be0ddfc0c3d"
   },
   "outputs": [
    {
     "name": "stdout",
     "output_type": "stream",
     "text": [
      "                   bigram  count\n",
      "0    (electric, vehicles)   2460\n",
      "1     (electric, vehicle)   2087\n",
      "2        (electric, cars)    879\n",
      "3         (green, energy)    681\n",
      "4    (charging, stations)    616\n",
      "5            (elon, musk)    487\n",
      "6            (cenn, cenn)    461\n",
      "7     (renewable, energy)    450\n",
      "8         (self, driving)    437\n",
      "9         (cenntro, cenn)    428\n",
      "10        (clean, energy)    421\n",
      "11        (cenn, cenntro)    410\n",
      "12         (nasdaq, muln)    405\n",
      "13         (google, play)    370\n",
      "14  (download, fiskerati)    366\n",
      "15     (fiskerati, store)    366\n",
      "16        (store, google)    363\n",
      "17      (climate, change)    359\n",
      "18       (cenn, electric)    320\n",
      "19      (first, electric)    314\n",
      "20        (fisker, ocean)    302\n",
      "21       (fast, charging)    291\n",
      "22        (supply, chain)    287\n",
      "23    (electric, scooter)    282\n",
      "24      (fully, electric)    271\n"
     ]
    }
   ],
   "source": [
    "print(bigram_df.head(25))"
   ]
  },
  {
   "cell_type": "code",
   "execution_count": 19,
   "metadata": {},
   "outputs": [
    {
     "data": {
      "text/plain": [
       "[('electric', 'vehicles'),\n",
       " ('electric', 'vehicle'),\n",
       " ('electric', 'cars'),\n",
       " ('green', 'energy'),\n",
       " ('charging', 'stations'),\n",
       " ('elon', 'musk'),\n",
       " ('cenn', 'cenn'),\n",
       " ('renewable', 'energy'),\n",
       " ('self', 'driving'),\n",
       " ('cenntro', 'cenn'),\n",
       " ('clean', 'energy'),\n",
       " ('cenn', 'cenntro'),\n",
       " ('nasdaq', 'muln'),\n",
       " ('google', 'play'),\n",
       " ('download', 'fiskerati'),\n",
       " ('fiskerati', 'store'),\n",
       " ('store', 'google'),\n",
       " ('climate', 'change'),\n",
       " ('cenn', 'electric'),\n",
       " ('first', 'electric'),\n",
       " ('fisker', 'ocean'),\n",
       " ('fast', 'charging'),\n",
       " ('supply', 'chain'),\n",
       " ('electric', 'scooter'),\n",
       " ('fully', 'electric')]"
      ]
     },
     "execution_count": 19,
     "metadata": {},
     "output_type": "execute_result"
    }
   ],
   "source": [
    "bigram_label = bigram_df['bigram'].tolist()\n",
    "bigram_label"
   ]
  },
  {
   "cell_type": "code",
   "execution_count": 20,
   "metadata": {
    "colab": {
     "base_uri": "https://localhost:8080/",
     "height": 787
    },
    "executionInfo": {
     "elapsed": 29,
     "status": "ok",
     "timestamp": 1628346477909,
     "user": {
      "displayName": "Suresha HP",
      "photoUrl": "https://lh3.googleusercontent.com/a-/AOh14GhDcYnUbnw4-j1oQP34WV3tGEnUDo29hkB1Vthp8oQ=s64",
      "userId": "01744058822138121722"
     },
     "user_tz": -330
    },
    "id": "YQwv8j7aV-UH",
    "outputId": "3899b609-366b-453f-9247-39c3de3c39f7"
   },
   "outputs": [
    {
     "name": "stdout",
     "output_type": "stream",
     "text": [
      "Number of Bigrams Identified 25\n"
     ]
    },
    {
     "data": {
      "image/png": "[encoded data removed]",
      "text/plain": [
       "<Figure size 864x720 with 1 Axes>"
      ]
     },
     "metadata": {
      "needs_background": "light"
     },
     "output_type": "display_data"
    }
   ],
   "source": [
    "# bigram_label = ['elon - musk','electric - vehicle', 'electric - vehicles', 'self - driving','tesla - model',\n",
    "#                 'charging - stations', 'happy - birthday','model - plaid','green - energy','currently- doge',\n",
    "#                 'doge - rate','tsla - winnings','winnings - initial', 'initial - investment','realized - estimating',\n",
    "#                 'estimating - average','rate - model','model - costs','electric - cars','renewable - energy',\n",
    "#                 'average - price','long - range','good - project','strong - team', 'long - term']\n",
    "bigram_freq = bigram_df['count'].head(25)\n",
    "index = np.arange(len(bigram_freq))\n",
    "\n",
    "print(\"Number of Bigrams Identified\", len(bigram_df))\n",
    "plt.figure(figsize=(12,10))\n",
    "plt.bar(index, bigram_freq, alpha=0.8, color= 'green')\n",
    "plt.xlabel('Bigrams', fontsize=13)\n",
    "plt.ylabel('Frequency', fontsize=13)\n",
    "plt.xticks(index, bigram_label, fontsize=13, rotation=90, fontweight=\"bold\") \n",
    "plt.title('Top 25 Bigrams', fontsize=14, fontweight=\"bold\")\n",
    "plt.show()"
   ]
  },
  {
   "cell_type": "markdown",
   "metadata": {
    "id": "h712fIYhYLjr"
   },
   "source": [
    "## visualize bigrams"
   ]
  },
  {
   "cell_type": "code",
   "execution_count": 21,
   "metadata": {
    "colab": {
     "base_uri": "https://localhost:8080/",
     "height": 733
    },
    "executionInfo": {
     "elapsed": 1178,
     "status": "ok",
     "timestamp": 1628346479066,
     "user": {
      "displayName": "Suresha HP",
      "photoUrl": "https://lh3.googleusercontent.com/a-/AOh14GhDcYnUbnw4-j1oQP34WV3tGEnUDo29hkB1Vthp8oQ=s64",
      "userId": "01744058822138121722"
     },
     "user_tz": -330
    },
    "id": "XrxaQHhRTk4c",
    "outputId": "531bac13-7852-40f0-a23f-675d238c25b5"
   },
   "outputs": [
    {
     "data": {
      "image/png": "[encoded data removed]",
      "text/plain": [
       "<Figure size 1440x1152 with 1 Axes>"
      ]
     },
     "metadata": {},
     "output_type": "display_data"
    }
   ],
   "source": [
    "# Create dictionary of bigrams and their counts\n",
    "d = bigram_df.set_index('bigram').T.to_dict('records')\n",
    "# Create network plot \n",
    "G = nx.Graph()\n",
    "\n",
    "# Create connections between nodes\n",
    "for k, v in d[0].items():\n",
    "    G.add_edge(k[0], k[1], weight=(v * 5))\n",
    "\n",
    "fig, ax = plt.subplots(figsize=(20, 16))\n",
    "\n",
    "pos = nx.spring_layout(G, k=2)\n",
    "\n",
    "# Plot networks\n",
    "nx.draw_networkx(G, pos,\n",
    "                 font_size=10,\n",
    "                 width=5,\n",
    "                 edge_color='grey',\n",
    "                 node_color='purple',\n",
    "                 with_labels = False,\n",
    "                 ax=ax)\n",
    "\n",
    "# Create offset labels\n",
    "for key, value in pos.items():\n",
    "    x, y = value[0]+.135, value[1]+.065\n",
    "    ax.text(x, y,\n",
    "            s=key,\n",
    "            bbox=dict(facecolor='red', alpha=0.15),\n",
    "            horizontalalignment='center', fontsize=14)\n",
    "    \n",
    "plt.show()"
   ]
  },
  {
   "cell_type": "markdown",
   "metadata": {
    "id": "9l6dA3vPYeMa"
   },
   "source": [
    "### Bigrams and Trigrams"
   ]
  },
  {
   "cell_type": "code",
   "execution_count": 22,
   "metadata": {
    "executionInfo": {
     "elapsed": 26,
     "status": "ok",
     "timestamp": 1628346479068,
     "user": {
      "displayName": "Suresha HP",
      "photoUrl": "https://lh3.googleusercontent.com/a-/AOh14GhDcYnUbnw4-j1oQP34WV3tGEnUDo29hkB1Vthp8oQ=s64",
      "userId": "01744058822138121722"
     },
     "user_tz": -330
    },
    "id": "zT13LZxSYPGT"
   },
   "outputs": [],
   "source": [
    "data = df.no_stop_joined.values.tolist()"
   ]
  },
  {
   "cell_type": "code",
   "execution_count": 23,
   "metadata": {
    "colab": {
     "base_uri": "https://localhost:8080/"
    },
    "executionInfo": {
     "elapsed": 25,
     "status": "ok",
     "timestamp": 1628346479070,
     "user": {
      "displayName": "Suresha HP",
      "photoUrl": "https://lh3.googleusercontent.com/a-/AOh14GhDcYnUbnw4-j1oQP34WV3tGEnUDo29hkB1Vthp8oQ=s64",
      "userId": "01744058822138121722"
     },
     "user_tz": -330
    },
    "id": "L4FIE4skYg2P",
    "outputId": "b3bd97e7-e25f-46fe-c5ca-f2923469f991"
   },
   "outputs": [
    {
     "name": "stdout",
     "output_type": "stream",
     "text": [
      "['round collection tweets enjoy']\n"
     ]
    }
   ],
   "source": [
    "print(data[:1])"
   ]
  },
  {
   "cell_type": "markdown",
   "metadata": {
    "id": "7DKOm1tzYoPT"
   },
   "source": [
    "### Tokenize"
   ]
  },
  {
   "cell_type": "code",
   "execution_count": 24,
   "metadata": {
    "executionInfo": {
     "elapsed": 16,
     "status": "ok",
     "timestamp": 1628346479072,
     "user": {
      "displayName": "Suresha HP",
      "photoUrl": "https://lh3.googleusercontent.com/a-/AOh14GhDcYnUbnw4-j1oQP34WV3tGEnUDo29hkB1Vthp8oQ=s64",
      "userId": "01744058822138121722"
     },
     "user_tz": -330
    },
    "id": "4oZ1ZqSNYi1E"
   },
   "outputs": [],
   "source": [
    "def sent_to_words(sentences):\n",
    "    for sentence in sentences:\n",
    "        yield(gensim.utils.simple_preprocess(str(sentence), deacc=True))  # deacc=True removes punctuations"
   ]
  },
  {
   "cell_type": "code",
   "execution_count": 25,
   "metadata": {
    "colab": {
     "base_uri": "https://localhost:8080/"
    },
    "executionInfo": {
     "elapsed": 549,
     "status": "ok",
     "timestamp": 1628346479606,
     "user": {
      "displayName": "Suresha HP",
      "photoUrl": "https://lh3.googleusercontent.com/a-/AOh14GhDcYnUbnw4-j1oQP34WV3tGEnUDo29hkB1Vthp8oQ=s64",
      "userId": "01744058822138121722"
     },
     "user_tz": -330
    },
    "id": "3C2E-juMYsfh",
    "outputId": "e832658b-fc72-4072-e3d2-7ffe246684bc"
   },
   "outputs": [
    {
     "name": "stdout",
     "output_type": "stream",
     "text": [
      "[['round', 'collection', 'tweets', 'enjoy']]\n"
     ]
    }
   ],
   "source": [
    "data_words = list(sent_to_words(data))\n",
    "\n",
    "print(data_words[:1])"
   ]
  },
  {
   "cell_type": "markdown",
   "metadata": {
    "id": "Bc6wI7S_YyHT"
   },
   "source": [
    "### Make Bigrams and Trigrams"
   ]
  },
  {
   "cell_type": "code",
   "execution_count": 26,
   "metadata": {
    "colab": {
     "base_uri": "https://localhost:8080/"
    },
    "executionInfo": {
     "elapsed": 4571,
     "status": "ok",
     "timestamp": 1628346484174,
     "user": {
      "displayName": "Suresha HP",
      "photoUrl": "https://lh3.googleusercontent.com/a-/AOh14GhDcYnUbnw4-j1oQP34WV3tGEnUDo29hkB1Vthp8oQ=s64",
      "userId": "01744058822138121722"
     },
     "user_tz": -330
    },
    "id": "aSivr3u1Yu0P",
    "outputId": "63eeaeec-1411-451d-a363-4cdffff73b77"
   },
   "outputs": [],
   "source": [
    "# Build the bigram and trigram model\n",
    "bigram = gensim.models.Phrases(data_words, min_count=10, threshold=100)\n",
    "trigram = gensim.models.Phrases(bigram[data_words], threshold=100)\n",
    "\n",
    "# Faster way to get a sentence clubbed as a bigram\n",
    "bigram_mod = gensim.models.phrases.Phraser(bigram)\n",
    "trigram_mod = gensim.models.phrases.Phraser(trigram)"
   ]
  },
  {
   "cell_type": "code",
   "execution_count": 27,
   "metadata": {
    "colab": {
     "base_uri": "https://localhost:8080/"
    },
    "executionInfo": {
     "elapsed": 37,
     "status": "ok",
     "timestamp": 1628346484176,
     "user": {
      "displayName": "Suresha HP",
      "photoUrl": "https://lh3.googleusercontent.com/a-/AOh14GhDcYnUbnw4-j1oQP34WV3tGEnUDo29hkB1Vthp8oQ=s64",
      "userId": "01744058822138121722"
     },
     "user_tz": -330
    },
    "id": "f-TLR7O3Y0in",
    "outputId": "040de338-10f5-42cd-a21e-8386a1313df5"
   },
   "outputs": [
    {
     "name": "stdout",
     "output_type": "stream",
     "text": [
      "['fact_fiction', 'latency']\n"
     ]
    }
   ],
   "source": [
    "# See trigram example\n",
    "print(trigram_mod[bigram_mod[data_words[5]]])"
   ]
  },
  {
   "cell_type": "code",
   "execution_count": 28,
   "metadata": {
    "executionInfo": {
     "elapsed": 31,
     "status": "ok",
     "timestamp": 1628346484177,
     "user": {
      "displayName": "Suresha HP",
      "photoUrl": "https://lh3.googleusercontent.com/a-/AOh14GhDcYnUbnw4-j1oQP34WV3tGEnUDo29hkB1Vthp8oQ=s64",
      "userId": "01744058822138121722"
     },
     "user_tz": -330
    },
    "id": "mTed2j9hY4Hn"
   },
   "outputs": [],
   "source": [
    "def make_bigrams(texts):\n",
    "    return [bigram_mod[doc] for doc in texts]\n",
    "\n",
    "def make_trigrams(texts):\n",
    "    return [trigram_mod[bigram_mod[doc]] for doc in texts]"
   ]
  },
  {
   "cell_type": "code",
   "execution_count": 29,
   "metadata": {
    "executionInfo": {
     "elapsed": 577,
     "status": "ok",
     "timestamp": 1628346484724,
     "user": {
      "displayName": "Suresha HP",
      "photoUrl": "https://lh3.googleusercontent.com/a-/AOh14GhDcYnUbnw4-j1oQP34WV3tGEnUDo29hkB1Vthp8oQ=s64",
      "userId": "01744058822138121722"
     },
     "user_tz": -330
    },
    "id": "tNDLdn3OY6ZK"
   },
   "outputs": [],
   "source": [
    "# Form Bigrams\n",
    "data_words_bigrams = make_bigrams(data_words)"
   ]
  },
  {
   "cell_type": "markdown",
   "metadata": {
    "id": "j-2BSLvpY_by"
   },
   "source": [
    "### lemmatization"
   ]
  },
  {
   "cell_type": "code",
   "execution_count": 30,
   "metadata": {
    "executionInfo": {
     "elapsed": 8,
     "status": "ok",
     "timestamp": 1628346484725,
     "user": {
      "displayName": "Suresha HP",
      "photoUrl": "https://lh3.googleusercontent.com/a-/AOh14GhDcYnUbnw4-j1oQP34WV3tGEnUDo29hkB1Vthp8oQ=s64",
      "userId": "01744058822138121722"
     },
     "user_tz": -330
    },
    "id": "m8u_8XNVY78U"
   },
   "outputs": [],
   "source": [
    "def lemmatization(tweets, allowed_postags=['NOUN', 'ADJ', 'VERB', 'ADV']):\n",
    "    \"\"\"https://spacy.io/api/annotation\"\"\"\n",
    "    tweets_out = []\n",
    "    for sent in tweets:\n",
    "        doc = nlp(\" \".join(sent)) \n",
    "        tweets_out.append([token.lemma_ for token in doc if token.pos_ in allowed_postags])\n",
    "    return tweets_out"
   ]
  },
  {
   "cell_type": "code",
   "execution_count": 31,
   "metadata": {},
   "outputs": [
    {
     "name": "stdout",
     "output_type": "stream",
     "text": [
      "Collecting en-core-web-sm==3.4.1\n",
      "  Downloading https://github.com/explosion/spacy-models/releases/download/en_core_web_sm-3.4.1/en_core_web_sm-3.4.1-py3-none-any.whl (12.8 MB)\n",
      "Requirement already satisfied: spacy<3.5.0,>=3.4.0 in c:\\users\\thanigav\\appdata\\local\\programs\\python\\python39\\lib\\site-packages (from en-core-web-sm==3.4.1) (3.4.2)\n"
     ]
    },
    {
     "name": "stderr",
     "output_type": "stream",
     "text": [
      "WARNING: Ignoring invalid distribution -aleido (c:\\users\\thanigav\\appdata\\local\\programs\\python\\python39\\lib\\site-packages)\n",
      "WARNING: Ignoring invalid distribution -aleido (c:\\users\\thanigav\\appdata\\local\\programs\\python\\python39\\lib\\site-packages)\n",
      "WARNING: Ignoring invalid distribution -aleido (c:\\users\\thanigav\\appdata\\local\\programs\\python\\python39\\lib\\site-packages)\n",
      "WARNING: Ignoring invalid distribution -aleido (c:\\users\\thanigav\\appdata\\local\\programs\\python\\python39\\lib\\site-packages)\n",
      "WARNING: Ignoring invalid distribution -aleido (c:\\users\\thanigav\\appdata\\local\\programs\\python\\python39\\lib\\site-packages)\n",
      "WARNING: Ignoring invalid distribution -aleido (c:\\users\\thanigav\\appdata\\local\\programs\\python\\python39\\lib\\site-packages)\n",
      "WARNING: You are using pip version 21.3.1; however, version 22.3.1 is available.\n",
      "You should consider upgrading via the 'c:\\users\\thanigav\\appdata\\local\\programs\\python\\python39\\python.exe -m pip install --upgrade pip' command.\n"
     ]
    },
    {
     "name": "stdout",
     "output_type": "stream",
     "text": [
      "Requirement already satisfied: requests<3.0.0,>=2.13.0 in c:\\users\\thanigav\\appdata\\local\\programs\\python\\python39\\lib\\site-packages (from spacy<3.5.0,>=3.4.0->en-core-web-sm==3.4.1) (2.28.1)\n",
      "Requirement already satisfied: catalogue<2.1.0,>=2.0.6 in c:\\users\\thanigav\\appdata\\local\\programs\\python\\python39\\lib\\site-packages (from spacy<3.5.0,>=3.4.0->en-core-web-sm==3.4.1) (2.0.8)\n",
      "Requirement already satisfied: packaging>=20.0 in c:\\users\\thanigav\\appdata\\local\\programs\\python\\python39\\lib\\site-packages (from spacy<3.5.0,>=3.4.0->en-core-web-sm==3.4.1) (21.0)\n",
      "Requirement already satisfied: thinc<8.2.0,>=8.1.0 in c:\\users\\thanigav\\appdata\\local\\programs\\python\\python39\\lib\\site-packages (from spacy<3.5.0,>=3.4.0->en-core-web-sm==3.4.1) (8.1.5)\n",
      "Requirement already satisfied: numpy>=1.15.0 in c:\\users\\thanigav\\appdata\\local\\programs\\python\\python39\\lib\\site-packages (from spacy<3.5.0,>=3.4.0->en-core-web-sm==3.4.1) (1.21.2)\n",
      "Requirement already satisfied: langcodes<4.0.0,>=3.2.0 in c:\\users\\thanigav\\appdata\\local\\programs\\python\\python39\\lib\\site-packages (from spacy<3.5.0,>=3.4.0->en-core-web-sm==3.4.1) (3.3.0)\n",
      "Requirement already satisfied: typer<0.5.0,>=0.3.0 in c:\\users\\thanigav\\appdata\\local\\programs\\python\\python39\\lib\\site-packages (from spacy<3.5.0,>=3.4.0->en-core-web-sm==3.4.1) (0.4.2)\n",
      "Requirement already satisfied: tqdm<5.0.0,>=4.38.0 in c:\\users\\thanigav\\appdata\\local\\programs\\python\\python39\\lib\\site-packages (from spacy<3.5.0,>=3.4.0->en-core-web-sm==3.4.1) (4.63.1)\n",
      "Requirement already satisfied: setuptools in c:\\users\\thanigav\\appdata\\local\\programs\\python\\python39\\lib\\site-packages (from spacy<3.5.0,>=3.4.0->en-core-web-sm==3.4.1) (60.0.4)\n",
      "Requirement already satisfied: pydantic!=1.8,!=1.8.1,<1.11.0,>=1.7.4 in c:\\users\\thanigav\\appdata\\local\\programs\\python\\python39\\lib\\site-packages (from spacy<3.5.0,>=3.4.0->en-core-web-sm==3.4.1) (1.10.2)\n",
      "Requirement already satisfied: spacy-legacy<3.1.0,>=3.0.10 in c:\\users\\thanigav\\appdata\\local\\programs\\python\\python39\\lib\\site-packages (from spacy<3.5.0,>=3.4.0->en-core-web-sm==3.4.1) (3.0.10)\n",
      "Requirement already satisfied: cymem<2.1.0,>=2.0.2 in c:\\users\\thanigav\\appdata\\local\\programs\\python\\python39\\lib\\site-packages (from spacy<3.5.0,>=3.4.0->en-core-web-sm==3.4.1) (2.0.7)\n",
      "Requirement already satisfied: srsly<3.0.0,>=2.4.3 in c:\\users\\thanigav\\appdata\\local\\programs\\python\\python39\\lib\\site-packages (from spacy<3.5.0,>=3.4.0->en-core-web-sm==3.4.1) (2.4.5)\n",
      "Requirement already satisfied: spacy-loggers<2.0.0,>=1.0.0 in c:\\users\\thanigav\\appdata\\local\\programs\\python\\python39\\lib\\site-packages (from spacy<3.5.0,>=3.4.0->en-core-web-sm==3.4.1) (1.0.3)\n",
      "Requirement already satisfied: murmurhash<1.1.0,>=0.28.0 in c:\\users\\thanigav\\appdata\\local\\programs\\python\\python39\\lib\\site-packages (from spacy<3.5.0,>=3.4.0->en-core-web-sm==3.4.1) (1.0.9)\n",
      "Requirement already satisfied: jinja2 in c:\\users\\thanigav\\appdata\\local\\programs\\python\\python39\\lib\\site-packages (from spacy<3.5.0,>=3.4.0->en-core-web-sm==3.4.1) (3.0.1)\n",
      "Requirement already satisfied: preshed<3.1.0,>=3.0.2 in c:\\users\\thanigav\\appdata\\local\\programs\\python\\python39\\lib\\site-packages (from spacy<3.5.0,>=3.4.0->en-core-web-sm==3.4.1) (3.0.8)\n",
      "Requirement already satisfied: wasabi<1.1.0,>=0.9.1 in c:\\users\\thanigav\\appdata\\local\\programs\\python\\python39\\lib\\site-packages (from spacy<3.5.0,>=3.4.0->en-core-web-sm==3.4.1) (0.10.1)\n",
      "Requirement already satisfied: pathy>=0.3.5 in c:\\users\\thanigav\\appdata\\local\\programs\\python\\python39\\lib\\site-packages (from spacy<3.5.0,>=3.4.0->en-core-web-sm==3.4.1) (0.6.2)\n",
      "Requirement already satisfied: pyparsing>=2.0.2 in c:\\users\\thanigav\\appdata\\local\\programs\\python\\python39\\lib\\site-packages (from packaging>=20.0->spacy<3.5.0,>=3.4.0->en-core-web-sm==3.4.1) (2.4.7)\n",
      "Requirement already satisfied: smart-open<6.0.0,>=5.2.1 in c:\\users\\thanigav\\appdata\\local\\programs\\python\\python39\\lib\\site-packages (from pathy>=0.3.5->spacy<3.5.0,>=3.4.0->en-core-web-sm==3.4.1) (5.2.1)\n",
      "Requirement already satisfied: typing-extensions>=4.1.0 in c:\\users\\thanigav\\appdata\\local\\programs\\python\\python39\\lib\\site-packages (from pydantic!=1.8,!=1.8.1,<1.11.0,>=1.7.4->spacy<3.5.0,>=3.4.0->en-core-web-sm==3.4.1) (4.4.0)\n",
      "Requirement already satisfied: certifi>=2017.4.17 in c:\\users\\thanigav\\appdata\\local\\programs\\python\\python39\\lib\\site-packages (from requests<3.0.0,>=2.13.0->spacy<3.5.0,>=3.4.0->en-core-web-sm==3.4.1) (2021.10.8)\n",
      "Requirement already satisfied: idna<4,>=2.5 in c:\\users\\thanigav\\appdata\\local\\programs\\python\\python39\\lib\\site-packages (from requests<3.0.0,>=2.13.0->spacy<3.5.0,>=3.4.0->en-core-web-sm==3.4.1) (3.3)\n",
      "Requirement already satisfied: charset-normalizer<3,>=2 in c:\\users\\thanigav\\appdata\\local\\programs\\python\\python39\\lib\\site-packages (from requests<3.0.0,>=2.13.0->spacy<3.5.0,>=3.4.0->en-core-web-sm==3.4.1) (2.0.7)\n",
      "Requirement already satisfied: urllib3<1.27,>=1.21.1 in c:\\users\\thanigav\\appdata\\local\\programs\\python\\python39\\lib\\site-packages (from requests<3.0.0,>=2.13.0->spacy<3.5.0,>=3.4.0->en-core-web-sm==3.4.1) (1.26.7)\n",
      "Requirement already satisfied: confection<1.0.0,>=0.0.1 in c:\\users\\thanigav\\appdata\\local\\programs\\python\\python39\\lib\\site-packages (from thinc<8.2.0,>=8.1.0->spacy<3.5.0,>=3.4.0->en-core-web-sm==3.4.1) (0.0.3)\n",
      "Requirement already satisfied: blis<0.8.0,>=0.7.8 in c:\\users\\thanigav\\appdata\\local\\programs\\python\\python39\\lib\\site-packages (from thinc<8.2.0,>=8.1.0->spacy<3.5.0,>=3.4.0->en-core-web-sm==3.4.1) (0.7.9)\n",
      "Requirement already satisfied: colorama in c:\\users\\thanigav\\appdata\\local\\programs\\python\\python39\\lib\\site-packages (from tqdm<5.0.0,>=4.38.0->spacy<3.5.0,>=3.4.0->en-core-web-sm==3.4.1) (0.4.4)\n",
      "Requirement already satisfied: click<9.0.0,>=7.1.1 in c:\\users\\thanigav\\appdata\\local\\programs\\python\\python39\\lib\\site-packages (from typer<0.5.0,>=0.3.0->spacy<3.5.0,>=3.4.0->en-core-web-sm==3.4.1) (8.0.3)\n",
      "Requirement already satisfied: MarkupSafe>=2.0 in c:\\users\\thanigav\\appdata\\local\\programs\\python\\python39\\lib\\site-packages (from jinja2->spacy<3.5.0,>=3.4.0->en-core-web-sm==3.4.1) (2.0.1)\n",
      "[!] As of spaCy v3.0, shortcuts like 'en' are deprecated. Please use the full\n"
     ]
    }
   ],
   "source": [
    "import sys\n",
    "!{sys.executable} -m spacy download en"
   ]
  },
  {
   "cell_type": "code",
   "execution_count": 32,
   "metadata": {
    "executionInfo": {
     "elapsed": 708,
     "status": "ok",
     "timestamp": 1628346485426,
     "user": {
      "displayName": "Suresha HP",
      "photoUrl": "https://lh3.googleusercontent.com/a-/AOh14GhDcYnUbnw4-j1oQP34WV3tGEnUDo29hkB1Vthp8oQ=s64",
      "userId": "01744058822138121722"
     },
     "user_tz": -330
    },
    "id": "D6d72scuZDkU"
   },
   "outputs": [
    {
     "name": "stdout",
     "output_type": "stream",
     "text": [
      "pipeline package name 'en_core_web_sm' instead.\n",
      "[+] Download and installation successful\n",
      "You can now load the package via spacy.load('en_core_web_sm')\n"
     ]
    },
    {
     "name": "stderr",
     "output_type": "stream",
     "text": [
      "c:\\users\\thanigav\\appdata\\local\\programs\\python\\python39\\lib\\site-packages\\spacy\\language.py:1895: UserWarning: [W123] Argument disable with value ['parser', 'ner'] is used instead of ['senter'] as specified in the config. Be aware that this might affect other components in your pipeline.\n",
      "  warnings.warn(\n"
     ]
    }
   ],
   "source": [
    "# Initialize spacy 'en' model, keeping only tagger component (for efficiency)\n",
    "# python3 -m spacy download en\n",
    "\n",
    "nlp = spacy.load('en_core_web_sm', disable=['parser', 'ner'])"
   ]
  },
  {
   "cell_type": "code",
   "execution_count": 33,
   "metadata": {
    "executionInfo": {
     "elapsed": 79020,
     "status": "ok",
     "timestamp": 1628346564445,
     "user": {
      "displayName": "Suresha HP",
      "photoUrl": "https://lh3.googleusercontent.com/a-/AOh14GhDcYnUbnw4-j1oQP34WV3tGEnUDo29hkB1Vthp8oQ=s64",
      "userId": "01744058822138121722"
     },
     "user_tz": -330
    },
    "id": "TA3anNqTZFMm"
   },
   "outputs": [],
   "source": [
    "# Do lemmatization keeping only noun, adj, vb, adv\n",
    "df['lemmatized'] = pd.Series(lemmatization(data_words_bigrams, allowed_postags=['NOUN', 'ADJ', 'VERB', 'ADV']))"
   ]
  },
  {
   "cell_type": "code",
   "execution_count": 34,
   "metadata": {
    "colab": {
     "base_uri": "https://localhost:8080/"
    },
    "executionInfo": {
     "elapsed": 24,
     "status": "ok",
     "timestamp": 1628346564446,
     "user": {
      "displayName": "Suresha HP",
      "photoUrl": "https://lh3.googleusercontent.com/a-/AOh14GhDcYnUbnw4-j1oQP34WV3tGEnUDo29hkB1Vthp8oQ=s64",
      "userId": "01744058822138121722"
     },
     "user_tz": -330
    },
    "id": "8mHTt-GxZH1z",
    "outputId": "465f3732-0b89-49e0-c22f-40ab71c0121d"
   },
   "outputs": [
    {
     "name": "stdout",
     "output_type": "stream",
     "text": [
      "                           created_at                   id  \\\n",
      "0      Mon Dec 05 14:14:43 +0000 2022  1599769240004972544   \n",
      "1      Mon Dec 05 14:00:55 +0000 2022  1599765764113940483   \n",
      "2      Mon Dec 05 14:00:04 +0000 2022  1599765552154775557   \n",
      "3      Mon Dec 05 14:00:04 +0000 2022  1599765551378845697   \n",
      "4      Mon Dec 05 14:00:04 +0000 2022  1599765550544130048   \n",
      "...                               ...                  ...   \n",
      "98722  Fri Oct 21 17:33:17 +0000 2022  1583511757301067776   \n",
      "98723  Fri Oct 21 16:01:05 +0000 2022  1583488552117055489   \n",
      "98724  Fri Oct 21 16:01:00 +0000 2022  1583488530566680576   \n",
      "98725  Fri Oct 21 15:38:21 +0000 2022  1583482832835731456   \n",
      "98726  Fri Oct 21 15:07:02 +0000 2022  1583474949343580160   \n",
      "\n",
      "                    id_str                                               text  \\\n",
      "0      1599769240004972544  RT @iot_automotive: 24h round-up. A collection...   \n",
      "1      1599765764113940483  Meet Powderworld: A Lightweight Simulation Env...   \n",
      "2      1599765552154775557  RT @GothamVirtual: #vr #vrgotham #3dvideomotio...   \n",
      "3      1599765551378845697  RT @lidarnews: This research paper investigate...   \n",
      "4      1599765550544130048  RT @guidaautonoma: American drivers are more l...   \n",
      "...                    ...                                                ...   \n",
      "98722  1583511757301067776  Our #VersiCat #zeroemission #workboat is a Fin...   \n",
      "98723  1583488552117055489  ⏰ HCD works closely with @CalEnergy to increas...   \n",
      "98724  1583488530566680576  It's just one of @Chevron's strategies to help...   \n",
      "98725  1583482832835731456  A demonstrator of the first ever #tophammer #b...   \n",
      "98726  1583474949343580160  Do you want to know more about #zeroemission #...   \n",
      "\n",
      "       truncated                                           entities  \\\n",
      "0          False  {'hashtags': [{'text': 'AI', 'indices': [95, 9...   \n",
      "1           True  {'hashtags': [], 'symbols': [], 'user_mentions...   \n",
      "2          False  {'hashtags': [{'text': 'vr', 'indices': [19, 2...   \n",
      "3          False  {'hashtags': [{'text': 'lidar', 'indices': [74...   \n",
      "4          False  {'hashtags': [{'text': 'autonomous', 'indices'...   \n",
      "...          ...                                                ...   \n",
      "98722       True  {'hashtags': [{'text': 'VersiCat', 'indices': ...   \n",
      "98723       True  {'hashtags': [{'text': 'zeroemission', 'indice...   \n",
      "98724      False  {'hashtags': [{'text': 'California', 'indices'...   \n",
      "98725       True  {'hashtags': [{'text': 'tophammer', 'indices':...   \n",
      "98726       True  {'hashtags': [{'text': 'zeroemission', 'indice...   \n",
      "\n",
      "                                                metadata  \\\n",
      "0      {'iso_language_code': 'en', 'result_type': 're...   \n",
      "1      {'iso_language_code': 'en', 'result_type': 're...   \n",
      "2      {'iso_language_code': 'en', 'result_type': 're...   \n",
      "3      {'iso_language_code': 'en', 'result_type': 're...   \n",
      "4      {'iso_language_code': 'en', 'result_type': 're...   \n",
      "...                                                  ...   \n",
      "98722  {'iso_language_code': 'en', 'result_type': 're...   \n",
      "98723  {'iso_language_code': 'en', 'result_type': 're...   \n",
      "98724  {'iso_language_code': 'en', 'result_type': 're...   \n",
      "98725  {'iso_language_code': 'en', 'result_type': 're...   \n",
      "98726  {'iso_language_code': 'en', 'result_type': 're...   \n",
      "\n",
      "                                                  source  \\\n",
      "0      <a href=\"https://about.twitter.com/products/tw...   \n",
      "1      <a href=\"https://buffer.com\" rel=\"nofollow\">Bu...   \n",
      "2      <a href=\"http://robotconsumer.com/\" rel=\"nofol...   \n",
      "3      <a href=\"http://robotconsumer.com/\" rel=\"nofol...   \n",
      "4      <a href=\"http://robotconsumer.com/\" rel=\"nofol...   \n",
      "...                                                  ...   \n",
      "98722  <a href=\"http://twitter.com/download/iphone\" r...   \n",
      "98723  <a href=\"http://twitter.com/download/iphone\" r...   \n",
      "98724  <a href=\"https://mobile.twitter.com\" rel=\"nofo...   \n",
      "98725  <a href=\"https://mobile.twitter.com\" rel=\"nofo...   \n",
      "98726  <a href=\"http://www.hubspot.com/\" rel=\"nofollo...   \n",
      "\n",
      "       in_reply_to_status_id  in_reply_to_status_id_str  ...  \\\n",
      "0                        NaN                        NaN  ...   \n",
      "1                        NaN                        NaN  ...   \n",
      "2                        NaN                        NaN  ...   \n",
      "3                        NaN                        NaN  ...   \n",
      "4                        NaN                        NaN  ...   \n",
      "...                      ...                        ...  ...   \n",
      "98722                    NaN                        NaN  ...   \n",
      "98723                    NaN                        NaN  ...   \n",
      "98724                    NaN                        NaN  ...   \n",
      "98725                    NaN                        NaN  ...   \n",
      "98726                    NaN                        NaN  ...   \n",
      "\n",
      "                       Location  \\\n",
      "0               London, England   \n",
      "1          Paris, Ile-de-France   \n",
      "2                                 \n",
      "3                                 \n",
      "4                                 \n",
      "...                         ...   \n",
      "98722                        UK   \n",
      "98723                California   \n",
      "98724              Richmond, CA   \n",
      "98725                    Global   \n",
      "98726  British Columbia, Canada   \n",
      "\n",
      "                                          text_tokenized emoji_count  \\\n",
      "0      [RT, @, iot_automotive, :, 24h, round-up, ., A...           0   \n",
      "1      [Meet, Powderworld, :, A, Lightweight, Simulat...           0   \n",
      "2      [RT, @, GothamVirtual, :, #, vr, #, vrgotham, ...           0   \n",
      "3      [RT, @, lidarnews, :, This, research, paper, i...           0   \n",
      "4      [RT, @, guidaautonoma, :, American, drivers, a...           0   \n",
      "...                                                  ...         ...   \n",
      "98722  [Our, #, VersiCat, #, zeroemission, #, workboa...           2   \n",
      "98723  [⏰, HCD, works, closely, with, @, CalEnergy, t...           2   \n",
      "98724  [It, 's, just, one, of, @, Chevron, 's, strate...           0   \n",
      "98725  [A, demonstrator, of, the, first, ever, #, top...           0   \n",
      "98726  [Do, you, want, to, know, more, about, #, zero...           0   \n",
      "\n",
      "      word_count character_count emoji_percent  \\\n",
      "0             15             140      0.000000   \n",
      "1             12             140      0.000000   \n",
      "2             18             140      0.000000   \n",
      "3             17             140      0.000000   \n",
      "4             22             140      0.000000   \n",
      "...          ...             ...           ...   \n",
      "98722         19             140      1.428571   \n",
      "98723         21             140      1.428571   \n",
      "98724         18             140      0.000000   \n",
      "98725         19             140      0.000000   \n",
      "98726         18             139      0.000000   \n",
      "\n",
      "                                       tidy_tweet_tokens  \\\n",
      "0                     [round, collection, tweets, enjoy]   \n",
      "1      [meet, powderworld, lightweight, simulation, e...   \n",
      "2      [gotham, this, research, paper, investigates, ...   \n",
      "3      [this, research, paper, investigates, fixed, r...   \n",
      "4      [american, drivers, more, likely, benefit, sel...   \n",
      "...                                                  ...   \n",
      "98722   [finalist, best, electric, boat, support, proud]   \n",
      "98723  [works, closely, with, increase, access, relia...   \n",
      "98724  [just, strategies, help, meet, ambitious, goal...   \n",
      "98725           [demonstrator, first, ever, drill, from]   \n",
      "98726  [want, know, more, about, solutions, applicati...   \n",
      "\n",
      "                                          tokens_no_stop  \\\n",
      "0                     [round, collection, tweets, enjoy]   \n",
      "1      [meet, powderworld, lightweight, simulation, e...   \n",
      "2      [gotham, research, paper, investigates, fixed,...   \n",
      "3      [research, paper, investigates, fixed, roadsid...   \n",
      "4      [american, drivers, likely, benefit, self, dri...   \n",
      "...                                                  ...   \n",
      "98722   [finalist, best, electric, boat, support, proud]   \n",
      "98723  [works, closely, increase, access, reliability...   \n",
      "98724  [strategies, help, meet, ambitious, goals, sta...   \n",
      "98725                 [demonstrator, first, ever, drill]   \n",
      "98726        [want, know, solutions, applications, join]   \n",
      "\n",
      "                                          no_stop_joined  \\\n",
      "0                          round collection tweets enjoy   \n",
      "1      meet powderworld lightweight simulation enviro...   \n",
      "2      gotham research paper investigates fixed roads...   \n",
      "3      research paper investigates fixed roadside imp...   \n",
      "4      american drivers likely benefit self driving t...   \n",
      "...                                                  ...   \n",
      "98722          finalist best electric boat support proud   \n",
      "98723  works closely increase access reliability char...   \n",
      "98724  strategies help meet ambitious goals state roa...   \n",
      "98725                      demonstrator first ever drill   \n",
      "98726              want know solutions applications join   \n",
      "\n",
      "                                              lemmatized  \n",
      "0                                     [round_collection]  \n",
      "1      [meet, simulation, environment, understand, ge...  \n",
      "2      [research, paper, investigate, fix, roadside, ...  \n",
      "3      [research, paper, investigate, fix, roadside, ...  \n",
      "4      [american, driver, likely, benefit, self_drivi...  \n",
      "...                                                  ...  \n",
      "98722   [finalist, good, electric, boat, support, proud]  \n",
      "98723  [work, closely, increase, access, reliability,...  \n",
      "98724  [strategy, help, meet, ambitious, goal, state,...  \n",
      "98725                               [first, ever, drill]  \n",
      "98726          [want, know, solution, application, join]  \n",
      "\n",
      "[98727 rows x 45 columns]\n"
     ]
    }
   ],
   "source": [
    "print(df)"
   ]
  },
  {
   "cell_type": "code",
   "execution_count": 35,
   "metadata": {
    "colab": {
     "base_uri": "https://localhost:8080/"
    },
    "executionInfo": {
     "elapsed": 18,
     "status": "ok",
     "timestamp": 1628346564447,
     "user": {
      "displayName": "Suresha HP",
      "photoUrl": "https://lh3.googleusercontent.com/a-/AOh14GhDcYnUbnw4-j1oQP34WV3tGEnUDo29hkB1Vthp8oQ=s64",
      "userId": "01744058822138121722"
     },
     "user_tz": -330
    },
    "id": "XkXWx_MidWvg",
    "outputId": "4553b3da-03d0-4ffc-a86f-37b9a4e98288"
   },
   "outputs": [
    {
     "name": "stdout",
     "output_type": "stream",
     "text": [
      "<class 'pandas.core.frame.DataFrame'>\n",
      "RangeIndex: 98727 entries, 0 to 98726\n",
      "Data columns (total 45 columns):\n",
      " #   Column                     Non-Null Count  Dtype  \n",
      "---  ------                     --------------  -----  \n",
      " 0   created_at                 98727 non-null  object \n",
      " 1   id                         98727 non-null  int64  \n",
      " 2   id_str                     98727 non-null  int64  \n",
      " 3   text                       98727 non-null  object \n",
      " 4   truncated                  98727 non-null  bool   \n",
      " 5   entities                   98727 non-null  object \n",
      " 6   metadata                   98727 non-null  object \n",
      " 7   source                     98727 non-null  object \n",
      " 8   in_reply_to_status_id      11204 non-null  float64\n",
      " 9   in_reply_to_status_id_str  11204 non-null  float64\n",
      " 10  in_reply_to_user_id        12568 non-null  float64\n",
      " 11  in_reply_to_user_id_str    12568 non-null  float64\n",
      " 12  in_reply_to_screen_name    12568 non-null  object \n",
      " 13  user                       98727 non-null  object \n",
      " 14  geo                        256 non-null    object \n",
      " 15  coordinates                256 non-null    object \n",
      " 16  place                      1610 non-null   object \n",
      " 17  contributors               0 non-null      float64\n",
      " 18  retweeted_status           23524 non-null  object \n",
      " 19  is_quote_status            98727 non-null  bool   \n",
      " 20  retweet_count              98727 non-null  int64  \n",
      " 21  favorite_count             98727 non-null  int64  \n",
      " 22  favorited                  98727 non-null  bool   \n",
      " 23  retweeted                  98727 non-null  bool   \n",
      " 24  possibly_sensitive         67551 non-null  object \n",
      " 25  lang                       98727 non-null  object \n",
      " 26  quoted_status_id           5371 non-null   float64\n",
      " 27  quoted_status_id_str       5371 non-null   float64\n",
      " 28  quoted_status              3898 non-null   object \n",
      " 29  extended_entities          2984 non-null   object \n",
      " 30  withheld_scope             6 non-null      object \n",
      " 31  withheld_in_countries      6 non-null      object \n",
      " 32  Hashtag                    89091 non-null  object \n",
      " 33  tidy_tweet                 98727 non-null  object \n",
      " 34  device                     98727 non-null  object \n",
      " 35  Location                   98727 non-null  object \n",
      " 36  text_tokenized             98727 non-null  object \n",
      " 37  emoji_count                98727 non-null  int64  \n",
      " 38  word_count                 98727 non-null  int64  \n",
      " 39  character_count            98727 non-null  int64  \n",
      " 40  emoji_percent              98727 non-null  float64\n",
      " 41  tidy_tweet_tokens          98727 non-null  object \n",
      " 42  tokens_no_stop             98727 non-null  object \n",
      " 43  no_stop_joined             98727 non-null  object \n",
      " 44  lemmatized                 98727 non-null  object \n",
      "dtypes: bool(4), float64(8), int64(7), object(26)\n",
      "memory usage: 31.3+ MB\n"
     ]
    }
   ],
   "source": [
    "df.info()"
   ]
  },
  {
   "cell_type": "markdown",
   "metadata": {
    "id": "4QMSTqphgD9E"
   },
   "source": [
    "### Stemming"
   ]
  },
  {
   "cell_type": "code",
   "execution_count": 36,
   "metadata": {
    "executionInfo": {
     "elapsed": 11,
     "status": "ok",
     "timestamp": 1628346564448,
     "user": {
      "displayName": "Suresha HP",
      "photoUrl": "https://lh3.googleusercontent.com/a-/AOh14GhDcYnUbnw4-j1oQP34WV3tGEnUDo29hkB1Vthp8oQ=s64",
      "userId": "01744058822138121722"
     },
     "user_tz": -330
    },
    "id": "I1bUtQyIgABQ"
   },
   "outputs": [],
   "source": [
    "stemmer = PorterStemmer()"
   ]
  },
  {
   "cell_type": "code",
   "execution_count": 37,
   "metadata": {
    "executionInfo": {
     "elapsed": 4345,
     "status": "ok",
     "timestamp": 1628346568783,
     "user": {
      "displayName": "Suresha HP",
      "photoUrl": "https://lh3.googleusercontent.com/a-/AOh14GhDcYnUbnw4-j1oQP34WV3tGEnUDo29hkB1Vthp8oQ=s64",
      "userId": "01744058822138121722"
     },
     "user_tz": -330
    },
    "id": "z3vPr9YngGaP"
   },
   "outputs": [],
   "source": [
    "df['stemmed'] = df['lemmatized'].apply(lambda x : [stemmer.stem(y) for y in x])"
   ]
  },
  {
   "cell_type": "code",
   "execution_count": 38,
   "metadata": {
    "colab": {
     "base_uri": "https://localhost:8080/"
    },
    "executionInfo": {
     "elapsed": 33,
     "status": "ok",
     "timestamp": 1628346568785,
     "user": {
      "displayName": "Suresha HP",
      "photoUrl": "https://lh3.googleusercontent.com/a-/AOh14GhDcYnUbnw4-j1oQP34WV3tGEnUDo29hkB1Vthp8oQ=s64",
      "userId": "01744058822138121722"
     },
     "user_tz": -330
    },
    "id": "yqgVynqJgJxS",
    "outputId": "9eb95329-1519-4c32-ac92-334cf1428f56"
   },
   "outputs": [
    {
     "name": "stdout",
     "output_type": "stream",
     "text": [
      "                           created_at                   id  \\\n",
      "0      Mon Dec 05 14:14:43 +0000 2022  1599769240004972544   \n",
      "1      Mon Dec 05 14:00:55 +0000 2022  1599765764113940483   \n",
      "2      Mon Dec 05 14:00:04 +0000 2022  1599765552154775557   \n",
      "3      Mon Dec 05 14:00:04 +0000 2022  1599765551378845697   \n",
      "4      Mon Dec 05 14:00:04 +0000 2022  1599765550544130048   \n",
      "...                               ...                  ...   \n",
      "98722  Fri Oct 21 17:33:17 +0000 2022  1583511757301067776   \n",
      "98723  Fri Oct 21 16:01:05 +0000 2022  1583488552117055489   \n",
      "98724  Fri Oct 21 16:01:00 +0000 2022  1583488530566680576   \n",
      "98725  Fri Oct 21 15:38:21 +0000 2022  1583482832835731456   \n",
      "98726  Fri Oct 21 15:07:02 +0000 2022  1583474949343580160   \n",
      "\n",
      "                    id_str                                               text  \\\n",
      "0      1599769240004972544  RT @iot_automotive: 24h round-up. A collection...   \n",
      "1      1599765764113940483  Meet Powderworld: A Lightweight Simulation Env...   \n",
      "2      1599765552154775557  RT @GothamVirtual: #vr #vrgotham #3dvideomotio...   \n",
      "3      1599765551378845697  RT @lidarnews: This research paper investigate...   \n",
      "4      1599765550544130048  RT @guidaautonoma: American drivers are more l...   \n",
      "...                    ...                                                ...   \n",
      "98722  1583511757301067776  Our #VersiCat #zeroemission #workboat is a Fin...   \n",
      "98723  1583488552117055489  ⏰ HCD works closely with @CalEnergy to increas...   \n",
      "98724  1583488530566680576  It's just one of @Chevron's strategies to help...   \n",
      "98725  1583482832835731456  A demonstrator of the first ever #tophammer #b...   \n",
      "98726  1583474949343580160  Do you want to know more about #zeroemission #...   \n",
      "\n",
      "       truncated                                           entities  \\\n",
      "0          False  {'hashtags': [{'text': 'AI', 'indices': [95, 9...   \n",
      "1           True  {'hashtags': [], 'symbols': [], 'user_mentions...   \n",
      "2          False  {'hashtags': [{'text': 'vr', 'indices': [19, 2...   \n",
      "3          False  {'hashtags': [{'text': 'lidar', 'indices': [74...   \n",
      "4          False  {'hashtags': [{'text': 'autonomous', 'indices'...   \n",
      "...          ...                                                ...   \n",
      "98722       True  {'hashtags': [{'text': 'VersiCat', 'indices': ...   \n",
      "98723       True  {'hashtags': [{'text': 'zeroemission', 'indice...   \n",
      "98724      False  {'hashtags': [{'text': 'California', 'indices'...   \n",
      "98725       True  {'hashtags': [{'text': 'tophammer', 'indices':...   \n",
      "98726       True  {'hashtags': [{'text': 'zeroemission', 'indice...   \n",
      "\n",
      "                                                metadata  \\\n",
      "0      {'iso_language_code': 'en', 'result_type': 're...   \n",
      "1      {'iso_language_code': 'en', 'result_type': 're...   \n",
      "2      {'iso_language_code': 'en', 'result_type': 're...   \n",
      "3      {'iso_language_code': 'en', 'result_type': 're...   \n",
      "4      {'iso_language_code': 'en', 'result_type': 're...   \n",
      "...                                                  ...   \n",
      "98722  {'iso_language_code': 'en', 'result_type': 're...   \n",
      "98723  {'iso_language_code': 'en', 'result_type': 're...   \n",
      "98724  {'iso_language_code': 'en', 'result_type': 're...   \n",
      "98725  {'iso_language_code': 'en', 'result_type': 're...   \n",
      "98726  {'iso_language_code': 'en', 'result_type': 're...   \n",
      "\n",
      "                                                  source  \\\n",
      "0      <a href=\"https://about.twitter.com/products/tw...   \n",
      "1      <a href=\"https://buffer.com\" rel=\"nofollow\">Bu...   \n",
      "2      <a href=\"http://robotconsumer.com/\" rel=\"nofol...   \n",
      "3      <a href=\"http://robotconsumer.com/\" rel=\"nofol...   \n",
      "4      <a href=\"http://robotconsumer.com/\" rel=\"nofol...   \n",
      "...                                                  ...   \n",
      "98722  <a href=\"http://twitter.com/download/iphone\" r...   \n",
      "98723  <a href=\"http://twitter.com/download/iphone\" r...   \n",
      "98724  <a href=\"https://mobile.twitter.com\" rel=\"nofo...   \n",
      "98725  <a href=\"https://mobile.twitter.com\" rel=\"nofo...   \n",
      "98726  <a href=\"http://www.hubspot.com/\" rel=\"nofollo...   \n",
      "\n",
      "       in_reply_to_status_id  in_reply_to_status_id_str  ...  \\\n",
      "0                        NaN                        NaN  ...   \n",
      "1                        NaN                        NaN  ...   \n",
      "2                        NaN                        NaN  ...   \n",
      "3                        NaN                        NaN  ...   \n",
      "4                        NaN                        NaN  ...   \n",
      "...                      ...                        ...  ...   \n",
      "98722                    NaN                        NaN  ...   \n",
      "98723                    NaN                        NaN  ...   \n",
      "98724                    NaN                        NaN  ...   \n",
      "98725                    NaN                        NaN  ...   \n",
      "98726                    NaN                        NaN  ...   \n",
      "\n",
      "                                          text_tokenized  emoji_count  \\\n",
      "0      [RT, @, iot_automotive, :, 24h, round-up, ., A...            0   \n",
      "1      [Meet, Powderworld, :, A, Lightweight, Simulat...            0   \n",
      "2      [RT, @, GothamVirtual, :, #, vr, #, vrgotham, ...            0   \n",
      "3      [RT, @, lidarnews, :, This, research, paper, i...            0   \n",
      "4      [RT, @, guidaautonoma, :, American, drivers, a...            0   \n",
      "...                                                  ...          ...   \n",
      "98722  [Our, #, VersiCat, #, zeroemission, #, workboa...            2   \n",
      "98723  [⏰, HCD, works, closely, with, @, CalEnergy, t...            2   \n",
      "98724  [It, 's, just, one, of, @, Chevron, 's, strate...            0   \n",
      "98725  [A, demonstrator, of, the, first, ever, #, top...            0   \n",
      "98726  [Do, you, want, to, know, more, about, #, zero...            0   \n",
      "\n",
      "      word_count character_count emoji_percent  \\\n",
      "0             15             140      0.000000   \n",
      "1             12             140      0.000000   \n",
      "2             18             140      0.000000   \n",
      "3             17             140      0.000000   \n",
      "4             22             140      0.000000   \n",
      "...          ...             ...           ...   \n",
      "98722         19             140      1.428571   \n",
      "98723         21             140      1.428571   \n",
      "98724         18             140      0.000000   \n",
      "98725         19             140      0.000000   \n",
      "98726         18             139      0.000000   \n",
      "\n",
      "                                       tidy_tweet_tokens  \\\n",
      "0                     [round, collection, tweets, enjoy]   \n",
      "1      [meet, powderworld, lightweight, simulation, e...   \n",
      "2      [gotham, this, research, paper, investigates, ...   \n",
      "3      [this, research, paper, investigates, fixed, r...   \n",
      "4      [american, drivers, more, likely, benefit, sel...   \n",
      "...                                                  ...   \n",
      "98722   [finalist, best, electric, boat, support, proud]   \n",
      "98723  [works, closely, with, increase, access, relia...   \n",
      "98724  [just, strategies, help, meet, ambitious, goal...   \n",
      "98725           [demonstrator, first, ever, drill, from]   \n",
      "98726  [want, know, more, about, solutions, applicati...   \n",
      "\n",
      "                                          tokens_no_stop  \\\n",
      "0                     [round, collection, tweets, enjoy]   \n",
      "1      [meet, powderworld, lightweight, simulation, e...   \n",
      "2      [gotham, research, paper, investigates, fixed,...   \n",
      "3      [research, paper, investigates, fixed, roadsid...   \n",
      "4      [american, drivers, likely, benefit, self, dri...   \n",
      "...                                                  ...   \n",
      "98722   [finalist, best, electric, boat, support, proud]   \n",
      "98723  [works, closely, increase, access, reliability...   \n",
      "98724  [strategies, help, meet, ambitious, goals, sta...   \n",
      "98725                 [demonstrator, first, ever, drill]   \n",
      "98726        [want, know, solutions, applications, join]   \n",
      "\n",
      "                                          no_stop_joined  \\\n",
      "0                          round collection tweets enjoy   \n",
      "1      meet powderworld lightweight simulation enviro...   \n",
      "2      gotham research paper investigates fixed roads...   \n",
      "3      research paper investigates fixed roadside imp...   \n",
      "4      american drivers likely benefit self driving t...   \n",
      "...                                                  ...   \n",
      "98722          finalist best electric boat support proud   \n",
      "98723  works closely increase access reliability char...   \n",
      "98724  strategies help meet ambitious goals state roa...   \n",
      "98725                      demonstrator first ever drill   \n",
      "98726              want know solutions applications join   \n",
      "\n",
      "                                              lemmatized  \\\n",
      "0                                     [round_collection]   \n",
      "1      [meet, simulation, environment, understand, ge...   \n",
      "2      [research, paper, investigate, fix, roadside, ...   \n",
      "3      [research, paper, investigate, fix, roadside, ...   \n",
      "4      [american, driver, likely, benefit, self_drivi...   \n",
      "...                                                  ...   \n",
      "98722   [finalist, good, electric, boat, support, proud]   \n",
      "98723  [work, closely, increase, access, reliability,...   \n",
      "98724  [strategy, help, meet, ambitious, goal, state,...   \n",
      "98725                               [first, ever, drill]   \n",
      "98726          [want, know, solution, application, join]   \n",
      "\n",
      "                                                 stemmed  \n",
      "0                                        [round_collect]  \n",
      "1              [meet, simul, environ, understand, gener]  \n",
      "2      [research, paper, investig, fix, roadsid, improv]  \n",
      "3      [research, paper, investig, fix, roadsid, impr...  \n",
      "4      [american, driver, like, benefit, self_driv, t...  \n",
      "...                                                  ...  \n",
      "98722     [finalist, good, electr, boat, support, proud]  \n",
      "98723     [work, close, increas, access, reliabl, charg]  \n",
      "98724  [strategi, help, meet, ambiti, goal, state, ro...  \n",
      "98725                               [first, ever, drill]  \n",
      "98726                  [want, know, solut, applic, join]  \n",
      "\n",
      "[98727 rows x 46 columns]\n"
     ]
    }
   ],
   "source": [
    "print(df)"
   ]
  },
  {
   "cell_type": "markdown",
   "metadata": {
    "id": "OKxLOi-qgfaj"
   },
   "source": [
    "\n",
    "\n",
    "### Create Dictionary and Corpus"
   ]
  },
  {
   "cell_type": "code",
   "execution_count": 39,
   "metadata": {
    "executionInfo": {
     "elapsed": 584,
     "status": "ok",
     "timestamp": 1628346569341,
     "user": {
      "displayName": "Suresha HP",
      "photoUrl": "https://lh3.googleusercontent.com/a-/AOh14GhDcYnUbnw4-j1oQP34WV3tGEnUDo29hkB1Vthp8oQ=s64",
      "userId": "01744058822138121722"
     },
     "user_tz": -330
    },
    "id": "dWf41R_8gOFR"
   },
   "outputs": [],
   "source": [
    "# Create Dictionary\n",
    "id2word_stemmed = corpora.Dictionary(df['stemmed'])"
   ]
  },
  {
   "cell_type": "code",
   "execution_count": 40,
   "metadata": {
    "executionInfo": {
     "elapsed": 376,
     "status": "ok",
     "timestamp": 1628346569713,
     "user": {
      "displayName": "Suresha HP",
      "photoUrl": "https://lh3.googleusercontent.com/a-/AOh14GhDcYnUbnw4-j1oQP34WV3tGEnUDo29hkB1Vthp8oQ=s64",
      "userId": "01744058822138121722"
     },
     "user_tz": -330
    },
    "id": "HEKFSZN4giUp"
   },
   "outputs": [],
   "source": [
    "# Create Dictionary\n",
    "id2word_lemma = corpora.Dictionary(df['tokens_no_stop'])"
   ]
  },
  {
   "cell_type": "code",
   "execution_count": 41,
   "metadata": {
    "executionInfo": {
     "elapsed": 606,
     "status": "ok",
     "timestamp": 1628346570315,
     "user": {
      "displayName": "Suresha HP",
      "photoUrl": "https://lh3.googleusercontent.com/a-/AOh14GhDcYnUbnw4-j1oQP34WV3tGEnUDo29hkB1Vthp8oQ=s64",
      "userId": "01744058822138121722"
     },
     "user_tz": -330
    },
    "id": "_GE-RW1mgkJu"
   },
   "outputs": [],
   "source": [
    "# Create Dictionary\n",
    "id2word_tidy = corpora.Dictionary(df['tidy_tweet_tokens'])"
   ]
  },
  {
   "cell_type": "code",
   "execution_count": 42,
   "metadata": {
    "colab": {
     "base_uri": "https://localhost:8080/"
    },
    "executionInfo": {
     "elapsed": 49,
     "status": "ok",
     "timestamp": 1628346570317,
     "user": {
      "displayName": "Suresha HP",
      "photoUrl": "https://lh3.googleusercontent.com/a-/AOh14GhDcYnUbnw4-j1oQP34WV3tGEnUDo29hkB1Vthp8oQ=s64",
      "userId": "01744058822138121722"
     },
     "user_tz": -330
    },
    "id": "oJSnAyypglni",
    "outputId": "07ee6ec8-e8af-4e3b-9ab5-a4bd4c44995f"
   },
   "outputs": [
    {
     "name": "stdout",
     "output_type": "stream",
     "text": [
      "Dictionary(20724 unique tokens: ['round_collect', 'environ', 'gener', 'meet', 'simul']...)\n"
     ]
    }
   ],
   "source": [
    "print(id2word_stemmed)"
   ]
  },
  {
   "cell_type": "code",
   "execution_count": 43,
   "metadata": {
    "colab": {
     "base_uri": "https://localhost:8080/"
    },
    "executionInfo": {
     "elapsed": 46,
     "status": "ok",
     "timestamp": 1628346570319,
     "user": {
      "displayName": "Suresha HP",
      "photoUrl": "https://lh3.googleusercontent.com/a-/AOh14GhDcYnUbnw4-j1oQP34WV3tGEnUDo29hkB1Vthp8oQ=s64",
      "userId": "01744058822138121722"
     },
     "user_tz": -330
    },
    "id": "-0fayx1JgnzA",
    "outputId": "4baeb154-bc26-4065-8987-526dda64e10f"
   },
   "outputs": [
    {
     "name": "stdout",
     "output_type": "stream",
     "text": [
      "Dictionary(36962 unique tokens: ['collection', 'enjoy', 'round', 'tweets', 'environment']...)\n"
     ]
    }
   ],
   "source": [
    "print(id2word_lemma)"
   ]
  },
  {
   "cell_type": "code",
   "execution_count": 44,
   "metadata": {
    "colab": {
     "base_uri": "https://localhost:8080/"
    },
    "executionInfo": {
     "elapsed": 40,
     "status": "ok",
     "timestamp": 1628346570320,
     "user": {
      "displayName": "Suresha HP",
      "photoUrl": "https://lh3.googleusercontent.com/a-/AOh14GhDcYnUbnw4-j1oQP34WV3tGEnUDo29hkB1Vthp8oQ=s64",
      "userId": "01744058822138121722"
     },
     "user_tz": -330
    },
    "id": "k4d2FPEDgp_M",
    "outputId": "ba927075-edec-400e-95ab-540648a727aa"
   },
   "outputs": [
    {
     "name": "stdout",
     "output_type": "stream",
     "text": [
      "Dictionary(37047 unique tokens: ['collection', 'enjoy', 'round', 'tweets', 'environment']...)\n"
     ]
    }
   ],
   "source": [
    "print(id2word_tidy)"
   ]
  },
  {
   "cell_type": "code",
   "execution_count": 45,
   "metadata": {
    "executionInfo": {
     "elapsed": 35,
     "status": "ok",
     "timestamp": 1628346570321,
     "user": {
      "displayName": "Suresha HP",
      "photoUrl": "https://lh3.googleusercontent.com/a-/AOh14GhDcYnUbnw4-j1oQP34WV3tGEnUDo29hkB1Vthp8oQ=s64",
      "userId": "01744058822138121722"
     },
     "user_tz": -330
    },
    "id": "-AhFdV7sgryq"
   },
   "outputs": [],
   "source": [
    "# Create Corpus\n",
    "tweets_stemmed = df['stemmed']"
   ]
  },
  {
   "cell_type": "code",
   "execution_count": 46,
   "metadata": {
    "colab": {
     "base_uri": "https://localhost:8080/"
    },
    "executionInfo": {
     "elapsed": 36,
     "status": "ok",
     "timestamp": 1628346570323,
     "user": {
      "displayName": "Suresha HP",
      "photoUrl": "https://lh3.googleusercontent.com/a-/AOh14GhDcYnUbnw4-j1oQP34WV3tGEnUDo29hkB1Vthp8oQ=s64",
      "userId": "01744058822138121722"
     },
     "user_tz": -330
    },
    "id": "LEUCPc6Egtqq",
    "outputId": "a2960185-64f6-41b1-998a-858d8d25c57e"
   },
   "outputs": [
    {
     "data": {
      "text/plain": [
       "['meet', 'simul', 'environ', 'understand', 'gener']"
      ]
     },
     "execution_count": 46,
     "metadata": {},
     "output_type": "execute_result"
    }
   ],
   "source": [
    "df['stemmed'][1]"
   ]
  },
  {
   "cell_type": "code",
   "execution_count": 47,
   "metadata": {
    "colab": {
     "base_uri": "https://localhost:8080/",
     "height": 52
    },
    "executionInfo": {
     "elapsed": 29,
     "status": "ok",
     "timestamp": 1628346570325,
     "user": {
      "displayName": "Suresha HP",
      "photoUrl": "https://lh3.googleusercontent.com/a-/AOh14GhDcYnUbnw4-j1oQP34WV3tGEnUDo29hkB1Vthp8oQ=s64",
      "userId": "01744058822138121722"
     },
     "user_tz": -330
    },
    "id": "oNtrNC1DgvK2",
    "outputId": "ebad0bfc-eddf-4109-932c-d6880558256c"
   },
   "outputs": [
    {
     "data": {
      "text/plain": [
       "'Meet Powderworld: A Lightweight Simulation Environment For Understanding AI Generalization  https://t.co/dO8yTvZndM… https://t.co/Nz8GnOtzqv'"
      ]
     },
     "execution_count": 47,
     "metadata": {},
     "output_type": "execute_result"
    }
   ],
   "source": [
    "df['text'][1]"
   ]
  },
  {
   "cell_type": "code",
   "execution_count": 48,
   "metadata": {
    "colab": {
     "base_uri": "https://localhost:8080/"
    },
    "executionInfo": {
     "elapsed": 27,
     "status": "ok",
     "timestamp": 1628346570326,
     "user": {
      "displayName": "Suresha HP",
      "photoUrl": "https://lh3.googleusercontent.com/a-/AOh14GhDcYnUbnw4-j1oQP34WV3tGEnUDo29hkB1Vthp8oQ=s64",
      "userId": "01744058822138121722"
     },
     "user_tz": -330
    },
    "id": "emjXw8__gypd",
    "outputId": "bc7fc916-c866-4e6b-bfe4-b41136f91996"
   },
   "outputs": [
    {
     "data": {
      "text/plain": [
       "0                                          [round_collect]\n",
       "1                [meet, simul, environ, understand, gener]\n",
       "2        [research, paper, investig, fix, roadsid, improv]\n",
       "3        [research, paper, investig, fix, roadsid, impr...\n",
       "4        [american, driver, like, benefit, self_driv, t...\n",
       "                               ...                        \n",
       "98722       [finalist, good, electr, boat, support, proud]\n",
       "98723       [work, close, increas, access, reliabl, charg]\n",
       "98724    [strategi, help, meet, ambiti, goal, state, ro...\n",
       "98725                                 [first, ever, drill]\n",
       "98726                    [want, know, solut, applic, join]\n",
       "Name: stemmed, Length: 98727, dtype: object"
      ]
     },
     "execution_count": 48,
     "metadata": {},
     "output_type": "execute_result"
    }
   ],
   "source": [
    "tweets_stemmed"
   ]
  },
  {
   "cell_type": "code",
   "execution_count": 49,
   "metadata": {
    "executionInfo": {
     "elapsed": 371,
     "status": "ok",
     "timestamp": 1628346570676,
     "user": {
      "displayName": "Suresha HP",
      "photoUrl": "https://lh3.googleusercontent.com/a-/AOh14GhDcYnUbnw4-j1oQP34WV3tGEnUDo29hkB1Vthp8oQ=s64",
      "userId": "01744058822138121722"
     },
     "user_tz": -330
    },
    "id": "2aMLVCB0g0Z9"
   },
   "outputs": [],
   "source": [
    "# Term Document Frequency\n",
    "corpus_stemmed = [id2word_stemmed.doc2bow(tweet) for tweet in tweets_stemmed]"
   ]
  },
  {
   "cell_type": "code",
   "execution_count": 50,
   "metadata": {
    "colab": {
     "base_uri": "https://localhost:8080/"
    },
    "executionInfo": {
     "elapsed": 13,
     "status": "ok",
     "timestamp": 1628346570677,
     "user": {
      "displayName": "Suresha HP",
      "photoUrl": "https://lh3.googleusercontent.com/a-/AOh14GhDcYnUbnw4-j1oQP34WV3tGEnUDo29hkB1Vthp8oQ=s64",
      "userId": "01744058822138121722"
     },
     "user_tz": -330
    },
    "id": "hhEbSwNHg3hN",
    "outputId": "4c1c919b-83d2-4942-de31-38dfa4fb1d9c"
   },
   "outputs": [
    {
     "name": "stdout",
     "output_type": "stream",
     "text": [
      "98727\n"
     ]
    }
   ],
   "source": [
    "print(len(corpus_stemmed))"
   ]
  },
  {
   "cell_type": "code",
   "execution_count": 51,
   "metadata": {
    "colab": {
     "base_uri": "https://localhost:8080/"
    },
    "executionInfo": {
     "elapsed": 12,
     "status": "ok",
     "timestamp": 1628346570678,
     "user": {
      "displayName": "Suresha HP",
      "photoUrl": "https://lh3.googleusercontent.com/a-/AOh14GhDcYnUbnw4-j1oQP34WV3tGEnUDo29hkB1Vthp8oQ=s64",
      "userId": "01744058822138121722"
     },
     "user_tz": -330
    },
    "id": "4RLccCL_g7K9",
    "outputId": "122610da-d21c-4dc1-934b-49755e2f1644"
   },
   "outputs": [
    {
     "name": "stdout",
     "output_type": "stream",
     "text": [
      "[(216, 1), (303, 1), (742, 1), (1275, 1), (1586, 1), (11191, 1), (11192, 1)]\n"
     ]
    }
   ],
   "source": [
    "print(corpus_stemmed[36307])"
   ]
  },
  {
   "cell_type": "code",
   "execution_count": 52,
   "metadata": {
    "colab": {
     "base_uri": "https://localhost:8080/"
    },
    "executionInfo": {
     "elapsed": 8,
     "status": "ok",
     "timestamp": 1628346570678,
     "user": {
      "displayName": "Suresha HP",
      "photoUrl": "https://lh3.googleusercontent.com/a-/AOh14GhDcYnUbnw4-j1oQP34WV3tGEnUDo29hkB1Vthp8oQ=s64",
      "userId": "01744058822138121722"
     },
     "user_tz": -330
    },
    "id": "2LcjPzt9g8YX",
    "outputId": "d26b94c6-e493-4655-9860-3261cd3c7568"
   },
   "outputs": [
    {
     "data": {
      "text/plain": [
       "[[('round_collect', 1)],\n",
       " [('environ', 1), ('gener', 1), ('meet', 1), ('simul', 1), ('understand', 1)],\n",
       " [('fix', 1),\n",
       "  ('improv', 1),\n",
       "  ('investig', 1),\n",
       "  ('paper', 1),\n",
       "  ('research', 1),\n",
       "  ('roadsid', 1)]]"
      ]
     },
     "execution_count": 52,
     "metadata": {},
     "output_type": "execute_result"
    }
   ],
   "source": [
    "# Human readable format of corpus (term-frequency)\n",
    "[[(id2word_stemmed[id], freq) for id, freq in cp] for cp in corpus_stemmed[:3]]"
   ]
  },
  {
   "cell_type": "markdown",
   "metadata": {
    "id": "Jzi2vJhfhGV9"
   },
   "source": [
    "### Build the LDA Model"
   ]
  },
  {
   "cell_type": "code",
   "execution_count": 53,
   "metadata": {
    "executionInfo": {
     "elapsed": 133803,
     "status": "ok",
     "timestamp": 1628346704477,
     "user": {
      "displayName": "Suresha HP",
      "photoUrl": "https://lh3.googleusercontent.com/a-/AOh14GhDcYnUbnw4-j1oQP34WV3tGEnUDo29hkB1Vthp8oQ=s64",
      "userId": "01744058822138121722"
     },
     "user_tz": -330
    },
    "id": "Ia4Y7grUhDgf"
   },
   "outputs": [],
   "source": [
    "# Build LDA model\n",
    "lda_model_stemmed = gensim.models.ldamodel.LdaModel(corpus=corpus_stemmed,\n",
    "                                           id2word=id2word_stemmed,\n",
    "                                           num_topics=10, \n",
    "                                           random_state=100,\n",
    "                                           update_every=1,\n",
    "                                           chunksize=100,\n",
    "                                           passes=15,\n",
    "                                           alpha='auto',\n",
    "                                           per_word_topics=True)"
   ]
  },
  {
   "cell_type": "code",
   "execution_count": 54,
   "metadata": {
    "colab": {
     "base_uri": "https://localhost:8080/"
    },
    "executionInfo": {
     "elapsed": 30,
     "status": "ok",
     "timestamp": 1628346704478,
     "user": {
      "displayName": "Suresha HP",
      "photoUrl": "https://lh3.googleusercontent.com/a-/AOh14GhDcYnUbnw4-j1oQP34WV3tGEnUDo29hkB1Vthp8oQ=s64",
      "userId": "01744058822138121722"
     },
     "user_tz": -330
    },
    "id": "QwhX-pDUhKId",
    "outputId": "9562f195-674d-49fc-fec8-8691a1d9871a"
   },
   "outputs": [
    {
     "name": "stdout",
     "output_type": "stream",
     "text": [
      "[(0,\n",
      "  '0.210*\"energi\" + 0.047*\"renew\" + 0.038*\"invest\" + 0.029*\"need\" + '\n",
      "  '0.023*\"global\" + 0.023*\"take\" + 0.022*\"technolog\" + 0.021*\"sustain\" + '\n",
      "  '0.016*\"save\" + 0.016*\"meet\"'),\n",
      " (1,\n",
      "  '0.056*\"electr\" + 0.052*\"clean\" + 0.045*\"make\" + 0.033*\"transit\" + '\n",
      "  '0.024*\"vehicl\" + 0.023*\"develop\" + 0.023*\"good\" + 0.019*\"look\" + '\n",
      "  '0.019*\"climat\" + 0.018*\"join\"'),\n",
      " (2,\n",
      "  '0.135*\"solar\" + 0.108*\"power\" + 0.032*\"year\" + 0.030*\"hydrogen\" + '\n",
      "  '0.025*\"free\" + 0.024*\"great\" + 0.023*\"emiss\" + 0.020*\"truck\" + '\n",
      "  '0.019*\"instal\" + 0.019*\"week\"'),\n",
      " (3,\n",
      "  '0.053*\"busi\" + 0.047*\"product\" + 0.046*\"well\" + 0.045*\"know\" + '\n",
      "  '0.037*\"start\" + 0.034*\"plan\" + 0.032*\"say\" + 0.030*\"port\" + 0.020*\"check\" + '\n",
      "  '0.018*\"nuclear\"'),\n",
      " (4,\n",
      "  '0.085*\"chang\" + 0.050*\"want\" + 0.047*\"visit\" + 0.041*\"govern\" + '\n",
      "  '0.039*\"hands_think\" + 0.035*\"late\" + 0.027*\"report\" + 0.025*\"research\" + '\n",
      "  '0.023*\"bu\" + 0.021*\"focu\"'),\n",
      " (5,\n",
      "  '0.056*\"news\" + 0.051*\"time\" + 0.041*\"batteri\" + 0.037*\"industri\" + '\n",
      "  '0.033*\"announc\" + 0.027*\"use\" + 0.020*\"light\" + 0.019*\"day\" + '\n",
      "  '0.017*\"increas\" + 0.017*\"leader\"'),\n",
      " (6,\n",
      "  '0.133*\"green\" + 0.072*\"world\" + 0.036*\"help\" + 0.036*\"compani\" + '\n",
      "  '0.032*\"panel\" + 0.028*\"first\" + 0.027*\"build\" + 0.025*\"provid\" + '\n",
      "  '0.022*\"sourc\" + 0.022*\"thank\"'),\n",
      " (7,\n",
      "  '0.068*\"futur\" + 0.035*\"fuel\" + 0.028*\"plant\" + 0.027*\"system\" + '\n",
      "  '0.027*\"wind\" + 0.027*\"market\" + 0.020*\"charg\" + 0.019*\"hour\" + '\n",
      "  '0.019*\"price\" + 0.018*\"import\"'),\n",
      " (8,\n",
      "  '0.054*\"work\" + 0.044*\"solut\" + 0.032*\"partner\" + 0.030*\"come\" + '\n",
      "  '0.023*\"effici\" + 0.022*\"reduc\" + 0.022*\"advanc\" + 0.021*\"acceler\" + '\n",
      "  '0.019*\"cost\" + 0.019*\"part\"'),\n",
      " (9,\n",
      "  '0.066*\"project\" + 0.066*\"today\" + 0.049*\"support\" + 0.036*\"video\" + '\n",
      "  '0.036*\"home\" + 0.032*\"learn\" + 0.029*\"larg\" + 0.024*\"next\" + 0.021*\"mine\" + '\n",
      "  '0.019*\"fleet\"')]\n"
     ]
    }
   ],
   "source": [
    "pprint(lda_model_stemmed.print_topics())\n",
    "doc_lda_stemmed = lda_model_stemmed[corpus_stemmed]"
   ]
  },
  {
   "cell_type": "markdown",
   "metadata": {
    "id": "0ZlAxf_nipDl"
   },
   "source": [
    "### Model Perplexity and Coherence Score"
   ]
  },
  {
   "cell_type": "code",
   "execution_count": 55,
   "metadata": {
    "colab": {
     "base_uri": "https://localhost:8080/"
    },
    "executionInfo": {
     "elapsed": 7580,
     "status": "ok",
     "timestamp": 1628346712035,
     "user": {
      "displayName": "Suresha HP",
      "photoUrl": "https://lh3.googleusercontent.com/a-/AOh14GhDcYnUbnw4-j1oQP34WV3tGEnUDo29hkB1Vthp8oQ=s64",
      "userId": "01744058822138121722"
     },
     "user_tz": -330
    },
    "id": "gWzdZFXYil4Q",
    "outputId": "ab19177c-0874-415f-e437-ab422dd13992"
   },
   "outputs": [
    {
     "name": "stdout",
     "output_type": "stream",
     "text": [
      "\n",
      "Perplexity:  -8.97442949714506\n",
      "\n",
      "Coherence Score:  0.21964532684283006\n"
     ]
    }
   ],
   "source": [
    "# Compute Perplexity\n",
    "print('\\nPerplexity: ', lda_model_stemmed.log_perplexity(corpus_stemmed))  # a measure of how good the model is. lower the better.\n",
    "\n",
    "# Compute Coherence Score\n",
    "coherence_model_lda_stemmed = CoherenceModel(model=lda_model_stemmed, texts=df['stemmed'], dictionary=id2word_stemmed, coherence='c_v')\n",
    "coherence_lda_stemmed = coherence_model_lda_stemmed.get_coherence()\n",
    "print('\\nCoherence Score: ', coherence_lda_stemmed)"
   ]
  },
  {
   "cell_type": "code",
   "execution_count": 56,
   "metadata": {
    "executionInfo": {
     "elapsed": 20,
     "status": "ok",
     "timestamp": 1628346712036,
     "user": {
      "displayName": "Suresha HP",
      "photoUrl": "https://lh3.googleusercontent.com/a-/AOh14GhDcYnUbnw4-j1oQP34WV3tGEnUDo29hkB1Vthp8oQ=s64",
      "userId": "01744058822138121722"
     },
     "user_tz": -330
    },
    "id": "aoKYNXkn3EFI"
   },
   "outputs": [],
   "source": [
    "lda_model_stemmed.save('gensim_model.gensim')"
   ]
  },
  {
   "cell_type": "markdown",
   "metadata": {
    "id": "Of-eQvLDiz5F"
   },
   "source": [
    "### Mallet Wrapper"
   ]
  },
  {
   "cell_type": "code",
   "execution_count": 57,
   "metadata": {},
   "outputs": [
    {
     "name": "stdout",
     "output_type": "stream",
     "text": [
      "Requirement already satisfied: wget in c:\\users\\thanigav\\appdata\\local\\programs\\python\\python39\\lib\\site-packages (3.2)\n",
      "Note: you may need to restart the kernel to use updated packages.\n"
     ]
    },
    {
     "name": "stderr",
     "output_type": "stream",
     "text": [
      "WARNING: Ignoring invalid distribution -aleido (c:\\users\\thanigav\\appdata\\local\\programs\\python\\python39\\lib\\site-packages)\n",
      "WARNING: Ignoring invalid distribution -aleido (c:\\users\\thanigav\\appdata\\local\\programs\\python\\python39\\lib\\site-packages)\n",
      "WARNING: Ignoring invalid distribution -aleido (c:\\users\\thanigav\\appdata\\local\\programs\\python\\python39\\lib\\site-packages)\n",
      "WARNING: Ignoring invalid distribution -aleido (c:\\users\\thanigav\\appdata\\local\\programs\\python\\python39\\lib\\site-packages)\n",
      "WARNING: Ignoring invalid distribution -aleido (c:\\users\\thanigav\\appdata\\local\\programs\\python\\python39\\lib\\site-packages)\n",
      "WARNING: Ignoring invalid distribution -aleido (c:\\users\\thanigav\\appdata\\local\\programs\\python\\python39\\lib\\site-packages)\n",
      "WARNING: You are using pip version 21.3.1; however, version 22.3.1 is available.\n",
      "You should consider upgrading via the 'c:\\users\\thanigav\\appdata\\local\\programs\\python\\python39\\python.exe -m pip install --upgrade pip' command.\n"
     ]
    }
   ],
   "source": [
    "pip install wget"
   ]
  },
  {
   "cell_type": "code",
   "execution_count": 58,
   "metadata": {},
   "outputs": [
    {
     "name": "stdout",
     "output_type": "stream",
     "text": [
      "100% [........................................................................] 16184794 / 16184794"
     ]
    }
   ],
   "source": [
    "import wget\n",
    "url = 'http://mallet.cs.umass.edu/dist/mallet-2.0.8.zip'\n",
    "myfile = wget.download(url)"
   ]
  },
  {
   "cell_type": "code",
   "execution_count": 59,
   "metadata": {
    "colab": {
     "base_uri": "https://localhost:8080/"
    },
    "executionInfo": {
     "elapsed": 2366,
     "status": "ok",
     "timestamp": 1628346714384,
     "user": {
      "displayName": "Suresha HP",
      "photoUrl": "https://lh3.googleusercontent.com/a-/AOh14GhDcYnUbnw4-j1oQP34WV3tGEnUDo29hkB1Vthp8oQ=s64",
      "userId": "01744058822138121722"
     },
     "user_tz": -330
    },
    "id": "xBHecTL9wy-r",
    "outputId": "9c787fd8-b243-40f6-ff43-8d0a1ac9e88a"
   },
   "outputs": [],
   "source": [
    "# !wget http://mallet.cs.umass.edu/dist/mallet-2.0.8.zip"
   ]
  },
  {
   "cell_type": "code",
   "execution_count": 60,
   "metadata": {
    "colab": {
     "base_uri": "https://localhost:8080/"
    },
    "executionInfo": {
     "elapsed": 856,
     "status": "ok",
     "timestamp": 1628346715229,
     "user": {
      "displayName": "Suresha HP",
      "photoUrl": "https://lh3.googleusercontent.com/a-/AOh14GhDcYnUbnw4-j1oQP34WV3tGEnUDo29hkB1Vthp8oQ=s64",
      "userId": "01744058822138121722"
     },
     "user_tz": -330
    },
    "id": "G6BCYJbWw3PX",
    "outputId": "74007139-91a8-4f69-d834-b3ef0a983c10"
   },
   "outputs": [],
   "source": [
    "# !unzip mallet-2.0.8.zip"
   ]
  },
  {
   "cell_type": "code",
   "execution_count": 61,
   "metadata": {
    "executionInfo": {
     "elapsed": 10,
     "status": "ok",
     "timestamp": 1628346715231,
     "user": {
      "displayName": "Suresha HP",
      "photoUrl": "https://lh3.googleusercontent.com/a-/AOh14GhDcYnUbnw4-j1oQP34WV3tGEnUDo29hkB1Vthp8oQ=s64",
      "userId": "01744058822138121722"
     },
     "user_tz": -330
    },
    "id": "mBgETotuw7kQ"
   },
   "outputs": [],
   "source": [
    "mallet_path = '/content/mallet-2.0.8/bin/mallet'"
   ]
  },
  {
   "cell_type": "code",
   "execution_count": 62,
   "metadata": {},
   "outputs": [
    {
     "name": "stdout",
     "output_type": "stream",
     "text": [
      "Requirement already satisfied: gensim in c:\\users\\thanigav\\appdata\\local\\programs\\python\\python39\\lib\\site-packages (3.8.3)\n",
      "Requirement already satisfied: numpy>=1.11.3 in c:\\users\\thanigav\\appdata\\local\\programs\\python\\python39\\lib\\site-packages (from gensim) (1.21.2)\n",
      "Requirement already satisfied: scipy>=0.18.1 in c:\\users\\thanigav\\appdata\\local\\programs\\python\\python39\\lib\\site-packages (from gensim) (1.7.1)\n",
      "Requirement already satisfied: six>=1.5.0 in c:\\users\\thanigav\\appdata\\local\\programs\\python\\python39\\lib\\site-packages (from gensim) (1.16.0)\n",
      "Requirement already satisfied: smart_open>=1.8.1 in c:\\users\\thanigav\\appdata\\local\\programs\\python\\python39\\lib\\site-packages (from gensim) (5.2.1)\n",
      "Note: you may need to restart the kernel to use updated packages.\n"
     ]
    },
    {
     "name": "stderr",
     "output_type": "stream",
     "text": [
      "WARNING: Ignoring invalid distribution -aleido (c:\\users\\thanigav\\appdata\\local\\programs\\python\\python39\\lib\\site-packages)\n",
      "WARNING: Ignoring invalid distribution -aleido (c:\\users\\thanigav\\appdata\\local\\programs\\python\\python39\\lib\\site-packages)\n",
      "WARNING: Ignoring invalid distribution -aleido (c:\\users\\thanigav\\appdata\\local\\programs\\python\\python39\\lib\\site-packages)\n",
      "WARNING: Ignoring invalid distribution -aleido (c:\\users\\thanigav\\appdata\\local\\programs\\python\\python39\\lib\\site-packages)\n",
      "WARNING: Ignoring invalid distribution -aleido (c:\\users\\thanigav\\appdata\\local\\programs\\python\\python39\\lib\\site-packages)\n",
      "WARNING: Ignoring invalid distribution -aleido (c:\\users\\thanigav\\appdata\\local\\programs\\python\\python39\\lib\\site-packages)\n",
      "WARNING: You are using pip version 21.3.1; however, version 22.3.1 is available.\n",
      "You should consider upgrading via the 'c:\\users\\thanigav\\appdata\\local\\programs\\python\\python39\\python.exe -m pip install --upgrade pip' command.\n"
     ]
    }
   ],
   "source": [
    "pip install gensim"
   ]
  },
  {
   "cell_type": "code",
   "execution_count": 63,
   "metadata": {
    "executionInfo": {
     "elapsed": 40781,
     "status": "ok",
     "timestamp": 1628346756004,
     "user": {
      "displayName": "Suresha HP",
      "photoUrl": "https://lh3.googleusercontent.com/a-/AOh14GhDcYnUbnw4-j1oQP34WV3tGEnUDo29hkB1Vthp8oQ=s64",
      "userId": "01744058822138121722"
     },
     "user_tz": -330
    },
    "id": "esqYoKK-itCs"
   },
   "outputs": [],
   "source": [
    "num_topics = 8\n",
    "mallet_path = r'C:/mallet/mallet-2.0.8/bin/mallet.bat'\n",
    "import os\n",
    "os.environ['MALLET_HOME'] = 'C:/mallet/mallet-2.0.8/'\n",
    "ldamallet_stemmed = gensim.models.wrappers.LdaMallet(mallet_path, corpus=corpus_stemmed, num_topics=num_topics, id2word=id2word_stemmed)"
   ]
  },
  {
   "cell_type": "code",
   "execution_count": 64,
   "metadata": {
    "colab": {
     "base_uri": "https://localhost:8080/"
    },
    "executionInfo": {
     "elapsed": 30,
     "status": "ok",
     "timestamp": 1628346756005,
     "user": {
      "displayName": "Suresha HP",
      "photoUrl": "https://lh3.googleusercontent.com/a-/AOh14GhDcYnUbnw4-j1oQP34WV3tGEnUDo29hkB1Vthp8oQ=s64",
      "userId": "01744058822138121722"
     },
     "user_tz": -330
    },
    "id": "PRra4dCfi3Al",
    "outputId": "8936d76a-ffd9-41a0-cec6-eaa5e9059f3f"
   },
   "outputs": [
    {
     "name": "stdout",
     "output_type": "stream",
     "text": [
      "[(0,\n",
      "  [('futur', 0.030678163863513474),\n",
      "   ('tesla', 0.028529554056746065),\n",
      "   ('world', 0.028486866444691086),\n",
      "   ('good', 0.027490822163408177),\n",
      "   ('build', 0.021927203392242238),\n",
      "   ('model', 0.021543014883747404),\n",
      "   ('invest', 0.020262386522097955),\n",
      "   ('design', 0.014229204018327215),\n",
      "   ('chang', 0.013745411081704089),\n",
      "   ('full', 0.012920117248641111)]),\n",
      " (1,\n",
      "  [('batteri', 0.06603617741802263),\n",
      "   ('market', 0.0345943118306214),\n",
      "   ('sale', 0.028055394950579553),\n",
      "   ('compani', 0.024641392032157705),\n",
      "   ('develop', 0.020401420665730568),\n",
      "   ('high', 0.020057267145728367),\n",
      "   ('manufactur', 0.019437790809724402),\n",
      "   ('lithium', 0.019203766416122904),\n",
      "   ('technolog', 0.018749483769719997),\n",
      "   ('demand', 0.017799620054513916)]),\n",
      " (2,\n",
      "  [('power', 0.05151631587186384),\n",
      "   ('solar', 0.032446740383383854),\n",
      "   ('news', 0.031464799555991976),\n",
      "   ('make', 0.030824403364214662),\n",
      "   ('announc', 0.02323926624827449),\n",
      "   ('system', 0.015725284264754016),\n",
      "   ('larg', 0.013633323371614794),\n",
      "   ('plant', 0.011640979663863155),\n",
      "   ('deliveri', 0.011598286584411333),\n",
      "   ('call', 0.011014814498569782)]),\n",
      " (3,\n",
      "  [('electr', 0.18442822384428223),\n",
      "   ('vehicl', 0.11015641293013556),\n",
      "   ('car', 0.04275286757038582),\n",
      "   ('drive', 0.034118873826903026),\n",
      "   ('launch', 0.021856100104275286),\n",
      "   ('rang', 0.01735140771637122),\n",
      "   ('truck', 0.017184567257559957),\n",
      "   ('test', 0.016127911018421967),\n",
      "   ('sell', 0.016058394160583942),\n",
      "   ('road', 0.01564129301355579)]),\n",
      " (4,\n",
      "  [('energi', 0.05804223295518365),\n",
      "   ('green', 0.02586206896551724),\n",
      "   ('make', 0.020863753790857014),\n",
      "   ('cost', 0.019291250140402113),\n",
      "   ('gener', 0.014433337077389644),\n",
      "   ('support', 0.014391216443895316),\n",
      "   ('clean', 0.01406829158710547),\n",
      "   ('transit', 0.013422441873525778),\n",
      "   ('give', 0.012987195327417725),\n",
      "   ('govern', 0.012818712793440414)]),\n",
      " (5,\n",
      "  [('time', 0.036095789988130976),\n",
      "   ('price', 0.029756335963136215),\n",
      "   ('great', 0.02280248551281156),\n",
      "   ('week', 0.021936745095301264),\n",
      "   ('read', 0.01879494519304615),\n",
      "   ('late', 0.01755218878726524),\n",
      "   ('check', 0.017370662570690497),\n",
      "   ('join', 0.017189136354115758),\n",
      "   ('mobil', 0.01611394260978845),\n",
      "   ('learn', 0.015792780842002373)]),\n",
      " (6,\n",
      "  [('charg', 0.09476281102417707),\n",
      "   ('work', 0.02307746528512018),\n",
      "   ('station', 0.020525833509551),\n",
      "   ('charger', 0.018256149996475648),\n",
      "   ('fast', 0.017565376753365756),\n",
      "   ('solut', 0.01638119405089166),\n",
      "   ('offer', 0.015535349263410164),\n",
      "   ('busi', 0.015267498414041023),\n",
      "   ('home', 0.014252484669063228),\n",
      "   ('provid', 0.013463029534080496)]),\n",
      " (7,\n",
      "  [('year', 0.04321198655500484),\n",
      "   ('product', 0.030493362957898933),\n",
      "   ('start', 0.025252093659203556),\n",
      "   ('peopl', 0.022232666780607303),\n",
      "   ('show', 0.017660798723864866),\n",
      "   ('part', 0.01623654076226286),\n",
      "   ('today', 0.015182589870677377),\n",
      "   ('meet', 0.012960747450578248),\n",
      "   ('back', 0.012020737195920925),\n",
      "   ('auto', 0.011707400444368484)])]\n"
     ]
    }
   ],
   "source": [
    "# Show Topics\n",
    "pprint(ldamallet_stemmed.show_topics(formatted=False))"
   ]
  },
  {
   "cell_type": "code",
   "execution_count": 65,
   "metadata": {
    "colab": {
     "base_uri": "https://localhost:8080/"
    },
    "executionInfo": {
     "elapsed": 1565,
     "status": "ok",
     "timestamp": 1628346757545,
     "user": {
      "displayName": "Suresha HP",
      "photoUrl": "https://lh3.googleusercontent.com/a-/AOh14GhDcYnUbnw4-j1oQP34WV3tGEnUDo29hkB1Vthp8oQ=s64",
      "userId": "01744058822138121722"
     },
     "user_tz": -330
    },
    "id": "-_JVCgLFk1vk",
    "outputId": "d7328a6e-3e12-440a-ec4a-c7f37d44b5cc"
   },
   "outputs": [
    {
     "name": "stdout",
     "output_type": "stream",
     "text": [
      "\n",
      "Coherence Score (Stemmed):  0.2724458672130621\n"
     ]
    }
   ],
   "source": [
    "# Compute Coherence Score\n",
    "coherence_model_ldamallet_stemmed = CoherenceModel(model=ldamallet_stemmed, texts=df['stemmed'], dictionary=id2word_stemmed, coherence='c_v')\n",
    "coherence_ldamallet_stemmed = coherence_model_ldamallet_stemmed.get_coherence()\n",
    "print('\\nCoherence Score (Stemmed): ', coherence_ldamallet_stemmed)"
   ]
  },
  {
   "cell_type": "markdown",
   "metadata": {
    "id": "Bl9crcRRk-yt"
   },
   "source": [
    "### Visualize with pyLDAvis"
   ]
  },
  {
   "cell_type": "code",
   "execution_count": 66,
   "metadata": {
    "executionInfo": {
     "elapsed": 8,
     "status": "ok",
     "timestamp": 1628346757546,
     "user": {
      "displayName": "Suresha HP",
      "photoUrl": "https://lh3.googleusercontent.com/a-/AOh14GhDcYnUbnw4-j1oQP34WV3tGEnUDo29hkB1Vthp8oQ=s64",
      "userId": "01744058822138121722"
     },
     "user_tz": -330
    },
    "id": "O4eUaZOmk6_-"
   },
   "outputs": [],
   "source": [
    "# Visualize the topics\n",
    "pyLDAvis.enable_notebook()\n"
   ]
  },
  {
   "cell_type": "code",
   "execution_count": 67,
   "metadata": {
    "executionInfo": {
     "elapsed": 4549,
     "status": "ok",
     "timestamp": 1628346762089,
     "user": {
      "displayName": "Suresha HP",
      "photoUrl": "https://lh3.googleusercontent.com/a-/AOh14GhDcYnUbnw4-j1oQP34WV3tGEnUDo29hkB1Vthp8oQ=s64",
      "userId": "01744058822138121722"
     },
     "user_tz": -330
    },
    "id": "9V11LmHYCJK-"
   },
   "outputs": [
    {
     "name": "stderr",
     "output_type": "stream",
     "text": [
      "c:\\users\\thanigav\\appdata\\local\\programs\\python\\python39\\lib\\site-packages\\pyLDAvis\\_prepare.py:246: FutureWarning: In a future version of pandas all arguments of DataFrame.drop except for the argument 'labels' will be keyword-only\n",
      "  default_term_info = default_term_info.sort_values(\n"
     ]
    }
   ],
   "source": [
    "visualisation = gensimvis.prepare(lda_model_stemmed,corpus_stemmed,id2word_stemmed)"
   ]
  },
  {
   "cell_type": "code",
   "execution_count": 68,
   "metadata": {
    "colab": {
     "base_uri": "https://localhost:8080/",
     "height": 881
    },
    "executionInfo": {
     "elapsed": 56,
     "status": "ok",
     "timestamp": 1628346762105,
     "user": {
      "displayName": "Suresha HP",
      "photoUrl": "https://lh3.googleusercontent.com/a-/AOh14GhDcYnUbnw4-j1oQP34WV3tGEnUDo29hkB1Vthp8oQ=s64",
      "userId": "01744058822138121722"
     },
     "user_tz": -330
    },
    "id": "KEQiG4MwlBQc",
    "outputId": "a15d9852-f731-4123-f09e-a9383ef0c79e"
   },
   "outputs": [
    {
     "data": {
      "text/html": [
       "\n",
       "<link rel=\"stylesheet\" type=\"text/css\" href=\"https://cdn.jsdelivr.net/gh/bmabey/pyLDAvis@3.3.1/pyLDAvis/js/ldavis.v1.0.0.css\">\n",
       "\n",
       "\n",
       "<div id=\"ldavis_el2580022359569648162945957881\"></div>\n",
       "<script type=\"text/javascript\">\n",
       "\n",
       "var ldavis_el2580022359569648162945957881_data = {\"mdsDat\": {\"x\": [0.102729960865362, -0.4082052365192254, 0.12617770005142193, -0.05554153165425018, -0.09599001139175978, 0.0911092871777194, 0.061073765129099455, 0.07288934428489863, 0.048400030120515795, 0.05735669193621836], \"y\": [-0.1102434200109987, -0.18658121461841098, -0.09357813220112136, 0.12320503807466045, 0.3859613756448765, -0.05188326296386086, -0.02434679451489567, -0.03236913767039747, -0.0019139167807964066, -0.008250534959055313], \"topics\": [1, 2, 3, 4, 5, 6, 7, 8, 9, 10], \"cluster\": [1, 1, 1, 1, 1, 1, 1, 1, 1, 1], \"Freq\": [15.543152221550269, 13.892441320041407, 11.462628436195363, 11.322904097823969, 10.081341416389563, 9.353261139732238, 8.430749005033796, 7.88614805814518, 7.212400226581288, 4.81497407850693]}, \"tinfo\": {\"Term\": [\"energi\", \"solar\", \"green\", \"power\", \"futur\", \"world\", \"electr\", \"clean\", \"make\", \"renew\", \"project\", \"chang\", \"today\", \"news\", \"time\", \"work\", \"busi\", \"invest\", \"transit\", \"product\", \"support\", \"solut\", \"well\", \"batteri\", \"know\", \"fuel\", \"help\", \"compani\", \"industri\", \"year\", \"electr\", \"clean\", \"make\", \"transit\", \"vehicl\", \"develop\", \"good\", \"look\", \"climat\", \"join\", \"team\", \"sign\", \"transport\", \"produc\", \"servic\", \"discuss\", \"commun\", \"climate_chang\", \"economi\", \"innov\", \"bill\", \"opportun\", \"friendli\", \"engin\", \"path\", \"suppli\", \"commit\", \"trade\", \"agreement\", \"impact\", \"energi\", \"renew\", \"invest\", \"need\", \"global\", \"take\", \"technolog\", \"sustain\", \"save\", \"meet\", \"gener\", \"go\", \"read\", \"peopl\", \"state\", \"creat\", \"show\", \"environ\", \"think\", \"keep\", \"much\", \"readi\", \"still\", \"crisi\", \"grid\", \"life\", \"econom\", \"thing\", \"even\", \"facil\", \"futur\", \"fuel\", \"plant\", \"system\", \"wind\", \"market\", \"charg\", \"hour\", \"price\", \"import\", \"live\", \"call\", \"high\", \"group\", \"find\", \"citi\", \"launch\", \"ship\", \"goal\", \"continu\", \"event\", \"storag\", \"station\", \"benefit\", \"shift\", \"nation\", \"sale\", \"test\", \"host\", \"infrastructur\", \"solar\", \"power\", \"year\", \"hydrogen\", \"free\", \"great\", \"emiss\", \"truck\", \"instal\", \"week\", \"countri\", \"share\", \"step\", \"fund\", \"drive\", \"get\", \"last\", \"demand\", \"back\", \"confer\", \"switch\", \"action\", \"manufactur\", \"target\", \"base\", \"includ\", \"wind_turbin\", \"right\", \"altern\", \"financ\", \"green\", \"world\", \"help\", \"compani\", \"panel\", \"first\", \"build\", \"provid\", \"sourc\", \"thank\", \"lead\", \"oper\", \"proud\", \"water\", \"talk\", \"challeng\", \"enough\", \"environment\", \"deal\", \"ever\", \"custom\", \"commerci\", \"attend\", \"contact\", \"strategi\", \"seek\", \"fall\", \"result\", \"open\", \"option\", \"news\", \"time\", \"batteri\", \"industri\", \"announc\", \"use\", \"light\", \"day\", \"increas\", \"leader\", \"sector\", \"also\", \"offer\", \"hear\", \"real\", \"follow\", \"growth\", \"job\", \"lithium\", \"close\", \"famili\", \"watch\", \"requir\", \"see\", \"huge\", \"zero_emiss\", \"store\", \"resourc\", \"order\", \"worth\", \"work\", \"solut\", \"partner\", \"come\", \"effici\", \"reduc\", \"advanc\", \"acceler\", \"cost\", \"part\", \"move\", \"carbon\", \"boost\", \"bring\", \"mani\", \"datum\", \"cell\", \"natur\", \"full\", \"earth\", \"long\", \"design\", \"contribut\", \"implement\", \"togeth\", \"pollut\", \"corpor\", \"line\", \"strong\", \"propos\", \"busi\", \"product\", \"well\", \"know\", \"start\", \"plan\", \"say\", \"port\", \"check\", \"nuclear\", \"grow\", \"polici\", \"give\", \"stop\", \"complet\", \"reach\", \"potenti\", \"turn\", \"valu\", \"issu\", \"cheap\", \"convert\", \"manag\", \"current\", \"coal\", \"perform\", \"local\", \"train\", \"wast\", \"congratul\", \"project\", \"today\", \"support\", \"video\", \"home\", \"learn\", \"larg\", \"next\", \"mine\", \"fleet\", \"place\", \"becom\", \"excit\", \"space\", \"welcom\", \"happi\", \"secur\", \"aim\", \"fast\", \"convers\", \"updat\", \"achiev\", \"award\", \"never\", \"big\", \"level\", \"adopt\", \"season\", \"matter\", \"fight\", \"chang\", \"want\", \"visit\", \"govern\", \"late\", \"report\", \"research\", \"bu\", \"focu\", \"small\", \"head\", \"deliv\", \"initi\", \"realli\", \"do\", \"total\", \"recycl\", \"cooper\", \"enter\", \"face\", \"alway\", \"health\", \"miner\", \"game\", \"burn\", \"feel\", \"night\", \"miss\", \"introduc\", \"competit\", \"hands_think\"], \"Freq\": [17967.0, 9418.0, 8237.0, 7524.0, 4790.0, 4493.0, 5402.0, 4997.0, 4281.0, 3999.0, 2926.0, 2535.0, 2918.0, 3206.0, 2927.0, 2802.0, 2559.0, 3267.0, 3133.0, 2268.0, 2182.0, 2288.0, 2221.0, 2351.0, 2177.0, 2455.0, 2256.0, 2246.0, 2152.0, 2263.0, 5401.453119129707, 4996.368909830403, 4280.366238804056, 3132.7865628191857, 2312.134439525685, 2160.600417650763, 2159.870565458758, 1854.3798550906486, 1814.6563688634724, 1701.3334738068588, 1638.657394506971, 1600.6704531504274, 1376.591283138677, 1171.897105151044, 1154.2134059046464, 1153.0726660271446, 1011.2924074093057, 990.4308435440628, 984.771588567366, 887.3208814104494, 821.3435997894233, 789.8757967392378, 766.2061136246135, 762.5861252885766, 758.8702869581384, 728.7297475175762, 723.4521968481924, 719.6280587335774, 707.4009818639807, 653.0984794492811, 17966.081432885952, 3998.778762915017, 3266.525597816395, 2465.6626052043866, 1969.580336996157, 1956.500182720021, 1906.0592126130186, 1835.782398893783, 1389.330820101628, 1386.5113496053157, 1339.8524870666986, 1287.7823406620478, 1242.339138463039, 1201.4399852736194, 1195.8480274791593, 931.0441816685698, 919.2178167111979, 912.7093275977023, 851.7891898742497, 830.3751415494738, 788.2931125611004, 736.7242266271909, 717.2708693225972, 640.4574084780629, 611.0590881038929, 610.6472871522375, 591.6136676893117, 563.0373937475455, 551.8199358244519, 527.036936934506, 4789.9495714973455, 2454.2809903058933, 1963.1058731770959, 1917.383346291929, 1905.2734253810854, 1899.452902295413, 1435.6044157591211, 1353.3373020047409, 1341.795638323099, 1257.8803548288909, 1221.150166223941, 1207.3607470533366, 1159.5638245983314, 984.2623270329913, 970.7276824436054, 941.2417533595947, 918.6163752435643, 865.9445771280863, 837.297475746899, 831.3607870358454, 816.3140806461719, 758.8055802768617, 754.0336411818824, 694.6767581365352, 693.814039146452, 687.9658074328559, 632.4637144798323, 613.4625722432588, 603.5605221930597, 591.4671211530208, 9417.1486531261, 7523.172723944019, 2262.7896536190297, 2104.4693779560425, 1711.850926508436, 1709.6918132973194, 1625.2225714630254, 1404.5060694590481, 1350.271564114661, 1324.4879425565787, 1139.6805944187886, 1121.9795068687165, 975.8492814306964, 946.0746486503671, 924.3484175553793, 919.2398815819766, 798.005512242906, 750.1411385317143, 741.6288623278147, 728.2870250011267, 682.3516151253409, 642.399958990138, 639.4507312696958, 629.3333907190317, 602.5474491255449, 572.544747415839, 549.9693041328475, 503.10117165292775, 492.41502407172896, 490.71455175636123, 8236.882114133046, 4492.749942106078, 2255.1573033831673, 2245.1239575655704, 1984.2731741451971, 1759.9931756193214, 1662.01726312712, 1540.339125356658, 1371.0711888348353, 1338.6518098858432, 1153.0896715958122, 861.0627661061365, 791.9535325447249, 735.2639015104886, 716.8230295968626, 704.0140337821525, 604.953701214334, 593.7038414483454, 592.4347677994808, 578.5234654031557, 576.3787633522487, 540.6374145239149, 518.3672674281443, 451.67621422698375, 445.0077022294776, 427.52754986293274, 418.2816733903071, 393.9355049535538, 377.8779376077394, 358.2813021924689, 3205.5272005175507, 2926.301980167098, 2350.649515207428, 2151.1453885623578, 1879.9548112595505, 1570.1134377142555, 1137.648700488243, 1114.9496845994531, 1002.3969066829222, 983.4448631848751, 982.6431603921418, 980.9153748717895, 751.118504344433, 732.2896592792991, 722.2025861921378, 714.3042455083694, 611.8107216780193, 607.1650022189223, 578.7704486641522, 575.9533720301204, 547.4767577929216, 547.1923917500811, 531.1875512169067, 529.0100430822492, 511.85436592357365, 513.1992373956817, 494.40599850361747, 492.5996968067529, 479.2748786788421, 474.0860979496406, 2801.183793900353, 2287.5204770484297, 1685.8584595971663, 1545.2697762838716, 1218.6162358120196, 1164.0629316950842, 1159.5502647038948, 1116.150105496638, 1010.0457457319436, 1002.3818312262998, 969.2090671750207, 954.3678328366157, 908.2007836261148, 903.5959482846301, 822.0773023302086, 664.6286364052086, 662.7000717645767, 651.8989963988569, 614.4424371842223, 605.1883765972502, 602.4636981493936, 564.6758363142649, 532.7712100112446, 518.5006546022674, 507.48493928633275, 504.51052527168343, 503.1745198621252, 489.03253542919015, 476.55737494883743, 476.2304774333207, 2558.7686003842136, 2267.6856291683125, 2220.4831614151494, 2176.2809963300774, 1805.1923689385608, 1646.3625219844896, 1562.3243431042335, 1434.9574648567962, 976.2120925207641, 892.9053789182069, 883.1688398069952, 865.5740977644349, 854.0424484966612, 741.4360994242753, 683.6482142906777, 667.6308272653669, 576.22148522886, 563.109673537175, 562.9996865890797, 528.3402589940387, 458.2682490457563, 457.6347260359576, 455.8855305625446, 449.3304624106254, 448.66003558744774, 447.964976034849, 437.0116525394395, 426.87614471696077, 422.44089499858626, 395.79905858408904, 2925.2943945016473, 2917.8170037822265, 2181.565682092541, 1584.9442790326511, 1581.3611279770068, 1411.2539677367986, 1281.8242105675645, 1062.002506625263, 944.8708540592904, 846.613318402182, 822.182178310677, 802.0830878889614, 767.4789527542182, 762.2310303930759, 755.7917612429644, 726.3079988270517, 679.0572338326524, 649.5067149156337, 606.2869741527235, 583.1664894604152, 579.3584286296425, 515.9238916980622, 470.5893530182898, 443.45995822078925, 401.2951109769076, 400.95929927252246, 384.9761695486535, 384.1619638611561, 348.6678800857376, 335.75298185501134, 2534.1054161047473, 1495.449392611047, 1400.988166424496, 1225.3149885607024, 1042.4469334435294, 806.8325354907348, 753.1588131090433, 692.8761014819713, 630.9831931126447, 579.2877550977122, 441.9616827585754, 427.63991138751305, 418.24900467719954, 410.7032083748619, 369.9862311983718, 361.85081458900373, 354.66987125200956, 324.79068871045604, 321.01548206321945, 300.7147611699873, 299.2526122893235, 287.69622568081667, 281.5050880470298, 280.58191079320324, 275.8341223116242, 273.157953319256, 266.2743221584613, 264.58751652274856, 250.9550316661927, 248.39260103098326, 1166.174471023969], \"Total\": [17967.0, 9418.0, 8237.0, 7524.0, 4790.0, 4493.0, 5402.0, 4997.0, 4281.0, 3999.0, 2926.0, 2535.0, 2918.0, 3206.0, 2927.0, 2802.0, 2559.0, 3267.0, 3133.0, 2268.0, 2182.0, 2288.0, 2221.0, 2351.0, 2177.0, 2455.0, 2256.0, 2246.0, 2152.0, 2263.0, 5402.368523504825, 4997.284408986691, 4281.2816314636275, 3133.702065900784, 2313.0499546517067, 2161.5158419881986, 2160.785955020489, 1855.2952348350937, 1815.5717865603478, 1702.248983933989, 1639.5728261632996, 1601.5859976461009, 1377.5070092362528, 1172.8124978734925, 1155.1289290562243, 1153.988089438362, 1012.2078205125175, 991.3462201141994, 985.687032349392, 888.2363329466878, 822.2589943015051, 790.7911887725669, 767.1215100535034, 763.5015907238864, 759.7858989755847, 729.6451239519247, 724.367685220243, 720.5436314705274, 708.3165145427274, 654.0138451666907, 17967.02048482115, 3999.7177924291204, 3267.464672950355, 2466.6016143112306, 1970.5194725548522, 1957.439212082747, 1906.998266214235, 1836.7214017225447, 1390.2697707261968, 1387.4504727804854, 1340.791468858234, 1288.7213024247862, 1243.278182181178, 1202.3789753135263, 1196.7871586928761, 931.983191407728, 920.1569769308544, 913.6483848990683, 852.7281312861063, 831.3141242493436, 789.232132195988, 737.6632893359182, 718.2098833732554, 641.396426674973, 611.9980672402686, 611.5862271734001, 592.5528225950496, 563.9764124630461, 552.7589595072044, 527.9760436498535, 4790.866484170309, 2455.197929080266, 1964.0227448075614, 1918.3001796628637, 1906.19027954364, 1900.369777695935, 1436.5212601449052, 1354.254488669415, 1342.7124390764066, 1258.7972849408354, 1222.0669915252513, 1208.277573093325, 1160.4806321077838, 985.1792645212076, 971.6444732687896, 942.158679382662, 919.5331980345759, 866.8617850798978, 838.2144000777778, 832.2776156938148, 817.2309312344767, 759.7224251417147, 754.9504516624601, 695.5936035042685, 694.7311188289033, 688.8826841480382, 633.3805669189675, 614.3794124211364, 604.4774561777773, 592.3840426051948, 9418.080396742325, 7524.104497809048, 2263.7213842673127, 2105.4012946703438, 1712.782803591033, 1710.6235688549634, 1626.1545048954063, 1405.4384005369134, 1351.203271140664, 1325.4197174209933, 1140.612435873795, 1122.9112417849817, 976.7812652694872, 947.0065472604834, 925.2802667255519, 920.1716592475317, 798.9372472464589, 751.0729089779992, 742.5606064556156, 729.2189752153344, 683.2833767427741, 643.3317714968164, 640.3825076344685, 630.2652113185964, 603.4791664388372, 573.47665842204, 550.9012485708608, 504.0328621589796, 493.34698164260345, 491.64644241086074, 8237.82363730277, 4493.691477856222, 2256.0988073737044, 2246.0654656611887, 1985.214641119348, 1760.9346545332842, 1662.9587847928842, 1541.280652060054, 1372.0127107948056, 1339.593324274253, 1154.0312337607568, 862.0043892683159, 792.8952402959136, 736.2053781309233, 717.7644595980903, 704.9556501086832, 605.8952203420052, 594.6453899560242, 593.3762759341472, 579.4649429518851, 577.3202461333259, 541.5789775581317, 519.3089137995918, 452.6176520572007, 445.9492773002185, 428.4691673324066, 419.2231005310186, 394.87692247890783, 378.819363024262, 359.22281763377447, 3206.436559825639, 2927.2113178809523, 2351.558820578496, 2152.054761766602, 1880.8641967754704, 1571.0227447763727, 1138.5580182136134, 1115.8591575794817, 1003.3062584368641, 984.3543155518076, 983.5525186150602, 981.8247111883829, 752.0278227655298, 733.1990907745278, 723.1119785523126, 715.2135905701206, 612.7200188104915, 608.0743173897727, 579.6797216388823, 576.8628383328504, 548.3861204273435, 548.1016861994965, 532.0968724521575, 529.9194189105708, 512.7636660382761, 514.1110080591932, 495.31532884760605, 493.50909746733174, 480.18428251260565, 474.9954799365669, 2802.1038472084892, 2288.4404918452738, 1686.7785586368925, 1546.1897112483666, 1219.5361746724925, 1164.9828787274705, 1160.4703967745274, 1117.070246094103, 1010.9656683689311, 1003.301779040901, 970.1290614189116, 955.2878265256987, 909.1208030428309, 904.5159115721422, 822.9972600579624, 665.5486849254714, 663.6200315959665, 652.8189547252578, 615.3624612486755, 606.1083507755761, 603.383675845372, 565.5958246094186, 533.6912655860035, 519.4209073396966, 508.40491646378723, 505.43046303567195, 504.09456309802755, 489.95252311071147, 477.4773823749659, 477.15060192082393, 2559.6798586249597, 2268.596829375742, 2221.394345814061, 2177.1921787099755, 1806.1035978427944, 1647.2737061364544, 1563.2355408183325, 1435.8689512878798, 977.1232772252072, 893.816852038139, 884.0800189238353, 866.48530813802, 854.9536089977044, 742.3472790469733, 684.55941551395, 668.5420715360967, 577.1326961792382, 564.0208165614472, 563.9110263248841, 529.2514439378846, 459.17944754377385, 458.54592363412286, 456.79671152133153, 450.2416462991095, 449.57225624487074, 448.87626218112894, 437.9228146492689, 427.78742546404726, 423.35203617722806, 396.7103320889016, 2926.220549320137, 2918.743151087112, 2182.491918781682, 1585.8703827932454, 1582.2872158771822, 1412.1801109105786, 1282.750358171546, 1062.928673833602, 945.7969874397515, 847.5401053273035, 823.1084004221877, 803.0091896438859, 768.4051455649058, 763.1571594175597, 756.7180015018672, 727.2340322993605, 679.9834080468345, 650.4329960117093, 607.2131406770545, 584.0928695424642, 580.2846094085876, 516.8500286308738, 471.5155336589346, 444.3860672640141, 402.22127703444613, 401.88546194251546, 385.9023697021722, 385.08813888235795, 349.59409334646807, 336.67908446870075, 2535.0370667552684, 1496.3810097158218, 1401.9198099851308, 1226.246662218999, 1043.3785156596323, 807.7641348115199, 754.0904940706289, 693.8083812946794, 631.9148047394228, 580.2194152174636, 442.8934592210273, 428.5714858058895, 419.1806203974984, 411.63479134281675, 370.917848767471, 362.78239259192276, 355.601370526533, 325.72259723420115, 321.94722312510106, 301.6463933523756, 300.1840858098725, 288.6278158923122, 282.43665781419264, 281.5133896733147, 276.7656631225619, 274.08957322770465, 267.2059530196966, 265.519125562402, 251.88670266010823, 249.32421809514028, 1527.9823706583263], \"Category\": [\"Default\", \"Default\", \"Default\", \"Default\", \"Default\", \"Default\", \"Default\", \"Default\", \"Default\", \"Default\", \"Default\", \"Default\", \"Default\", \"Default\", \"Default\", \"Default\", \"Default\", \"Default\", \"Default\", \"Default\", \"Default\", \"Default\", \"Default\", \"Default\", \"Default\", \"Default\", \"Default\", \"Default\", \"Default\", \"Default\", \"Topic1\", \"Topic1\", \"Topic1\", \"Topic1\", \"Topic1\", \"Topic1\", \"Topic1\", \"Topic1\", \"Topic1\", \"Topic1\", \"Topic1\", \"Topic1\", \"Topic1\", \"Topic1\", \"Topic1\", \"Topic1\", \"Topic1\", \"Topic1\", \"Topic1\", \"Topic1\", \"Topic1\", \"Topic1\", \"Topic1\", \"Topic1\", \"Topic1\", \"Topic1\", \"Topic1\", \"Topic1\", \"Topic1\", \"Topic1\", \"Topic2\", \"Topic2\", \"Topic2\", \"Topic2\", \"Topic2\", \"Topic2\", \"Topic2\", \"Topic2\", \"Topic2\", \"Topic2\", \"Topic2\", \"Topic2\", \"Topic2\", \"Topic2\", \"Topic2\", \"Topic2\", \"Topic2\", \"Topic2\", \"Topic2\", \"Topic2\", \"Topic2\", \"Topic2\", \"Topic2\", \"Topic2\", \"Topic2\", \"Topic2\", \"Topic2\", \"Topic2\", \"Topic2\", \"Topic2\", \"Topic3\", \"Topic3\", \"Topic3\", \"Topic3\", \"Topic3\", \"Topic3\", \"Topic3\", \"Topic3\", \"Topic3\", \"Topic3\", \"Topic3\", \"Topic3\", \"Topic3\", \"Topic3\", \"Topic3\", \"Topic3\", \"Topic3\", \"Topic3\", \"Topic3\", \"Topic3\", \"Topic3\", \"Topic3\", \"Topic3\", \"Topic3\", \"Topic3\", \"Topic3\", \"Topic3\", \"Topic3\", \"Topic3\", \"Topic3\", \"Topic4\", \"Topic4\", \"Topic4\", \"Topic4\", \"Topic4\", \"Topic4\", \"Topic4\", \"Topic4\", \"Topic4\", \"Topic4\", \"Topic4\", \"Topic4\", \"Topic4\", \"Topic4\", \"Topic4\", \"Topic4\", \"Topic4\", \"Topic4\", \"Topic4\", \"Topic4\", \"Topic4\", \"Topic4\", \"Topic4\", \"Topic4\", \"Topic4\", \"Topic4\", \"Topic4\", \"Topic4\", \"Topic4\", \"Topic4\", \"Topic5\", \"Topic5\", \"Topic5\", \"Topic5\", \"Topic5\", \"Topic5\", \"Topic5\", \"Topic5\", \"Topic5\", \"Topic5\", \"Topic5\", \"Topic5\", \"Topic5\", \"Topic5\", \"Topic5\", \"Topic5\", \"Topic5\", \"Topic5\", \"Topic5\", \"Topic5\", \"Topic5\", \"Topic5\", \"Topic5\", \"Topic5\", \"Topic5\", \"Topic5\", \"Topic5\", \"Topic5\", \"Topic5\", \"Topic5\", \"Topic6\", \"Topic6\", \"Topic6\", \"Topic6\", \"Topic6\", \"Topic6\", \"Topic6\", \"Topic6\", \"Topic6\", \"Topic6\", \"Topic6\", \"Topic6\", \"Topic6\", \"Topic6\", \"Topic6\", \"Topic6\", \"Topic6\", \"Topic6\", \"Topic6\", \"Topic6\", \"Topic6\", \"Topic6\", \"Topic6\", \"Topic6\", \"Topic6\", \"Topic6\", \"Topic6\", \"Topic6\", \"Topic6\", \"Topic6\", \"Topic7\", \"Topic7\", \"Topic7\", \"Topic7\", \"Topic7\", \"Topic7\", \"Topic7\", \"Topic7\", \"Topic7\", \"Topic7\", \"Topic7\", \"Topic7\", \"Topic7\", \"Topic7\", \"Topic7\", \"Topic7\", \"Topic7\", \"Topic7\", \"Topic7\", \"Topic7\", \"Topic7\", \"Topic7\", \"Topic7\", \"Topic7\", \"Topic7\", \"Topic7\", \"Topic7\", \"Topic7\", \"Topic7\", \"Topic7\", \"Topic8\", \"Topic8\", \"Topic8\", \"Topic8\", \"Topic8\", \"Topic8\", \"Topic8\", \"Topic8\", \"Topic8\", \"Topic8\", \"Topic8\", \"Topic8\", \"Topic8\", \"Topic8\", \"Topic8\", \"Topic8\", \"Topic8\", \"Topic8\", \"Topic8\", \"Topic8\", \"Topic8\", \"Topic8\", \"Topic8\", \"Topic8\", \"Topic8\", \"Topic8\", \"Topic8\", \"Topic8\", \"Topic8\", \"Topic8\", \"Topic9\", \"Topic9\", \"Topic9\", \"Topic9\", \"Topic9\", \"Topic9\", \"Topic9\", \"Topic9\", \"Topic9\", \"Topic9\", \"Topic9\", \"Topic9\", \"Topic9\", \"Topic9\", \"Topic9\", \"Topic9\", \"Topic9\", \"Topic9\", \"Topic9\", \"Topic9\", \"Topic9\", \"Topic9\", \"Topic9\", \"Topic9\", \"Topic9\", \"Topic9\", \"Topic9\", \"Topic9\", \"Topic9\", \"Topic9\", \"Topic10\", \"Topic10\", \"Topic10\", \"Topic10\", \"Topic10\", \"Topic10\", \"Topic10\", \"Topic10\", \"Topic10\", \"Topic10\", \"Topic10\", \"Topic10\", \"Topic10\", \"Topic10\", \"Topic10\", \"Topic10\", \"Topic10\", \"Topic10\", \"Topic10\", \"Topic10\", \"Topic10\", \"Topic10\", \"Topic10\", \"Topic10\", \"Topic10\", \"Topic10\", \"Topic10\", \"Topic10\", \"Topic10\", \"Topic10\", \"Topic10\"], \"logprob\": [30.0, 29.0, 28.0, 27.0, 26.0, 25.0, 24.0, 23.0, 22.0, 21.0, 20.0, 19.0, 18.0, 17.0, 16.0, 15.0, 14.0, 13.0, 12.0, 11.0, 10.0, 9.0, 8.0, 7.0, 6.0, 5.0, 4.0, 3.0, 2.0, 1.0, -2.8759, -2.9538, -3.1085, -3.4206, -3.7244, -3.7922, -3.7925, -3.945, -3.9666, -4.0311, -4.0687, -4.0921, -4.2429, -4.4039, -4.4191, -4.4201, -4.5513, -4.5722, -4.5779, -4.6821, -4.7594, -4.7984, -4.8288, -4.8336, -4.8385, -4.879, -4.8863, -4.8916, -4.9087, -4.9886, -1.5618, -3.0643, -3.2665, -3.5478, -3.7724, -3.7791, -3.8052, -3.8428, -4.1214, -4.1235, -4.1577, -4.1973, -4.2333, -4.2667, -4.2714, -4.5217, -4.5345, -4.5416, -4.6107, -4.6361, -4.6882, -4.7558, -4.7826, -4.8958, -4.9428, -4.9435, -4.9752, -5.0247, -5.0448, -5.0908, -2.6915, -3.3602, -3.5835, -3.6071, -3.6134, -3.6164, -3.8964, -3.9554, -3.964, -4.0286, -4.0582, -4.0696, -4.11, -4.2739, -4.2877, -4.3186, -4.3429, -4.402, -4.4356, -4.4427, -4.461, -4.534, -4.5403, -4.6223, -4.6236, -4.632, -4.7161, -4.7467, -4.7629, -4.7832, -2.0032, -2.2278, -3.4292, -3.5017, -3.7082, -3.7094, -3.7601, -3.9061, -3.9454, -3.9647, -4.115, -4.1307, -4.2702, -4.3012, -4.3244, -4.33, -4.4714, -4.5332, -4.5447, -4.5628, -4.628, -4.6883, -4.6929, -4.7088, -4.7523, -4.8034, -4.8436, -4.9327, -4.9542, -4.9576, -2.021, -2.6271, -3.3164, -3.3208, -3.4444, -3.5643, -3.6216, -3.6976, -3.814, -3.8379, -3.9872, -4.2792, -4.3629, -4.4371, -4.4625, -4.4806, -4.6322, -4.651, -4.6531, -4.6769, -4.6806, -4.7446, -4.7867, -4.9244, -4.9393, -4.9793, -5.0012, -5.0612, -5.1028, -5.156, -2.8898, -2.9809, -3.2, -3.2886, -3.4234, -3.6035, -3.9257, -3.9458, -4.0523, -4.0713, -4.0722, -4.0739, -4.3408, -4.3662, -4.3801, -4.3911, -4.546, -4.5536, -4.6015, -4.6064, -4.6571, -4.6576, -4.6873, -4.6914, -4.7244, -4.7217, -4.759, -4.7627, -4.7901, -4.801, -2.9208, -3.1233, -3.4285, -3.5156, -3.7531, -3.7989, -3.8028, -3.8409, -3.9408, -3.9484, -3.9821, -3.9975, -4.0471, -4.0522, -4.1467, -4.3593, -4.3622, -4.3787, -4.4378, -4.453, -4.4575, -4.5223, -4.5805, -4.6076, -4.6291, -4.635, -4.6376, -4.6661, -4.692, -4.6927, -2.9445, -3.0653, -3.0863, -3.1064, -3.2934, -3.3855, -3.4379, -3.5229, -3.9081, -3.9973, -4.0083, -4.0284, -4.0418, -4.1832, -4.2643, -4.2881, -4.4353, -4.4583, -4.4585, -4.522, -4.6643, -4.6657, -4.6695, -4.684, -4.6855, -4.6871, -4.7118, -4.7353, -4.7457, -4.8109, -2.7213, -2.7239, -3.0147, -3.3342, -3.3364, -3.4502, -3.5464, -3.7346, -3.8514, -3.9612, -3.9905, -4.0153, -4.0594, -4.0662, -4.0747, -4.1145, -4.1818, -4.2263, -4.2951, -4.334, -4.3406, -4.4565, -4.5485, -4.6079, -4.7078, -4.7086, -4.7493, -4.7514, -4.8484, -4.8861, -2.4608, -2.9882, -3.0535, -3.1875, -3.3491, -3.6053, -3.6741, -3.7576, -3.8511, -3.9366, -4.2072, -4.2401, -4.2623, -4.2805, -4.3849, -4.4072, -4.4272, -4.5152, -4.5269, -4.5922, -4.5971, -4.6365, -4.6583, -4.6615, -4.6786, -4.6884, -4.7139, -4.7202, -4.7731, -4.7834, -3.2369], \"loglift\": [30.0, 29.0, 28.0, 27.0, 26.0, 25.0, 24.0, 23.0, 22.0, 21.0, 20.0, 19.0, 18.0, 17.0, 16.0, 15.0, 14.0, 13.0, 12.0, 11.0, 10.0, 9.0, 8.0, 7.0, 6.0, 5.0, 4.0, 3.0, 2.0, 1.0, 1.8614, 1.8614, 1.8613, 1.8613, 1.8612, 1.8611, 1.8611, 1.8611, 1.861, 1.861, 1.861, 1.861, 1.8609, 1.8608, 1.8608, 1.8608, 1.8606, 1.8606, 1.8606, 1.8605, 1.8604, 1.8604, 1.8604, 1.8604, 1.8603, 1.8603, 1.8603, 1.8603, 1.8603, 1.8601, 1.9738, 1.9736, 1.9735, 1.9734, 1.9733, 1.9733, 1.9733, 1.9733, 1.9731, 1.9731, 1.9731, 1.9731, 1.9731, 1.973, 1.973, 1.9728, 1.9728, 1.9728, 1.9727, 1.9727, 1.9726, 1.9726, 1.9725, 1.9724, 1.9723, 1.9723, 1.9722, 1.9722, 1.9721, 1.972, 2.1659, 2.1657, 2.1656, 2.1656, 2.1656, 2.1656, 2.1654, 2.1654, 2.1654, 2.1653, 2.1653, 2.1653, 2.1653, 2.1651, 2.1651, 2.1651, 2.1651, 2.165, 2.165, 2.165, 2.165, 2.1649, 2.1649, 2.1648, 2.1648, 2.1647, 2.1646, 2.1646, 2.1646, 2.1645, 2.1782, 2.1782, 2.1779, 2.1779, 2.1778, 2.1778, 2.1778, 2.1777, 2.1777, 2.1776, 2.1775, 2.1775, 2.1774, 2.1774, 2.1773, 2.1773, 2.1772, 2.1771, 2.1771, 2.1771, 2.177, 2.1769, 2.1769, 2.1769, 2.1768, 2.1767, 2.1766, 2.1765, 2.1765, 2.1764, 2.2944, 2.2943, 2.2941, 2.2941, 2.294, 2.2939, 2.2939, 2.2939, 2.2938, 2.2938, 2.2937, 2.2934, 2.2933, 2.2932, 2.2932, 2.2931, 2.2929, 2.2929, 2.2929, 2.2929, 2.2929, 2.2927, 2.2927, 2.2924, 2.2924, 2.2923, 2.2922, 2.2921, 2.292, 2.2919, 2.3692, 2.3691, 2.3691, 2.369, 2.369, 2.3689, 2.3686, 2.3686, 2.3685, 2.3685, 2.3685, 2.3685, 2.3682, 2.3682, 2.3682, 2.3682, 2.368, 2.3679, 2.3679, 2.3679, 2.3678, 2.3678, 2.3677, 2.3677, 2.3677, 2.3677, 2.3676, 2.3676, 2.3675, 2.3675, 2.473, 2.4729, 2.4727, 2.4727, 2.4725, 2.4725, 2.4725, 2.4725, 2.4724, 2.4724, 2.4723, 2.4723, 2.4723, 2.4723, 2.4722, 2.4719, 2.4719, 2.4719, 2.4718, 2.4718, 2.4718, 2.4717, 2.4716, 2.4715, 2.4715, 2.4715, 2.4715, 2.4714, 2.4714, 2.4714, 2.5397, 2.5397, 2.5397, 2.5396, 2.5396, 2.5395, 2.5395, 2.5394, 2.5391, 2.539, 2.539, 2.539, 2.539, 2.5388, 2.5387, 2.5387, 2.5385, 2.5384, 2.5384, 2.5383, 2.5381, 2.5381, 2.5381, 2.538, 2.538, 2.538, 2.538, 2.5379, 2.5379, 2.5378, 2.6291, 2.6291, 2.6289, 2.6288, 2.6288, 2.6287, 2.6286, 2.6285, 2.6284, 2.6283, 2.6282, 2.6282, 2.6282, 2.6282, 2.6281, 2.6281, 2.628, 2.6279, 2.6278, 2.6278, 2.6278, 2.6276, 2.6274, 2.6273, 2.6271, 2.6271, 2.627, 2.627, 2.6267, 2.6266, 3.0331, 3.0328, 3.0328, 3.0327, 3.0325, 3.0323, 3.0322, 3.0321, 3.032, 3.0318, 3.0313, 3.0313, 3.0312, 3.0312, 3.0309, 3.0309, 3.0308, 3.0306, 3.0305, 3.0303, 3.0303, 3.0302, 3.0301, 3.0301, 3.0301, 3.03, 3.0299, 3.0299, 3.0297, 3.0297, 2.7632]}, \"token.table\": {\"Topic\": [7, 9, 4, 9, 7, 1, 9, 6, 4, 10, 6, 5, 9, 4, 4, 6, 9, 3, 9, 1, 7, 7, 10, 5, 10, 8, 3, 7, 7, 5, 10, 3, 8, 8, 3, 1, 1, 1, 6, 8, 7, 5, 1, 1, 5, 10, 8, 4, 8, 5, 3, 7, 9, 8, 10, 7, 7, 4, 2, 2, 8, 5, 7, 6, 5, 10, 4, 7, 1, 1, 10, 4, 7, 2, 1, 7, 1, 4, 2, 1, 5, 10, 2, 5, 2, 3, 5, 9, 10, 2, 5, 6, 9, 10, 9, 4, 3, 5, 9, 10, 6, 4, 1, 3, 7, 4, 3, 10, 2, 4, 8, 2, 2, 3, 1, 10, 4, 5, 2, 3, 8, 6, 1, 2, 3, 5, 6, 7, 8, 10, 9, 10, 10, 6, 5, 3, 9, 3, 3, 6, 4, 1, 7, 3, 4, 6, 6, 3, 10, 1, 4, 10, 2, 8, 6, 1, 2, 8, 9, 4, 10, 3, 5, 6, 9, 9, 2, 6, 7, 6, 3, 8, 7, 1, 1, 8, 7, 4, 3, 9, 2, 9, 10, 10, 7, 2, 3, 7, 2, 9, 6, 9, 10, 8, 6, 5, 5, 1, 5, 6, 5, 7, 7, 1, 2, 8, 9, 8, 3, 8, 7, 8, 8, 4, 3, 1, 8, 9, 7, 5, 5, 8, 2, 2, 6, 10, 10, 7, 2, 10, 6, 10, 6, 5, 4, 3, 2, 8, 9, 6, 9, 6, 5, 1, 4, 3, 3, 2, 1, 10, 4, 7, 5, 9, 8, 2, 3, 4, 2, 8, 3, 6, 5, 7, 1, 9, 2, 4, 3, 2, 5, 4, 1, 2, 3, 5, 2, 2, 6, 9, 7, 10, 1, 8, 1, 1, 4, 8, 9, 6, 8, 1, 9, 10, 10, 8, 6, 5, 4, 9, 8, 3, 4, 7, 5, 6, 4, 6], \"Freq\": [0.9990419169270285, 0.9983553669656834, 0.9979298838393792, 0.9976616632261972, 0.9995946499145218, 0.998141347101617, 0.9993342957470419, 0.9991600219682955, 0.9972697073404226, 0.9960554677418094, 0.9995405320719316, 0.9974795083142037, 0.9989066454397927, 0.9992450360943715, 0.9992059934037744, 0.9997623616413054, 0.9987432402307458, 0.999146623112579, 0.9969636687460929, 0.9984688591912885, 0.998767157192884, 0.9994296268694207, 0.9988348637513272, 0.9994234464487924, 0.9972335328236769, 0.9997343970095834, 0.9989426493367296, 0.9986518968525094, 0.9990656828208224, 0.9986443826522479, 0.9995909066700174, 0.9996371371873378, 0.9974314017099787, 0.9988504242490293, 0.99877018658532, 0.9997429786096662, 0.9996850652975661, 0.9986420282975969, 0.9985042573805863, 0.9987271095203903, 0.9992305528618438, 0.9989309452875328, 0.9981118908971939, 0.9988067465118913, 0.9995256301842141, 0.9946887706887946, 0.9991828094081068, 0.9983283824793857, 0.9982094439407179, 0.9986353778859631, 0.9984649164296582, 0.9987047463007578, 0.9981289455847658, 0.9988094461078266, 0.9977815563294137, 0.9978286552203605, 0.9990448059720078, 0.999463064004448, 0.998945054570949, 0.9978228337157846, 0.9972422668819831, 0.9977131476989273, 0.999175590098968, 0.999230048367981, 0.9976806016857002, 0.9986665332976717, 0.9985714982324964, 0.9989465540877532, 0.999761351742986, 0.9991437611467524, 0.9975254661631384, 0.99861634709872, 0.9981713652779113, 0.9990670492587841, 0.9993029913889052, 0.9995603454135861, 0.9997466808310335, 0.9992900398504996, 0.9999432023344097, 0.99934303905849, 0.9985224832414095, 0.9970578310447704, 0.9992903343235922, 0.9989146641562764, 0.9986269611841642, 0.998493777967242, 0.9991976340285289, 0.9981713480538021, 0.9978571155942167, 0.9981513486045575, 0.997082459126252, 0.9974723641322955, 0.9980021172208133, 0.9960247549190809, 0.9979829918161611, 0.99868514779098, 0.999336719050517, 0.9994692281562646, 0.9993627377348769, 0.9985523289966278, 0.9983031774198345, 0.9995429638892966, 0.9985380281496407, 0.9995120845182878, 0.9977859207630072, 0.998937127453453, 0.9998191383180532, 0.9981763223628174, 0.9994097002579319, 0.9987266949207175, 0.9988846073194284, 0.9997363778627477, 0.9994402960334177, 0.9985512058995107, 0.999636264286769, 0.9989833511825891, 0.9996354727794492, 0.9999000176091364, 0.9983691660256881, 0.9988029949840846, 0.9987783697168612, 0.9988248812044866, 0.023560481253778808, 0.003926746875629801, 0.18913830784283545, 0.009162409376469536, 0.007199035938654636, 0.0013089156252099339, 0.0026178312504198677, 0.7630978094973914, 0.9983031153046307, 0.9979826768663536, 0.9978248254057869, 0.9983645768392032, 0.9995129613250479, 0.9995858335809441, 0.9991864840565822, 0.9992101340208842, 0.9990736684427404, 0.9985106861330945, 0.9993344287030264, 0.9984498108500558, 0.9991896603818813, 0.9993666295992425, 0.9991688268126699, 0.998698046159007, 0.9995098815395682, 0.9976636058609748, 0.9971835043414488, 0.9986081036084323, 0.999109481773495, 0.9964797559746347, 0.9998577879191161, 0.9976354453970437, 0.9982332465637025, 0.9992662742373313, 0.9984192205918186, 0.9994524237586221, 0.9994150395930386, 0.9988268825246424, 0.9986787962000916, 0.9994201427031503, 0.9991064074085793, 0.998624158465696, 0.999164333995741, 0.9977967305952408, 0.9990414643964278, 0.9995098904011155, 0.998055886916014, 0.9988274186356554, 0.9991268960436288, 0.9978927458940271, 0.99770680596648, 0.9993018713082563, 0.9997006430377743, 0.9982558729053058, 0.9987882583498611, 0.9978411221137575, 0.9992792046516359, 0.9983006196106429, 0.999675323343555, 0.9991573377264512, 0.9984539619694838, 0.9980448656521355, 0.9988361740063119, 0.9984388215510693, 0.9987186727604719, 0.9987455101918687, 0.9997560958738776, 0.9968809389714942, 0.9998638489121822, 0.9991263065373402, 0.9954868033213028, 0.9990861080362533, 0.9986332649744926, 0.99783706139591, 0.9988348211670147, 0.9989994972328979, 0.9965959355203846, 0.9975336916352014, 0.9993881562758055, 0.9987025050008927, 0.9995384345900616, 0.9989656310065187, 0.9988531275564206, 0.998047875873696, 0.9986533967802792, 0.999226779294959, 0.999479260201917, 0.9994399118675621, 0.9991483239196021, 0.999394825490794, 0.998037373056947, 0.9998532054134324, 0.9994694030861168, 0.9993072227018678, 0.9997369169488322, 0.9995828922326376, 0.9975885979894146, 0.9988709223483553, 0.9991690987242704, 0.9991891736374179, 0.9989719258332551, 0.9991008237152275, 0.9984622318737704, 0.9984578773316367, 0.9983088633048782, 0.9991563148734477, 0.999820539231423, 0.9990540124541453, 0.9979385850416624, 0.998553894951331, 0.9989684132066776, 0.9977792511312061, 0.9979508039325939, 0.9978203200554713, 0.9990866731385999, 0.9992096259417914, 0.9971743121314615, 0.9994382418786968, 0.9985537764080756, 0.9982649835470061, 0.9989050149504862, 0.9990226813407344, 0.9991885006124498, 0.9989476233191689, 0.9990058564182543, 0.9987426309207441, 0.9996341141549926, 0.9978983550265953, 0.9998852848248462, 0.9998075143981924, 0.9992618794368028, 0.9984837206815398, 0.9993889620484049, 0.9993422734467373, 0.9987410410042579, 0.9992001635399184, 0.9983154180953723, 0.9981851094696502, 0.9990490933032813, 0.9973444616570493, 0.997871333471005, 0.9990001989778209, 0.9991158387403035, 0.9997746068255974, 0.9996072339975632, 0.99812175037992, 0.999322223040665, 0.9997756190434749, 0.9989349436463901, 0.9979925731329048, 0.9996506247516678, 0.9994765248443478, 0.9977547873622581, 0.9995570862712574, 0.9982686998224237, 0.9991461155561877, 0.9995861870738362, 0.9997453866103856, 0.997236619044601, 0.9978433556647198, 0.9992455259518178, 0.9981593066621978, 0.9997759627794794, 0.9996319370915333, 0.9996880684797385, 0.9981901083586407, 0.9977862424959076, 0.999348994290647, 0.9983844502370853, 0.9995460735080126, 0.9994511639774037, 0.999343892583171, 0.9990771002125427, 0.9968063548496503, 0.9979899966972634, 0.9983627148527717, 0.9989288544584536, 0.9990511637090143, 0.99937231054149, 0.9993755714965009, 0.9983640469626837, 0.999606064846744, 0.9998461225343063, 0.9979042328219633, 0.999681328156227, 0.9978389724363473], \"Term\": [\"acceler\", \"achiev\", \"action\", \"adopt\", \"advanc\", \"agreement\", \"aim\", \"also\", \"altern\", \"alway\", \"announc\", \"attend\", \"award\", \"back\", \"base\", \"batteri\", \"becom\", \"benefit\", \"big\", \"bill\", \"boost\", \"bring\", \"bu\", \"build\", \"burn\", \"busi\", \"call\", \"carbon\", \"cell\", \"challeng\", \"chang\", \"charg\", \"cheap\", \"check\", \"citi\", \"clean\", \"climat\", \"climate_chang\", \"close\", \"coal\", \"come\", \"commerci\", \"commit\", \"commun\", \"compani\", \"competit\", \"complet\", \"confer\", \"congratul\", \"contact\", \"continu\", \"contribut\", \"convers\", \"convert\", \"cooper\", \"corpor\", \"cost\", \"countri\", \"creat\", \"crisi\", \"current\", \"custom\", \"datum\", \"day\", \"deal\", \"deliv\", \"demand\", \"design\", \"develop\", \"discuss\", \"do\", \"drive\", \"earth\", \"econom\", \"economi\", \"effici\", \"electr\", \"emiss\", \"energi\", \"engin\", \"enough\", \"enter\", \"environ\", \"environment\", \"even\", \"event\", \"ever\", \"excit\", \"face\", \"facil\", \"fall\", \"famili\", \"fast\", \"feel\", \"fight\", \"financ\", \"find\", \"first\", \"fleet\", \"focu\", \"follow\", \"free\", \"friendli\", \"fuel\", \"full\", \"fund\", \"futur\", \"game\", \"gener\", \"get\", \"give\", \"global\", \"go\", \"goal\", \"good\", \"govern\", \"great\", \"green\", \"grid\", \"group\", \"grow\", \"growth\", \"hands_think\", \"hands_think\", \"hands_think\", \"hands_think\", \"hands_think\", \"hands_think\", \"hands_think\", \"hands_think\", \"happi\", \"head\", \"health\", \"hear\", \"help\", \"high\", \"home\", \"host\", \"hour\", \"huge\", \"hydrogen\", \"impact\", \"implement\", \"import\", \"includ\", \"increas\", \"industri\", \"infrastructur\", \"initi\", \"innov\", \"instal\", \"introduc\", \"invest\", \"issu\", \"job\", \"join\", \"keep\", \"know\", \"larg\", \"last\", \"late\", \"launch\", \"lead\", \"leader\", \"learn\", \"level\", \"life\", \"light\", \"line\", \"lithium\", \"live\", \"local\", \"long\", \"look\", \"make\", \"manag\", \"mani\", \"manufactur\", \"market\", \"matter\", \"meet\", \"mine\", \"miner\", \"miss\", \"move\", \"much\", \"nation\", \"natur\", \"need\", \"never\", \"news\", \"next\", \"night\", \"nuclear\", \"offer\", \"open\", \"oper\", \"opportun\", \"option\", \"order\", \"panel\", \"part\", \"partner\", \"path\", \"peopl\", \"perform\", \"place\", \"plan\", \"plant\", \"polici\", \"pollut\", \"port\", \"potenti\", \"power\", \"price\", \"produc\", \"product\", \"project\", \"propos\", \"proud\", \"provid\", \"reach\", \"read\", \"readi\", \"real\", \"realli\", \"recycl\", \"reduc\", \"renew\", \"report\", \"requir\", \"research\", \"resourc\", \"result\", \"right\", \"sale\", \"save\", \"say\", \"season\", \"sector\", \"secur\", \"see\", \"seek\", \"servic\", \"share\", \"shift\", \"ship\", \"show\", \"sign\", \"small\", \"solar\", \"solut\", \"sourc\", \"space\", \"start\", \"state\", \"station\", \"step\", \"still\", \"stop\", \"storag\", \"store\", \"strategi\", \"strong\", \"suppli\", \"support\", \"sustain\", \"switch\", \"system\", \"take\", \"talk\", \"target\", \"team\", \"technolog\", \"test\", \"thank\", \"thing\", \"think\", \"time\", \"today\", \"togeth\", \"total\", \"trade\", \"train\", \"transit\", \"transport\", \"truck\", \"turn\", \"updat\", \"use\", \"valu\", \"vehicl\", \"video\", \"visit\", \"want\", \"wast\", \"watch\", \"water\", \"week\", \"welcom\", \"well\", \"wind\", \"wind_turbin\", \"work\", \"world\", \"worth\", \"year\", \"zero_emiss\"]}, \"R\": 30, \"lambda.step\": 0.01, \"plot.opts\": {\"xlab\": \"PC1\", \"ylab\": \"PC2\"}, \"topic.order\": [2, 1, 8, 3, 7, 6, 9, 4, 10, 5]};\n",
       "\n",
       "function LDAvis_load_lib(url, callback){\n",
       "  var s = document.createElement('script');\n",
       "  s.src = url;\n",
       "  s.async = true;\n",
       "  s.onreadystatechange = s.onload = callback;\n",
       "  s.onerror = function(){console.warn(\"failed to load library \" + url);};\n",
       "  document.getElementsByTagName(\"head\")[0].appendChild(s);\n",
       "}\n",
       "\n",
       "if(typeof(LDAvis) !== \"undefined\"){\n",
       "   // already loaded: just create the visualization\n",
       "   !function(LDAvis){\n",
       "       new LDAvis(\"#\" + \"ldavis_el2580022359569648162945957881\", ldavis_el2580022359569648162945957881_data);\n",
       "   }(LDAvis);\n",
       "}else if(typeof define === \"function\" && define.amd){\n",
       "   // require.js is available: use it to load d3/LDAvis\n",
       "   require.config({paths: {d3: \"https://d3js.org/d3.v5\"}});\n",
       "   require([\"d3\"], function(d3){\n",
       "      window.d3 = d3;\n",
       "      LDAvis_load_lib(\"https://cdn.jsdelivr.net/gh/bmabey/pyLDAvis@3.3.1/pyLDAvis/js/ldavis.v3.0.0.js\", function(){\n",
       "        new LDAvis(\"#\" + \"ldavis_el2580022359569648162945957881\", ldavis_el2580022359569648162945957881_data);\n",
       "      });\n",
       "    });\n",
       "}else{\n",
       "    // require.js not available: dynamically load d3 & LDAvis\n",
       "    LDAvis_load_lib(\"https://d3js.org/d3.v5.js\", function(){\n",
       "         LDAvis_load_lib(\"https://cdn.jsdelivr.net/gh/bmabey/pyLDAvis@3.3.1/pyLDAvis/js/ldavis.v3.0.0.js\", function(){\n",
       "                 new LDAvis(\"#\" + \"ldavis_el2580022359569648162945957881\", ldavis_el2580022359569648162945957881_data);\n",
       "            })\n",
       "         });\n",
       "}\n",
       "</script>"
      ],
      "text/plain": [
       "PreparedData(topic_coordinates=              x         y  topics  cluster       Freq\n",
       "topic                                                \n",
       "1      0.102730 -0.110243       1        1  15.543152\n",
       "0     -0.408205 -0.186581       2        1  13.892441\n",
       "7      0.126178 -0.093578       3        1  11.462628\n",
       "2     -0.055542  0.123205       4        1  11.322904\n",
       "6     -0.095990  0.385961       5        1  10.081341\n",
       "5      0.091109 -0.051883       6        1   9.353261\n",
       "8      0.061074 -0.024347       7        1   8.430749\n",
       "3      0.072889 -0.032369       8        1   7.886148\n",
       "9      0.048400 -0.001914       9        1   7.212400\n",
       "4      0.057357 -0.008251      10        1   4.814974, topic_info=              Term          Freq         Total Category  logprob  loglift\n",
       "1350        energi  17967.000000  17967.000000  Default  30.0000  30.0000\n",
       "2018         solar   9418.000000   9418.000000  Default  29.0000  29.0000\n",
       "2024         green   8237.000000   8237.000000  Default  28.0000  28.0000\n",
       "262          power   7524.000000   7524.000000  Default  27.0000  27.0000\n",
       "23           futur   4790.000000   4790.000000  Default  26.0000  26.0000\n",
       "...            ...           ...           ...      ...      ...      ...\n",
       "1614         night    266.274322    267.205953  Topic10  -4.7139   3.0299\n",
       "955           miss    264.587517    265.519126  Topic10  -4.7202   3.0299\n",
       "757       introduc    250.955032    251.886703  Topic10  -4.7731   3.0297\n",
       "1109      competit    248.392601    249.324218  Topic10  -4.7834   3.0297\n",
       "20101  hands_think   1166.174471   1527.982371  Topic10  -3.2369   2.7632\n",
       "\n",
       "[331 rows x 6 columns], token_table=      Topic      Freq        Term\n",
       "term                             \n",
       "1235      7  0.999042     acceler\n",
       "737       9  0.998355      achiev\n",
       "1223      4  0.997930      action\n",
       "213       9  0.997662       adopt\n",
       "767       7  0.999595      advanc\n",
       "...     ...       ...         ...\n",
       "150       7  0.999606        work\n",
       "66        5  0.999846       world\n",
       "1753      6  0.997904       worth\n",
       "399       4  0.999681        year\n",
       "4666      6  0.997839  zero_emiss\n",
       "\n",
       "[308 rows x 3 columns], R=30, lambda_step=0.01, plot_opts={'xlab': 'PC1', 'ylab': 'PC2'}, topic_order=[2, 1, 8, 3, 7, 6, 9, 4, 10, 5])"
      ]
     },
     "execution_count": 68,
     "metadata": {},
     "output_type": "execute_result"
    }
   ],
   "source": [
    "visualisation"
   ]
  },
  {
   "cell_type": "code",
   "execution_count": 69,
   "metadata": {
    "executionInfo": {
     "elapsed": 32,
     "status": "ok",
     "timestamp": 1628346762109,
     "user": {
      "displayName": "Suresha HP",
      "photoUrl": "https://lh3.googleusercontent.com/a-/AOh14GhDcYnUbnw4-j1oQP34WV3tGEnUDo29hkB1Vthp8oQ=s64",
      "userId": "01744058822138121722"
     },
     "user_tz": -330
    },
    "id": "6Mhl792x_t-t"
   },
   "outputs": [],
   "source": [
    "pyLDAvis.save_html(visualisation, 'lda.html')"
   ]
  },
  {
   "cell_type": "markdown",
   "metadata": {
    "id": "9GUdIpWX4UEQ"
   },
   "source": [
    "### find optimal number of topics"
   ]
  },
  {
   "cell_type": "code",
   "execution_count": 70,
   "metadata": {
    "executionInfo": {
     "elapsed": 32,
     "status": "ok",
     "timestamp": 1628346762110,
     "user": {
      "displayName": "Suresha HP",
      "photoUrl": "https://lh3.googleusercontent.com/a-/AOh14GhDcYnUbnw4-j1oQP34WV3tGEnUDo29hkB1Vthp8oQ=s64",
      "userId": "01744058822138121722"
     },
     "user_tz": -330
    },
    "id": "vlEczppB3-bM"
   },
   "outputs": [],
   "source": [
    "def compute_coherence_values(dictionary, corpus, texts, limit, start=2, step=3):\n",
    "    \"\"\"\n",
    "    Compute c_v coherence for various number of topics\n",
    "\n",
    "    Parameters:\n",
    "    ----------\n",
    "    dictionary : Gensim dictionary\n",
    "    corpus : Gensim corpus\n",
    "    texts : List of input texts\n",
    "    limit : Max num of topics\n",
    "\n",
    "    Returns:\n",
    "    -------\n",
    "    model_list : List of LDA topic models\n",
    "    coherence_values : Coherence values corresponding to the LDA model with respective number of topics\n",
    "    \"\"\"\n",
    "    coherence_values = []\n",
    "    model_list = []\n",
    "    for num_topics in range(start, limit, step):\n",
    "        model = gensim.models.wrappers.LdaMallet(mallet_path, corpus=corpus_stemmed, num_topics=num_topics, id2word=id2word_stemmed)\n",
    "        model_list.append(model)\n",
    "        coherencemodel = CoherenceModel(model=model, texts=texts, dictionary=dictionary, coherence='c_v')\n",
    "        coherence_values.append(coherencemodel.get_coherence())\n",
    "\n",
    "    return model_list, coherence_values"
   ]
  },
  {
   "cell_type": "code",
   "execution_count": 71,
   "metadata": {
    "executionInfo": {
     "elapsed": 335987,
     "status": "ok",
     "timestamp": 1628347098066,
     "user": {
      "displayName": "Suresha HP",
      "photoUrl": "https://lh3.googleusercontent.com/a-/AOh14GhDcYnUbnw4-j1oQP34WV3tGEnUDo29hkB1Vthp8oQ=s64",
      "userId": "01744058822138121722"
     },
     "user_tz": -330
    },
    "id": "tB2oddzm4XwE"
   },
   "outputs": [],
   "source": [
    "model_list, coherence_values = compute_coherence_values(dictionary=id2word_stemmed, corpus=corpus_stemmed, texts=df['stemmed'], start=2, limit=26, step=3)"
   ]
  },
  {
   "cell_type": "code",
   "execution_count": 72,
   "metadata": {
    "colab": {
     "base_uri": "https://localhost:8080/",
     "height": 414
    },
    "executionInfo": {
     "elapsed": 36,
     "status": "ok",
     "timestamp": 1628347098069,
     "user": {
      "displayName": "Suresha HP",
      "photoUrl": "https://lh3.googleusercontent.com/a-/AOh14GhDcYnUbnw4-j1oQP34WV3tGEnUDo29hkB1Vthp8oQ=s64",
      "userId": "01744058822138121722"
     },
     "user_tz": -330
    },
    "id": "8_GJlUKu4bVq",
    "outputId": "476cf8be-d01b-4153-b525-df864dee718f"
   },
   "outputs": [
    {
     "data": {
      "image/png": "[encoded data removed]",
      "text/plain": [
       "<Figure size 576x432 with 1 Axes>"
      ]
     },
     "metadata": {
      "needs_background": "light"
     },
     "output_type": "display_data"
    }
   ],
   "source": [
    "# Show graph\n",
    "limit=26; start=2; step=3;\n",
    "x = range(start, limit, step)\n",
    "plt.figure(figsize=(8,6))\n",
    "plt.plot(x, coherence_values)\n",
    "plt.title('Coherence Score for different number of topics', fontsize=14, fontweight=\"bold\")\n",
    "plt.xlabel(\"Number of Topics\", fontsize=12)\n",
    "plt.ylabel(\"Coherence score\", fontsize=12)\n",
    "plt.tick_params(axis='both', labelsize=13)\n",
    "plt.legend([\"Coherence Values\"], loc='lower right')\n",
    "plt.show()"
   ]
  },
  {
   "cell_type": "code",
   "execution_count": 73,
   "metadata": {
    "colab": {
     "base_uri": "https://localhost:8080/"
    },
    "executionInfo": {
     "elapsed": 26,
     "status": "ok",
     "timestamp": 1628347098070,
     "user": {
      "displayName": "Suresha HP",
      "photoUrl": "https://lh3.googleusercontent.com/a-/AOh14GhDcYnUbnw4-j1oQP34WV3tGEnUDo29hkB1Vthp8oQ=s64",
      "userId": "01744058822138121722"
     },
     "user_tz": -330
    },
    "id": "v8zemnuT4fKG",
    "outputId": "0b67b03b-38d5-4501-e025-b4fd16f9e1bb"
   },
   "outputs": [
    {
     "name": "stdout",
     "output_type": "stream",
     "text": [
      "Num Topics = 2  has Coherence Value of 0.0897\n",
      "Num Topics = 5  has Coherence Value of 0.2135\n",
      "Num Topics = 8  has Coherence Value of 0.2742\n",
      "Num Topics = 11  has Coherence Value of 0.2847\n",
      "Num Topics = 14  has Coherence Value of 0.2909\n",
      "Num Topics = 17  has Coherence Value of 0.2998\n",
      "Num Topics = 20  has Coherence Value of 0.2917\n",
      "Num Topics = 23  has Coherence Value of 0.2951\n"
     ]
    }
   ],
   "source": [
    "# Print the coherence scores for different number of topics\n",
    "for m, cv in zip(x, coherence_values):\n",
    "    print(\"Num Topics =\", m, \" has Coherence Value of\", round(cv, 4))"
   ]
  },
  {
   "cell_type": "markdown",
   "metadata": {
    "id": "urFbgqXT40rj"
   },
   "source": [
    "### Optimal Model"
   ]
  },
  {
   "cell_type": "code",
   "execution_count": 74,
   "metadata": {
    "colab": {
     "base_uri": "https://localhost:8080/"
    },
    "executionInfo": {
     "elapsed": 597,
     "status": "ok",
     "timestamp": 1628347098648,
     "user": {
      "displayName": "Suresha HP",
      "photoUrl": "https://lh3.googleusercontent.com/a-/AOh14GhDcYnUbnw4-j1oQP34WV3tGEnUDo29hkB1Vthp8oQ=s64",
      "userId": "01744058822138121722"
     },
     "user_tz": -330
    },
    "id": "qFMQgtN942Zb",
    "outputId": "f13819b6-ff9d-4180-848d-73e622347d8f"
   },
   "outputs": [
    {
     "name": "stdout",
     "output_type": "stream",
     "text": [
      "[(0,\n",
      "  '0.188*\"electr\" + 0.113*\"vehicl\" + 0.044*\"car\" + 0.035*\"drive\" + '\n",
      "  '0.018*\"rang\" + 0.018*\"truck\" + 0.016*\"test\" + 0.016*\"road\" + 0.014*\"design\" '\n",
      "  '+ 0.012*\"long\"'),\n",
      " (1,\n",
      "  '0.060*\"make\" + 0.030*\"futur\" + 0.028*\"world\" + 0.024*\"today\" + 0.017*\"join\" '\n",
      "  '+ 0.017*\"work\" + 0.016*\"part\" + 0.016*\"learn\" + 0.013*\"chang\" + '\n",
      "  '0.013*\"govern\"'),\n",
      " (2,\n",
      "  '0.067*\"batteri\" + 0.057*\"energi\" + 0.026*\"green\" + 0.022*\"invest\" + '\n",
      "  '0.021*\"develop\" + 0.020*\"technolog\" + 0.020*\"manufactur\" + 0.017*\"build\" + '\n",
      "  '0.017*\"product\" + 0.016*\"mobil\"'),\n",
      " (3,\n",
      "  '0.032*\"news\" + 0.023*\"announc\" + 0.019*\"compani\" + 0.017*\"sell\" + '\n",
      "  '0.016*\"busi\" + 0.014*\"plan\" + 0.014*\"video\" + 0.013*\"larg\" + 0.013*\"free\" + '\n",
      "  '0.012*\"partner\"'),\n",
      " (4,\n",
      "  '0.094*\"charg\" + 0.050*\"power\" + 0.032*\"solar\" + 0.020*\"station\" + '\n",
      "  '0.018*\"charger\" + 0.017*\"fast\" + 0.016*\"solut\" + 0.015*\"system\" + '\n",
      "  '0.015*\"offer\" + 0.014*\"gener\"'),\n",
      " (5,\n",
      "  '0.035*\"market\" + 0.029*\"sale\" + 0.022*\"industri\" + 0.020*\"lithium\" + '\n",
      "  '0.020*\"price\" + 0.019*\"read\" + 0.019*\"year\" + 0.018*\"project\" + '\n",
      "  '0.018*\"demand\" + 0.018*\"share\"'),\n",
      " (6,\n",
      "  '0.036*\"time\" + 0.029*\"good\" + 0.023*\"great\" + 0.022*\"week\" + 0.022*\"peopl\" '\n",
      "  '+ 0.016*\"team\" + 0.015*\"mani\" + 0.013*\"give\" + 0.013*\"meet\" + '\n",
      "  '0.013*\"start\"'),\n",
      " (7,\n",
      "  '0.033*\"tesla\" + 0.024*\"year\" + 0.024*\"launch\" + 0.021*\"model\" + '\n",
      "  '0.019*\"cost\" + 0.018*\"show\" + 0.013*\"product\" + 0.013*\"full\" + '\n",
      "  '0.012*\"start\" + 0.012*\"auto\"')]\n"
     ]
    }
   ],
   "source": [
    "# Select the model and print the topics\n",
    "optimal_model = model_list[2]\n",
    "model_topics = optimal_model.show_topics(formatted=False)\n",
    "pprint(optimal_model.print_topics(num_words=10))"
   ]
  },
  {
   "cell_type": "markdown",
   "metadata": {
    "id": "YHoNtzaP48Yo"
   },
   "source": [
    "### Dominant Topic"
   ]
  },
  {
   "cell_type": "code",
   "execution_count": 75,
   "metadata": {
    "colab": {
     "base_uri": "https://localhost:8080/",
     "height": 769
    },
    "executionInfo": {
     "elapsed": 116470,
     "status": "ok",
     "timestamp": 1628347215112,
     "user": {
      "displayName": "Suresha HP",
      "photoUrl": "https://lh3.googleusercontent.com/a-/AOh14GhDcYnUbnw4-j1oQP34WV3tGEnUDo29hkB1Vthp8oQ=s64",
      "userId": "01744058822138121722"
     },
     "user_tz": -330
    },
    "id": "yhMQs91r4665",
    "outputId": "53bac3b3-e6a5-42f2-ab11-1ed29eefc0d0"
   },
   "outputs": [
    {
     "data": {
      "text/html": [
       "<div>\n",
       "<style scoped>\n",
       "    .dataframe tbody tr th:only-of-type {\n",
       "        vertical-align: middle;\n",
       "    }\n",
       "\n",
       "    .dataframe tbody tr th {\n",
       "        vertical-align: top;\n",
       "    }\n",
       "\n",
       "    .dataframe thead th {\n",
       "        text-align: right;\n",
       "    }\n",
       "</style>\n",
       "<table border=\"1\" class=\"dataframe\">\n",
       "  <thead>\n",
       "    <tr style=\"text-align: right;\">\n",
       "      <th></th>\n",
       "      <th>Document_No</th>\n",
       "      <th>Dominant_Topic</th>\n",
       "      <th>Topic_Perc_Contrib</th>\n",
       "      <th>Keywords</th>\n",
       "      <th>Text</th>\n",
       "    </tr>\n",
       "  </thead>\n",
       "  <tbody>\n",
       "    <tr>\n",
       "      <th>0</th>\n",
       "      <td>0</td>\n",
       "      <td>6.0</td>\n",
       "      <td>0.1422</td>\n",
       "      <td>time, good, great, week, peopl, team, mani, gi...</td>\n",
       "      <td>[round_collect]</td>\n",
       "    </tr>\n",
       "    <tr>\n",
       "      <th>1</th>\n",
       "      <td>1</td>\n",
       "      <td>6.0</td>\n",
       "      <td>0.1500</td>\n",
       "      <td>time, good, great, week, peopl, team, mani, gi...</td>\n",
       "      <td>[meet, simul, environ, understand, gener]</td>\n",
       "    </tr>\n",
       "    <tr>\n",
       "      <th>2</th>\n",
       "      <td>2</td>\n",
       "      <td>2.0</td>\n",
       "      <td>0.1513</td>\n",
       "      <td>batteri, energi, green, invest, develop, techn...</td>\n",
       "      <td>[research, paper, investig, fix, roadsid, improv]</td>\n",
       "    </tr>\n",
       "    <tr>\n",
       "      <th>3</th>\n",
       "      <td>3</td>\n",
       "      <td>4.0</td>\n",
       "      <td>0.1584</td>\n",
       "      <td>charg, power, solar, station, charger, fast, s...</td>\n",
       "      <td>[research, paper, investig, fix, roadsid, impr...</td>\n",
       "    </tr>\n",
       "    <tr>\n",
       "      <th>4</th>\n",
       "      <td>4</td>\n",
       "      <td>4.0</td>\n",
       "      <td>0.1506</td>\n",
       "      <td>charg, power, solar, station, charger, fast, s...</td>\n",
       "      <td>[american, driver, like, benefit, self_driv, t...</td>\n",
       "    </tr>\n",
       "    <tr>\n",
       "      <th>5</th>\n",
       "      <td>5</td>\n",
       "      <td>5.0</td>\n",
       "      <td>0.1334</td>\n",
       "      <td>market, sale, industri, lithium, price, read, ...</td>\n",
       "      <td>[latenc]</td>\n",
       "    </tr>\n",
       "    <tr>\n",
       "      <th>6</th>\n",
       "      <td>6</td>\n",
       "      <td>2.0</td>\n",
       "      <td>0.1513</td>\n",
       "      <td>batteri, energi, green, invest, develop, techn...</td>\n",
       "      <td>[research, paper, investig, fix, roadsid, improv]</td>\n",
       "    </tr>\n",
       "    <tr>\n",
       "      <th>7</th>\n",
       "      <td>7</td>\n",
       "      <td>4.0</td>\n",
       "      <td>0.1603</td>\n",
       "      <td>charg, power, solar, station, charger, fast, s...</td>\n",
       "      <td>[research, paper, investig, fix, roadsid, impr...</td>\n",
       "    </tr>\n",
       "    <tr>\n",
       "      <th>8</th>\n",
       "      <td>8</td>\n",
       "      <td>4.0</td>\n",
       "      <td>0.1525</td>\n",
       "      <td>charg, power, solar, station, charger, fast, s...</td>\n",
       "      <td>[american, driver, like, benefit, self_driv, t...</td>\n",
       "    </tr>\n",
       "    <tr>\n",
       "      <th>9</th>\n",
       "      <td>9</td>\n",
       "      <td>1.0</td>\n",
       "      <td>0.1907</td>\n",
       "      <td>make, futur, world, today, join, work, part, l...</td>\n",
       "      <td>[futur, transport, center, make, urban, mobil,...</td>\n",
       "    </tr>\n",
       "    <tr>\n",
       "      <th>10</th>\n",
       "      <td>10</td>\n",
       "      <td>0.0</td>\n",
       "      <td>0.1250</td>\n",
       "      <td>electr, vehicl, car, drive, rang, truck, test,...</td>\n",
       "      <td>[]</td>\n",
       "    </tr>\n",
       "    <tr>\n",
       "      <th>11</th>\n",
       "      <td>11</td>\n",
       "      <td>0.0</td>\n",
       "      <td>0.1713</td>\n",
       "      <td>electr, vehicl, car, drive, rang, truck, test,...</td>\n",
       "      <td>[regist, autonom, vehicl, bootcamp]</td>\n",
       "    </tr>\n",
       "    <tr>\n",
       "      <th>12</th>\n",
       "      <td>12</td>\n",
       "      <td>0.0</td>\n",
       "      <td>0.1368</td>\n",
       "      <td>electr, vehicl, car, drive, rang, truck, test,...</td>\n",
       "      <td>[semi, pass, truck]</td>\n",
       "    </tr>\n",
       "    <tr>\n",
       "      <th>13</th>\n",
       "      <td>13</td>\n",
       "      <td>3.0</td>\n",
       "      <td>0.1791</td>\n",
       "      <td>news, announc, compani, sell, busi, plan, vide...</td>\n",
       "      <td>[break, scale, limit, analog, comput, news]</td>\n",
       "    </tr>\n",
       "    <tr>\n",
       "      <th>14</th>\n",
       "      <td>14</td>\n",
       "      <td>1.0</td>\n",
       "      <td>0.1907</td>\n",
       "      <td>make, futur, world, today, join, work, part, l...</td>\n",
       "      <td>[futur, transport, center, make, urban, mobil,...</td>\n",
       "    </tr>\n",
       "  </tbody>\n",
       "</table>\n",
       "</div>"
      ],
      "text/plain": [
       "    Document_No  Dominant_Topic  Topic_Perc_Contrib  \\\n",
       "0             0             6.0              0.1422   \n",
       "1             1             6.0              0.1500   \n",
       "2             2             2.0              0.1513   \n",
       "3             3             4.0              0.1584   \n",
       "4             4             4.0              0.1506   \n",
       "5             5             5.0              0.1334   \n",
       "6             6             2.0              0.1513   \n",
       "7             7             4.0              0.1603   \n",
       "8             8             4.0              0.1525   \n",
       "9             9             1.0              0.1907   \n",
       "10           10             0.0              0.1250   \n",
       "11           11             0.0              0.1713   \n",
       "12           12             0.0              0.1368   \n",
       "13           13             3.0              0.1791   \n",
       "14           14             1.0              0.1907   \n",
       "\n",
       "                                             Keywords  \\\n",
       "0   time, good, great, week, peopl, team, mani, gi...   \n",
       "1   time, good, great, week, peopl, team, mani, gi...   \n",
       "2   batteri, energi, green, invest, develop, techn...   \n",
       "3   charg, power, solar, station, charger, fast, s...   \n",
       "4   charg, power, solar, station, charger, fast, s...   \n",
       "5   market, sale, industri, lithium, price, read, ...   \n",
       "6   batteri, energi, green, invest, develop, techn...   \n",
       "7   charg, power, solar, station, charger, fast, s...   \n",
       "8   charg, power, solar, station, charger, fast, s...   \n",
       "9   make, futur, world, today, join, work, part, l...   \n",
       "10  electr, vehicl, car, drive, rang, truck, test,...   \n",
       "11  electr, vehicl, car, drive, rang, truck, test,...   \n",
       "12  electr, vehicl, car, drive, rang, truck, test,...   \n",
       "13  news, announc, compani, sell, busi, plan, vide...   \n",
       "14  make, futur, world, today, join, work, part, l...   \n",
       "\n",
       "                                                 Text  \n",
       "0                                     [round_collect]  \n",
       "1           [meet, simul, environ, understand, gener]  \n",
       "2   [research, paper, investig, fix, roadsid, improv]  \n",
       "3   [research, paper, investig, fix, roadsid, impr...  \n",
       "4   [american, driver, like, benefit, self_driv, t...  \n",
       "5                                            [latenc]  \n",
       "6   [research, paper, investig, fix, roadsid, improv]  \n",
       "7   [research, paper, investig, fix, roadsid, impr...  \n",
       "8   [american, driver, like, benefit, self_driv, t...  \n",
       "9   [futur, transport, center, make, urban, mobil,...  \n",
       "10                                                 []  \n",
       "11                [regist, autonom, vehicl, bootcamp]  \n",
       "12                                [semi, pass, truck]  \n",
       "13        [break, scale, limit, analog, comput, news]  \n",
       "14  [futur, transport, center, make, urban, mobil,...  "
      ]
     },
     "execution_count": 75,
     "metadata": {},
     "output_type": "execute_result"
    }
   ],
   "source": [
    "def format_topics_sentences(ldamodel=ldamallet_stemmed, corpus=corpus_stemmed, texts=data):\n",
    "    # Init output\n",
    "    sent_topics_df = pd.DataFrame()\n",
    "\n",
    "    # Get main topic in each documen\n",
    "    for i, row in enumerate(ldamodel[corpus]):\n",
    "        row = sorted(row, key=lambda x: (x[1]), reverse=True)\n",
    "        # Get the Dominant topic, Perc Contribution and Keywords for each document\n",
    "        for j, (topic_num, prop_topic) in enumerate(row):\n",
    "            if j == 0:  # => dominant topic\n",
    "                wp = ldamodel.show_topic(topic_num)\n",
    "                topic_keywords = \", \".join([word for word, prop in wp])\n",
    "                sent_topics_df = sent_topics_df.append(pd.Series([int(topic_num), round(prop_topic,4), topic_keywords]), ignore_index=True)\n",
    "            else:\n",
    "                break\n",
    "    sent_topics_df.columns = ['Dominant_Topic', 'Perc_Contribution', 'Topic_Keywords']\n",
    "\n",
    "    # Add original text to the end of the output\n",
    "    contents = pd.Series(texts)\n",
    "    sent_topics_df = pd.concat([sent_topics_df, contents], axis=1)\n",
    "    return(sent_topics_df)\n",
    "\n",
    "\n",
    "df_topic_sents_keywords = format_topics_sentences(ldamodel=optimal_model, corpus=corpus_stemmed, texts=df['stemmed'])\n",
    "\n",
    "# Format\n",
    "df_dominant_topic = df_topic_sents_keywords.reset_index()\n",
    "df_dominant_topic.columns = ['Document_No', 'Dominant_Topic', 'Topic_Perc_Contrib', 'Keywords', 'Text']\n",
    "\n",
    "# Show\n",
    "df_dominant_topic.head(15)"
   ]
  },
  {
   "cell_type": "code",
   "execution_count": 76,
   "metadata": {
    "colab": {
     "base_uri": "https://localhost:8080/",
     "height": 589
    },
    "executionInfo": {
     "elapsed": 99,
     "status": "ok",
     "timestamp": 1628347215147,
     "user": {
      "displayName": "Suresha HP",
      "photoUrl": "https://lh3.googleusercontent.com/a-/AOh14GhDcYnUbnw4-j1oQP34WV3tGEnUDo29hkB1Vthp8oQ=s64",
      "userId": "01744058822138121722"
     },
     "user_tz": -330
    },
    "id": "tfIr5v7R5Fc8",
    "outputId": "864baefa-cda4-40e6-95fa-4ccda8a0edf5"
   },
   "outputs": [
    {
     "data": {
      "text/html": [
       "<div>\n",
       "<style scoped>\n",
       "    .dataframe tbody tr th:only-of-type {\n",
       "        vertical-align: middle;\n",
       "    }\n",
       "\n",
       "    .dataframe tbody tr th {\n",
       "        vertical-align: top;\n",
       "    }\n",
       "\n",
       "    .dataframe thead th {\n",
       "        text-align: right;\n",
       "    }\n",
       "</style>\n",
       "<table border=\"1\" class=\"dataframe\">\n",
       "  <thead>\n",
       "    <tr style=\"text-align: right;\">\n",
       "      <th></th>\n",
       "      <th>Document_No</th>\n",
       "      <th>Dominant_Topic</th>\n",
       "      <th>Topic_Perc_Contrib</th>\n",
       "      <th>Keywords</th>\n",
       "      <th>Text</th>\n",
       "    </tr>\n",
       "  </thead>\n",
       "  <tbody>\n",
       "    <tr>\n",
       "      <th>29</th>\n",
       "      <td>29</td>\n",
       "      <td>7.0</td>\n",
       "      <td>0.1623</td>\n",
       "      <td>tesla, year, launch, model, cost, show, produc...</td>\n",
       "      <td>[research, improv, train, infer, perform, deep...</td>\n",
       "    </tr>\n",
       "    <tr>\n",
       "      <th>37</th>\n",
       "      <td>37</td>\n",
       "      <td>7.0</td>\n",
       "      <td>0.1528</td>\n",
       "      <td>tesla, year, launch, model, cost, show, produc...</td>\n",
       "      <td>[build, real, self_driv, scratch]</td>\n",
       "    </tr>\n",
       "    <tr>\n",
       "      <th>45</th>\n",
       "      <td>45</td>\n",
       "      <td>7.0</td>\n",
       "      <td>0.1500</td>\n",
       "      <td>tesla, year, launch, model, cost, show, produc...</td>\n",
       "      <td>[ambiq, optim, featur, develop, neuralspot]</td>\n",
       "    </tr>\n",
       "    <tr>\n",
       "      <th>49</th>\n",
       "      <td>49</td>\n",
       "      <td>7.0</td>\n",
       "      <td>0.1473</td>\n",
       "      <td>tesla, year, launch, model, cost, show, produc...</td>\n",
       "      <td>[synsens, launch, speck, kit, audio, work]</td>\n",
       "    </tr>\n",
       "    <tr>\n",
       "      <th>70</th>\n",
       "      <td>70</td>\n",
       "      <td>7.0</td>\n",
       "      <td>0.1368</td>\n",
       "      <td>tesla, year, launch, model, cost, show, produc...</td>\n",
       "      <td>[look, speed, adopt, edg]</td>\n",
       "    </tr>\n",
       "    <tr>\n",
       "      <th>...</th>\n",
       "      <td>...</td>\n",
       "      <td>...</td>\n",
       "      <td>...</td>\n",
       "      <td>...</td>\n",
       "      <td>...</td>\n",
       "    </tr>\n",
       "    <tr>\n",
       "      <th>98656</th>\n",
       "      <td>98656</td>\n",
       "      <td>7.0</td>\n",
       "      <td>0.1713</td>\n",
       "      <td>tesla, year, launch, model, cost, show, produc...</td>\n",
       "      <td>[final, clap, season, missionh]</td>\n",
       "    </tr>\n",
       "    <tr>\n",
       "      <th>98667</th>\n",
       "      <td>98667</td>\n",
       "      <td>7.0</td>\n",
       "      <td>0.1447</td>\n",
       "      <td>tesla, year, launch, model, cost, show, produc...</td>\n",
       "      <td>[tomorrow, visit, vehicl, display, trade, show...</td>\n",
       "    </tr>\n",
       "    <tr>\n",
       "      <th>98668</th>\n",
       "      <td>98668</td>\n",
       "      <td>7.0</td>\n",
       "      <td>0.1447</td>\n",
       "      <td>tesla, year, launch, model, cost, show, produc...</td>\n",
       "      <td>[tomorrow, visit, vehicl, display, trade, show...</td>\n",
       "    </tr>\n",
       "    <tr>\n",
       "      <th>98714</th>\n",
       "      <td>98714</td>\n",
       "      <td>7.0</td>\n",
       "      <td>0.1500</td>\n",
       "      <td>tesla, year, launch, model, cost, show, produc...</td>\n",
       "      <td>[julian, show, first, practic, aviat, powertrain]</td>\n",
       "    </tr>\n",
       "    <tr>\n",
       "      <th>98717</th>\n",
       "      <td>98717</td>\n",
       "      <td>7.0</td>\n",
       "      <td>0.1347</td>\n",
       "      <td>tesla, year, launch, model, cost, show, produc...</td>\n",
       "      <td>[equipmak, showcas, build]</td>\n",
       "    </tr>\n",
       "  </tbody>\n",
       "</table>\n",
       "<p>10049 rows × 5 columns</p>\n",
       "</div>"
      ],
      "text/plain": [
       "       Document_No  Dominant_Topic  Topic_Perc_Contrib  \\\n",
       "29              29             7.0              0.1623   \n",
       "37              37             7.0              0.1528   \n",
       "45              45             7.0              0.1500   \n",
       "49              49             7.0              0.1473   \n",
       "70              70             7.0              0.1368   \n",
       "...            ...             ...                 ...   \n",
       "98656        98656             7.0              0.1713   \n",
       "98667        98667             7.0              0.1447   \n",
       "98668        98668             7.0              0.1447   \n",
       "98714        98714             7.0              0.1500   \n",
       "98717        98717             7.0              0.1347   \n",
       "\n",
       "                                                Keywords  \\\n",
       "29     tesla, year, launch, model, cost, show, produc...   \n",
       "37     tesla, year, launch, model, cost, show, produc...   \n",
       "45     tesla, year, launch, model, cost, show, produc...   \n",
       "49     tesla, year, launch, model, cost, show, produc...   \n",
       "70     tesla, year, launch, model, cost, show, produc...   \n",
       "...                                                  ...   \n",
       "98656  tesla, year, launch, model, cost, show, produc...   \n",
       "98667  tesla, year, launch, model, cost, show, produc...   \n",
       "98668  tesla, year, launch, model, cost, show, produc...   \n",
       "98714  tesla, year, launch, model, cost, show, produc...   \n",
       "98717  tesla, year, launch, model, cost, show, produc...   \n",
       "\n",
       "                                                    Text  \n",
       "29     [research, improv, train, infer, perform, deep...  \n",
       "37                     [build, real, self_driv, scratch]  \n",
       "45           [ambiq, optim, featur, develop, neuralspot]  \n",
       "49            [synsens, launch, speck, kit, audio, work]  \n",
       "70                             [look, speed, adopt, edg]  \n",
       "...                                                  ...  \n",
       "98656                    [final, clap, season, missionh]  \n",
       "98667  [tomorrow, visit, vehicl, display, trade, show...  \n",
       "98668  [tomorrow, visit, vehicl, display, trade, show...  \n",
       "98714  [julian, show, first, practic, aviat, powertrain]  \n",
       "98717                         [equipmak, showcas, build]  \n",
       "\n",
       "[10049 rows x 5 columns]"
      ]
     },
     "execution_count": 76,
     "metadata": {},
     "output_type": "execute_result"
    }
   ],
   "source": [
    "df_dominant_topic[df_dominant_topic.Dominant_Topic == 7.0]"
   ]
  },
  {
   "cell_type": "markdown",
   "metadata": {
    "id": "clFgqXq75JN6"
   },
   "source": [
    "### Total Topic Distrubution across documents "
   ]
  },
  {
   "cell_type": "code",
   "execution_count": 77,
   "metadata": {
    "colab": {
     "base_uri": "https://localhost:8080/",
     "height": 297
    },
    "executionInfo": {
     "elapsed": 915,
     "status": "ok",
     "timestamp": 1628347215972,
     "user": {
      "displayName": "Suresha HP",
      "photoUrl": "https://lh3.googleusercontent.com/a-/AOh14GhDcYnUbnw4-j1oQP34WV3tGEnUDo29hkB1Vthp8oQ=s64",
      "userId": "01744058822138121722"
     },
     "user_tz": -330
    },
    "id": "Lx1LjXSy5Kp4",
    "outputId": "ad45346d-7763-4e0c-e555-2a31e2a57192"
   },
   "outputs": [
    {
     "data": {
      "text/html": [
       "<div>\n",
       "<style scoped>\n",
       "    .dataframe tbody tr th:only-of-type {\n",
       "        vertical-align: middle;\n",
       "    }\n",
       "\n",
       "    .dataframe tbody tr th {\n",
       "        vertical-align: top;\n",
       "    }\n",
       "\n",
       "    .dataframe thead th {\n",
       "        text-align: right;\n",
       "    }\n",
       "</style>\n",
       "<table border=\"1\" class=\"dataframe\">\n",
       "  <thead>\n",
       "    <tr style=\"text-align: right;\">\n",
       "      <th></th>\n",
       "      <th>Dominant_Topic</th>\n",
       "      <th>percentage</th>\n",
       "      <th>Topic_Keywords</th>\n",
       "    </tr>\n",
       "  </thead>\n",
       "  <tbody>\n",
       "    <tr>\n",
       "      <th>0</th>\n",
       "      <td>0.0</td>\n",
       "      <td>0.1732</td>\n",
       "      <td>electr, vehicl, car, drive, rang, truck, test,...</td>\n",
       "    </tr>\n",
       "    <tr>\n",
       "      <th>1</th>\n",
       "      <td>1.0</td>\n",
       "      <td>0.1441</td>\n",
       "      <td>make, futur, world, today, join, work, part, l...</td>\n",
       "    </tr>\n",
       "    <tr>\n",
       "      <th>2</th>\n",
       "      <td>2.0</td>\n",
       "      <td>0.1284</td>\n",
       "      <td>batteri, energi, green, invest, develop, techn...</td>\n",
       "    </tr>\n",
       "    <tr>\n",
       "      <th>3</th>\n",
       "      <td>4.0</td>\n",
       "      <td>0.1195</td>\n",
       "      <td>charg, power, solar, station, charger, fast, s...</td>\n",
       "    </tr>\n",
       "    <tr>\n",
       "      <th>4</th>\n",
       "      <td>6.0</td>\n",
       "      <td>0.1150</td>\n",
       "      <td>time, good, great, week, peopl, team, mani, gi...</td>\n",
       "    </tr>\n",
       "    <tr>\n",
       "      <th>5</th>\n",
       "      <td>3.0</td>\n",
       "      <td>0.1108</td>\n",
       "      <td>news, announc, compani, sell, busi, plan, vide...</td>\n",
       "    </tr>\n",
       "    <tr>\n",
       "      <th>6</th>\n",
       "      <td>5.0</td>\n",
       "      <td>0.1071</td>\n",
       "      <td>market, sale, industri, lithium, price, read, ...</td>\n",
       "    </tr>\n",
       "    <tr>\n",
       "      <th>7</th>\n",
       "      <td>7.0</td>\n",
       "      <td>0.1018</td>\n",
       "      <td>tesla, year, launch, model, cost, show, produc...</td>\n",
       "    </tr>\n",
       "  </tbody>\n",
       "</table>\n",
       "</div>"
      ],
      "text/plain": [
       "   Dominant_Topic  percentage  \\\n",
       "0             0.0      0.1732   \n",
       "1             1.0      0.1441   \n",
       "2             2.0      0.1284   \n",
       "3             4.0      0.1195   \n",
       "4             6.0      0.1150   \n",
       "5             3.0      0.1108   \n",
       "6             5.0      0.1071   \n",
       "7             7.0      0.1018   \n",
       "\n",
       "                                      Topic_Keywords  \n",
       "0  electr, vehicl, car, drive, rang, truck, test,...  \n",
       "1  make, futur, world, today, join, work, part, l...  \n",
       "2  batteri, energi, green, invest, develop, techn...  \n",
       "3  charg, power, solar, station, charger, fast, s...  \n",
       "4  time, good, great, week, peopl, team, mani, gi...  \n",
       "5  news, announc, compani, sell, busi, plan, vide...  \n",
       "6  market, sale, industri, lithium, price, read, ...  \n",
       "7  tesla, year, launch, model, cost, show, produc...  "
      ]
     },
     "execution_count": 77,
     "metadata": {},
     "output_type": "execute_result"
    }
   ],
   "source": [
    "topic_counts = df_topic_sents_keywords['Dominant_Topic'].value_counts()\n",
    "topic_contribution = round(topic_counts/topic_counts.sum(), 4)\n",
    "topic_contribution = topic_contribution.rename_axis('Dominant_Topic').reset_index(name='percentage')\n",
    "\n",
    "topic_num_keywords = df_topic_sents_keywords[['Dominant_Topic', 'Topic_Keywords']].drop_duplicates()\n",
    "topic_num_keywords.index = range(len(topic_num_keywords))\n",
    "\n",
    "df_dominant_topics = pd.merge(topic_contribution, topic_num_keywords, how='inner', on='Dominant_Topic')\n",
    "df_dominant_topics"
   ]
  },
  {
   "cell_type": "code",
   "execution_count": 78,
   "metadata": {
    "colab": {
     "base_uri": "https://localhost:8080/",
     "height": 297
    },
    "executionInfo": {
     "elapsed": 55,
     "status": "ok",
     "timestamp": 1628347215976,
     "user": {
      "displayName": "Suresha HP",
      "photoUrl": "https://lh3.googleusercontent.com/a-/AOh14GhDcYnUbnw4-j1oQP34WV3tGEnUDo29hkB1Vthp8oQ=s64",
      "userId": "01744058822138121722"
     },
     "user_tz": -330
    },
    "id": "Q7VV_NZa5PQA",
    "outputId": "6557fd6b-997d-44b1-e1af-9978c575c615"
   },
   "outputs": [
    {
     "data": {
      "text/html": [
       "<div>\n",
       "<style scoped>\n",
       "    .dataframe tbody tr th:only-of-type {\n",
       "        vertical-align: middle;\n",
       "    }\n",
       "\n",
       "    .dataframe tbody tr th {\n",
       "        vertical-align: top;\n",
       "    }\n",
       "\n",
       "    .dataframe thead th {\n",
       "        text-align: right;\n",
       "    }\n",
       "</style>\n",
       "<table border=\"1\" class=\"dataframe\">\n",
       "  <thead>\n",
       "    <tr style=\"text-align: right;\">\n",
       "      <th></th>\n",
       "      <th>Topic_Num</th>\n",
       "      <th>Topic_Perc_Contrib</th>\n",
       "      <th>Keywords</th>\n",
       "      <th>Text</th>\n",
       "    </tr>\n",
       "  </thead>\n",
       "  <tbody>\n",
       "    <tr>\n",
       "      <th>0</th>\n",
       "      <td>0.0</td>\n",
       "      <td>0.2639</td>\n",
       "      <td>electr, vehicl, car, drive, rang, truck, test,...</td>\n",
       "      <td>[meat, slicer, anescra, electr, deli, food, sl...</td>\n",
       "    </tr>\n",
       "    <tr>\n",
       "      <th>1</th>\n",
       "      <td>1.0</td>\n",
       "      <td>0.2542</td>\n",
       "      <td>make, futur, world, today, join, work, part, l...</td>\n",
       "      <td>[tini, major, british, voter, fool, factual, p...</td>\n",
       "    </tr>\n",
       "    <tr>\n",
       "      <th>2</th>\n",
       "      <td>2.0</td>\n",
       "      <td>0.2708</td>\n",
       "      <td>batteri, energi, green, invest, develop, techn...</td>\n",
       "      <td>[know, renew, green, energi, clean, energi, so...</td>\n",
       "    </tr>\n",
       "    <tr>\n",
       "      <th>3</th>\n",
       "      <td>3.0</td>\n",
       "      <td>0.2438</td>\n",
       "      <td>news, announc, compani, sell, busi, plan, vide...</td>\n",
       "      <td>[sadden, sudden, demis, visionari, busi, leade...</td>\n",
       "    </tr>\n",
       "    <tr>\n",
       "      <th>4</th>\n",
       "      <td>4.0</td>\n",
       "      <td>0.2782</td>\n",
       "      <td>charg, power, solar, station, charger, fast, s...</td>\n",
       "      <td>[solarski, roof, turn, sunshin, mile, photovol...</td>\n",
       "    </tr>\n",
       "    <tr>\n",
       "      <th>5</th>\n",
       "      <td>5.0</td>\n",
       "      <td>0.2782</td>\n",
       "      <td>market, sale, industri, lithium, price, read, ...</td>\n",
       "      <td>[lithium, mine, market, grow, rapidli, go, tre...</td>\n",
       "    </tr>\n",
       "    <tr>\n",
       "      <th>6</th>\n",
       "      <td>6.0</td>\n",
       "      <td>0.2603</td>\n",
       "      <td>time, good, great, week, peopl, team, mani, gi...</td>\n",
       "      <td>[well, airpod, airpod, earli, black_friday, de...</td>\n",
       "    </tr>\n",
       "    <tr>\n",
       "      <th>7</th>\n",
       "      <td>7.0</td>\n",
       "      <td>0.2664</td>\n",
       "      <td>tesla, year, launch, model, cost, show, produc...</td>\n",
       "      <td>[speed, dodgi, danc, club, instant, mental, ar...</td>\n",
       "    </tr>\n",
       "  </tbody>\n",
       "</table>\n",
       "</div>"
      ],
      "text/plain": [
       "   Topic_Num  Topic_Perc_Contrib  \\\n",
       "0        0.0              0.2639   \n",
       "1        1.0              0.2542   \n",
       "2        2.0              0.2708   \n",
       "3        3.0              0.2438   \n",
       "4        4.0              0.2782   \n",
       "5        5.0              0.2782   \n",
       "6        6.0              0.2603   \n",
       "7        7.0              0.2664   \n",
       "\n",
       "                                            Keywords  \\\n",
       "0  electr, vehicl, car, drive, rang, truck, test,...   \n",
       "1  make, futur, world, today, join, work, part, l...   \n",
       "2  batteri, energi, green, invest, develop, techn...   \n",
       "3  news, announc, compani, sell, busi, plan, vide...   \n",
       "4  charg, power, solar, station, charger, fast, s...   \n",
       "5  market, sale, industri, lithium, price, read, ...   \n",
       "6  time, good, great, week, peopl, team, mani, gi...   \n",
       "7  tesla, year, launch, model, cost, show, produc...   \n",
       "\n",
       "                                                Text  \n",
       "0  [meat, slicer, anescra, electr, deli, food, sl...  \n",
       "1  [tini, major, british, voter, fool, factual, p...  \n",
       "2  [know, renew, green, energi, clean, energi, so...  \n",
       "3  [sadden, sudden, demis, visionari, busi, leade...  \n",
       "4  [solarski, roof, turn, sunshin, mile, photovol...  \n",
       "5  [lithium, mine, market, grow, rapidli, go, tre...  \n",
       "6  [well, airpod, airpod, earli, black_friday, de...  \n",
       "7  [speed, dodgi, danc, club, instant, mental, ar...  "
      ]
     },
     "execution_count": 78,
     "metadata": {},
     "output_type": "execute_result"
    }
   ],
   "source": [
    "# Group top 5 sentences under each topic\n",
    "sent_topics_sorteddf_mallet = pd.DataFrame()\n",
    "\n",
    "sent_topics_outdf_grpd = df_topic_sents_keywords.groupby('Dominant_Topic')\n",
    "\n",
    "for i, grp in sent_topics_outdf_grpd:\n",
    "    sent_topics_sorteddf_mallet = pd.concat([sent_topics_sorteddf_mallet, \n",
    "                                             grp.sort_values(['Perc_Contribution'], ascending=[0]).head(1)], \n",
    "                                            axis=0)\n",
    "\n",
    "# Reset Index    \n",
    "sent_topics_sorteddf_mallet.reset_index(drop=True, inplace=True)\n",
    "\n",
    "# Format\n",
    "sent_topics_sorteddf_mallet.columns = ['Topic_Num', \"Topic_Perc_Contrib\", \"Keywords\", \"Text\"]\n",
    "\n",
    "# Show\n",
    "sent_topics_sorteddf_mallet"
   ]
  },
  {
   "cell_type": "code",
   "execution_count": 79,
   "metadata": {
    "colab": {
     "base_uri": "https://localhost:8080/"
    },
    "executionInfo": {
     "elapsed": 52,
     "status": "ok",
     "timestamp": 1628347215978,
     "user": {
      "displayName": "Suresha HP",
      "photoUrl": "https://lh3.googleusercontent.com/a-/AOh14GhDcYnUbnw4-j1oQP34WV3tGEnUDo29hkB1Vthp8oQ=s64",
      "userId": "01744058822138121722"
     },
     "user_tz": -330
    },
    "id": "Ab00cKww5RUY",
    "outputId": "f236a073-b1ba-40b0-d38e-74b8690a2684"
   },
   "outputs": [
    {
     "name": "stdout",
     "output_type": "stream",
     "text": [
      "['well', 'airpod', 'airpod', 'earli', 'black_friday', 'deal', 'gift', 'card', 'free', 'deal', 'hunt', 'earli', 'airpod']\n"
     ]
    }
   ],
   "source": [
    "print(sent_topics_sorteddf_mallet['Text'][6])"
   ]
  },
  {
   "cell_type": "code",
   "execution_count": 80,
   "metadata": {
    "executionInfo": {
     "elapsed": 42,
     "status": "ok",
     "timestamp": 1628347215980,
     "user": {
      "displayName": "Suresha HP",
      "photoUrl": "https://lh3.googleusercontent.com/a-/AOh14GhDcYnUbnw4-j1oQP34WV3tGEnUDo29hkB1Vthp8oQ=s64",
      "userId": "01744058822138121722"
     },
     "user_tz": -330
    },
    "id": "mVJ_f_n-5Tlw"
   },
   "outputs": [],
   "source": [
    "# Number of Documents for Each Topic\n",
    "topic_counts = df_topic_sents_keywords['Dominant_Topic'].value_counts()\n",
    "\n",
    "# Percentage of Documents for Each Topic\n",
    "topic_contribution = round(topic_counts/topic_counts.sum(), 4)\n",
    "\n",
    "# Topic Number and Keywords\n",
    "topic_num_keywords = sent_topics_sorteddf_mallet[['Topic_Num', 'Keywords']]\n",
    "\n",
    "# Concatenate Column wise\n",
    "df_dominant_topics = pd.concat([topic_num_keywords, topic_counts.sort_index(), topic_contribution.sort_index()], axis=1)\n",
    "\n",
    "# Change Column names\n",
    "df_dominant_topics.columns = ['Topic', 'Topic_Keywords', 'Num_Tweets', 'Perc_Tweets']\n",
    "\n",
    "# Show\n",
    "df_dominant_topics['Perc_Tweets'] = df_dominant_topics['Perc_Tweets'] * 100"
   ]
  },
  {
   "cell_type": "code",
   "execution_count": 81,
   "metadata": {
    "executionInfo": {
     "elapsed": 43,
     "status": "ok",
     "timestamp": 1628347215982,
     "user": {
      "displayName": "Suresha HP",
      "photoUrl": "https://lh3.googleusercontent.com/a-/AOh14GhDcYnUbnw4-j1oQP34WV3tGEnUDo29hkB1Vthp8oQ=s64",
      "userId": "01744058822138121722"
     },
     "user_tz": -330
    },
    "id": "Xz8GFbc95Vaw"
   },
   "outputs": [],
   "source": [
    "df_dominant_topics['Text'] = sent_topics_sorteddf_mallet['Text']"
   ]
  },
  {
   "cell_type": "code",
   "execution_count": 82,
   "metadata": {
    "colab": {
     "base_uri": "https://localhost:8080/",
     "height": 297
    },
    "executionInfo": {
     "elapsed": 44,
     "status": "ok",
     "timestamp": 1628347215984,
     "user": {
      "displayName": "Suresha HP",
      "photoUrl": "https://lh3.googleusercontent.com/a-/AOh14GhDcYnUbnw4-j1oQP34WV3tGEnUDo29hkB1Vthp8oQ=s64",
      "userId": "01744058822138121722"
     },
     "user_tz": -330
    },
    "id": "RCasRCOz5XGM",
    "outputId": "68a36c53-59d2-456f-bae8-3a549972b21b"
   },
   "outputs": [
    {
     "data": {
      "text/html": [
       "<div>\n",
       "<style scoped>\n",
       "    .dataframe tbody tr th:only-of-type {\n",
       "        vertical-align: middle;\n",
       "    }\n",
       "\n",
       "    .dataframe tbody tr th {\n",
       "        vertical-align: top;\n",
       "    }\n",
       "\n",
       "    .dataframe thead th {\n",
       "        text-align: right;\n",
       "    }\n",
       "</style>\n",
       "<table border=\"1\" class=\"dataframe\">\n",
       "  <thead>\n",
       "    <tr style=\"text-align: right;\">\n",
       "      <th></th>\n",
       "      <th>Topic</th>\n",
       "      <th>Topic_Keywords</th>\n",
       "      <th>Num_Tweets</th>\n",
       "      <th>Perc_Tweets</th>\n",
       "      <th>Text</th>\n",
       "    </tr>\n",
       "  </thead>\n",
       "  <tbody>\n",
       "    <tr>\n",
       "      <th>0.0</th>\n",
       "      <td>0.0</td>\n",
       "      <td>electr, vehicl, car, drive, rang, truck, test,...</td>\n",
       "      <td>17104</td>\n",
       "      <td>17.32</td>\n",
       "      <td>[meat, slicer, anescra, electr, deli, food, sl...</td>\n",
       "    </tr>\n",
       "    <tr>\n",
       "      <th>1.0</th>\n",
       "      <td>1.0</td>\n",
       "      <td>make, futur, world, today, join, work, part, l...</td>\n",
       "      <td>14229</td>\n",
       "      <td>14.41</td>\n",
       "      <td>[tini, major, british, voter, fool, factual, p...</td>\n",
       "    </tr>\n",
       "    <tr>\n",
       "      <th>2.0</th>\n",
       "      <td>2.0</td>\n",
       "      <td>batteri, energi, green, invest, develop, techn...</td>\n",
       "      <td>12675</td>\n",
       "      <td>12.84</td>\n",
       "      <td>[know, renew, green, energi, clean, energi, so...</td>\n",
       "    </tr>\n",
       "    <tr>\n",
       "      <th>3.0</th>\n",
       "      <td>3.0</td>\n",
       "      <td>news, announc, compani, sell, busi, plan, vide...</td>\n",
       "      <td>10942</td>\n",
       "      <td>11.08</td>\n",
       "      <td>[sadden, sudden, demis, visionari, busi, leade...</td>\n",
       "    </tr>\n",
       "    <tr>\n",
       "      <th>4.0</th>\n",
       "      <td>4.0</td>\n",
       "      <td>charg, power, solar, station, charger, fast, s...</td>\n",
       "      <td>11801</td>\n",
       "      <td>11.95</td>\n",
       "      <td>[solarski, roof, turn, sunshin, mile, photovol...</td>\n",
       "    </tr>\n",
       "    <tr>\n",
       "      <th>5.0</th>\n",
       "      <td>5.0</td>\n",
       "      <td>market, sale, industri, lithium, price, read, ...</td>\n",
       "      <td>10572</td>\n",
       "      <td>10.71</td>\n",
       "      <td>[lithium, mine, market, grow, rapidli, go, tre...</td>\n",
       "    </tr>\n",
       "    <tr>\n",
       "      <th>6.0</th>\n",
       "      <td>6.0</td>\n",
       "      <td>time, good, great, week, peopl, team, mani, gi...</td>\n",
       "      <td>11355</td>\n",
       "      <td>11.50</td>\n",
       "      <td>[well, airpod, airpod, earli, black_friday, de...</td>\n",
       "    </tr>\n",
       "    <tr>\n",
       "      <th>7.0</th>\n",
       "      <td>7.0</td>\n",
       "      <td>tesla, year, launch, model, cost, show, produc...</td>\n",
       "      <td>10049</td>\n",
       "      <td>10.18</td>\n",
       "      <td>[speed, dodgi, danc, club, instant, mental, ar...</td>\n",
       "    </tr>\n",
       "  </tbody>\n",
       "</table>\n",
       "</div>"
      ],
      "text/plain": [
       "     Topic                                     Topic_Keywords  Num_Tweets  \\\n",
       "0.0    0.0  electr, vehicl, car, drive, rang, truck, test,...       17104   \n",
       "1.0    1.0  make, futur, world, today, join, work, part, l...       14229   \n",
       "2.0    2.0  batteri, energi, green, invest, develop, techn...       12675   \n",
       "3.0    3.0  news, announc, compani, sell, busi, plan, vide...       10942   \n",
       "4.0    4.0  charg, power, solar, station, charger, fast, s...       11801   \n",
       "5.0    5.0  market, sale, industri, lithium, price, read, ...       10572   \n",
       "6.0    6.0  time, good, great, week, peopl, team, mani, gi...       11355   \n",
       "7.0    7.0  tesla, year, launch, model, cost, show, produc...       10049   \n",
       "\n",
       "     Perc_Tweets                                               Text  \n",
       "0.0        17.32  [meat, slicer, anescra, electr, deli, food, sl...  \n",
       "1.0        14.41  [tini, major, british, voter, fool, factual, p...  \n",
       "2.0        12.84  [know, renew, green, energi, clean, energi, so...  \n",
       "3.0        11.08  [sadden, sudden, demis, visionari, busi, leade...  \n",
       "4.0        11.95  [solarski, roof, turn, sunshin, mile, photovol...  \n",
       "5.0        10.71  [lithium, mine, market, grow, rapidli, go, tre...  \n",
       "6.0        11.50  [well, airpod, airpod, earli, black_friday, de...  \n",
       "7.0        10.18  [speed, dodgi, danc, club, instant, mental, ar...  "
      ]
     },
     "execution_count": 82,
     "metadata": {},
     "output_type": "execute_result"
    }
   ],
   "source": [
    "df_dominant_topics"
   ]
  },
  {
   "cell_type": "code",
   "execution_count": 83,
   "metadata": {
    "colab": {
     "base_uri": "https://localhost:8080/",
     "height": 431
    },
    "executionInfo": {
     "elapsed": 43,
     "status": "ok",
     "timestamp": 1628347215986,
     "user": {
      "displayName": "Suresha HP",
      "photoUrl": "https://lh3.googleusercontent.com/a-/AOh14GhDcYnUbnw4-j1oQP34WV3tGEnUDo29hkB1Vthp8oQ=s64",
      "userId": "01744058822138121722"
     },
     "user_tz": -330
    },
    "id": "oVGxdrtV5ZOQ",
    "outputId": "0941a113-c0ea-49f7-be5c-3ffc6f5a7110"
   },
   "outputs": [
    {
     "name": "stdout",
     "output_type": "stream",
     "text": [
      "Total Tweets 98727\n"
     ]
    },
    {
     "data": {
      "image/png": "[encoded data removed]",
      "text/plain": [
       "<Figure size 576x432 with 1 Axes>"
      ]
     },
     "metadata": {},
     "output_type": "display_data"
    }
   ],
   "source": [
    "sns.set_style(\"white\")\n",
    "label = ['Topic 0', 'Topic 1', 'Topic 2', 'Topic 3', 'Topic 4', 'Topic 5', 'Topic 6', 'Topic 7']\n",
    "freq = df_dominant_topics['Num_Tweets']\n",
    "index = np.arange(len(freq))\n",
    "\n",
    "print(\"Total Tweets\", df_dominant_topics['Num_Tweets'].sum())\n",
    "plt.figure(figsize=(8,6), facecolor='white')\n",
    "plt.bar(index, freq, alpha=0.8, color= 'green', width=0.7)\n",
    "plt.xlabel('Topics', fontsize=13)\n",
    "plt.ylabel('Number of Tweets', fontsize=13)\n",
    "plt.xticks(index, label, fontsize=11, fontweight=\"bold\")\n",
    "plt.tick_params(axis='both', which='major', labelsize=12)\n",
    "plt.title('Topic Distribution', fontsize=14, fontweight=\"bold\")\n",
    "plt.show()"
   ]
  },
  {
   "cell_type": "markdown",
   "metadata": {
    "id": "197ak7jA5eBp"
   },
   "source": [
    "### Save Results"
   ]
  },
  {
   "cell_type": "code",
   "execution_count": 84,
   "metadata": {
    "executionInfo": {
     "elapsed": 673,
     "status": "ok",
     "timestamp": 1628347216626,
     "user": {
      "displayName": "Suresha HP",
      "photoUrl": "https://lh3.googleusercontent.com/a-/AOh14GhDcYnUbnw4-j1oQP34WV3tGEnUDo29hkB1Vthp8oQ=s64",
      "userId": "01744058822138121722"
     },
     "user_tz": -330
    },
    "id": "vh2CzhBf5c_5"
   },
   "outputs": [],
   "source": [
    "df_dominant_topics.to_pickle('./topic_modelling_gensim_results.pkl')"
   ]
  }
 ],
 "metadata": {
  "accelerator": "GPU",
  "colab": {
   "authorship_tag": "ABX9TyNX8Mp9qUskqnWVcAR5tyBx",
   "collapsed_sections": [],
   "mount_file_id": "1s10-civGfzCkrJnS9BZIeOayX-dfo36k",
   "name": "Twitter_Topicmodeling_04Jul2021_2.ipynb",
   "provenance": []
  },
  "kernelspec": {
   "display_name": "Python 3 (ipykernel)",
   "language": "python",
   "name": "python3"
  },
  "language_info": {
   "codemirror_mode": {
    "name": "ipython",
    "version": 3
   },
   "file_extension": ".py",
   "mimetype": "text/x-python",
   "name": "python",
   "nbconvert_exporter": "python",
   "pygments_lexer": "ipython3",
   "version": "3.9.6"
  }
 },
 "nbformat": 4,
 "nbformat_minor": 1
}
